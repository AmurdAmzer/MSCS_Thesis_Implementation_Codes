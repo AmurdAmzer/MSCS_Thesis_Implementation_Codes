{
  "nbformat": 4,
  "nbformat_minor": 0,
  "metadata": {
    "colab": {
      "provenance": [],
      "authorship_tag": "ABX9TyOYGFb3EQNgxiIU7MIJLGuB",
      "include_colab_link": true
    },
    "kernelspec": {
      "name": "python3",
      "display_name": "Python 3"
    },
    "language_info": {
      "name": "python"
    }
  },
  "cells": [
    {
      "cell_type": "markdown",
      "metadata": {
        "id": "view-in-github",
        "colab_type": "text"
      },
      "source": [
        "<a href=\"https://colab.research.google.com/github/AmurdAmzer/SAKT-Paper_Implementation/blob/main/SAKTPaperImplementation.ipynb\" target=\"_parent\"><img src=\"https://colab.research.google.com/assets/colab-badge.svg\" alt=\"Open In Colab\"/></a>"
      ]
    },
    {
      "cell_type": "markdown",
      "source": [
        "# Cell 1: Uploading data via Colab's File Browser"
      ],
      "metadata": {
        "id": "r3Mjf06XlwkI"
      }
    },
    {
      "cell_type": "code",
      "source": [
        "# Cell 1: Uploading data via Colab's File Browser\n",
        "\n",
        "# os stands for \"Operating System\" - it's like a special toolkit that lets your Python code talk to your computer's file system.\n",
        "import os\n",
        "print(\"Files in current directory:\")\n",
        "for file in os.listdir():\n",
        "  if file.endswith(\".csv\"):\n",
        "    print(f\" - {file}\")"
      ],
      "metadata": {
        "colab": {
          "base_uri": "https://localhost:8080/"
        },
        "id": "LacccNggl2gy",
        "outputId": "a0c6b985-d021-453f-cb77-843c3a8ad379"
      },
      "execution_count": 42,
      "outputs": [
        {
          "output_type": "stream",
          "name": "stdout",
          "text": [
            "Files in current directory:\n",
            " - skill_builder_data_corrected_collapsed.csv\n"
          ]
        }
      ]
    },
    {
      "cell_type": "markdown",
      "source": [
        "#Cell 2: Imports and File upload"
      ],
      "metadata": {
        "id": "soB_jKNd5A3M"
      }
    },
    {
      "cell_type": "code",
      "execution_count": 43,
      "metadata": {
        "id": "l7PycBC01iR8",
        "colab": {
          "base_uri": "https://localhost:8080/"
        },
        "outputId": "8dc1a780-3d95-4349-b257-4654c16172a4"
      },
      "outputs": [
        {
          "output_type": "stream",
          "name": "stdout",
          "text": [
            "Dataset shape: (346860, 31)\n",
            "\n",
            "Column names: ['Unnamed: 0', 'order_id', 'assignment_id', 'user_id', 'assistment_id', 'problem_id', 'original', 'correct', 'attempt_count', 'ms_first_response', 'tutor_mode', 'answer_type', 'sequence_id', 'student_class_id', 'position', 'type', 'base_sequence_id', 'skill_id', 'skill_name', 'teacher_id', 'school_id', 'hint_count', 'hint_total', 'overlap_time', 'template_id', 'answer_id', 'answer_text', 'first_action', 'bottom_hint', 'opportunity', 'opportunity_original']\n",
            "\n",
            "First 5 rows:    Unnamed: 0  order_id  assignment_id  user_id  assistment_id  problem_id  \\\n",
            "0           1  33022537         277618    64525          33139       51424   \n",
            "1           2  33022709         277618    64525          33150       51435   \n",
            "2           3  35450204         220674    70363          33159       51444   \n",
            "3           4  35450295         220674    70363          33110       51395   \n",
            "4           5  35450311         220674    70363          33196       51481   \n",
            "\n",
            "   original  correct  attempt_count  ms_first_response  ... hint_count  \\\n",
            "0         1        1              1              32454  ...          0   \n",
            "1         1        1              1               4922  ...          0   \n",
            "2         1        0              2              25390  ...          0   \n",
            "3         1        1              1               4859  ...          0   \n",
            "4         1        0             14              19813  ...          3   \n",
            "\n",
            "  hint_total  overlap_time  template_id  answer_id answer_text  first_action  \\\n",
            "0          3         32454        30799        NaN          26             0   \n",
            "1          3          4922        30799        NaN          55             0   \n",
            "2          3         42000        30799        NaN          88             0   \n",
            "3          3          4859        30059        NaN          41             0   \n",
            "4          4        124564        30060        NaN          65             0   \n",
            "\n",
            "  bottom_hint opportunity  opportunity_original  \n",
            "0         NaN           1                   1.0  \n",
            "1         NaN           2                   2.0  \n",
            "2         NaN           1                   1.0  \n",
            "3         NaN           2                   2.0  \n",
            "4         0.0           3                   3.0  \n",
            "\n",
            "[5 rows x 31 columns]\n"
          ]
        }
      ],
      "source": [
        "# Cell 2: Imports and File upload (df = pd.read_csv(....)) opens the spreadsheet(data) and puts it into a \"DataFrame\"\n",
        "import pandas as pd\n",
        "import numpy as np\n",
        "import matplotlib.pyplot as plt\n",
        "import seaborn as sns\n",
        "\n",
        "# Load the CSV file (Remember to use the actual file name)\n",
        "# encoding='ISO-8859-1' handles special characters in the data\n",
        "# low_memory=False prevents dtype warnings for mixed types\n",
        "\n",
        "# I choose to call my loaded data df, df can mean DataFrame, df is just a variable name, I can choose to name my uploaded data anything.\n",
        "# low_memory=False tells the computer \"take your time reading this properly, don't rush\"\n",
        "# encoding='ISO-8859-1' = Like telling your computer \"hey, this file might have special characters like currency symbols ($ etc.)\".\n",
        "#  Real-Life Analogy\n",
        "\"\"\"\n",
        "It's like telling your computer:\n",
        "When you read this file, treat these bytes or symbols as Latin-style letters — not random gibberish.\"\n",
        "\n",
        "If you don't specify the correct encoding, Python might fail to read the file\n",
        "\"\"\"\n",
        "\n",
        "df = pd.read_csv('skill_builder_data_corrected_collapsed.csv', encoding='ISO-8859-1', low_memory=False)\n",
        "\n",
        "# Show basic information about the dataset\n",
        "print(f\"Dataset shape: {df.shape}\") # (rows, columns)\n",
        "print(f\"\\nColumn names: {list(df.columns)}\") # all column names\n",
        "print(f\"\\nFirst 5 rows: {df.head()}\") # preview first 5 rows. head() has a default parameter built in df.head(n=5). you could specify by df.head(5) etc.\n"
      ]
    },
    {
      "cell_type": "markdown",
      "source": [
        "# Cell3: Key Statistics - Understanding the dataset size and scope"
      ],
      "metadata": {
        "id": "Ir9cX3Pr5Ncc"
      }
    },
    {
      "cell_type": "code",
      "source": [
        "# Cell 3: Key Statistics - Understanding the dataset size and scope\n",
        "\n",
        "print(\"===DATASET OVERVIEW===\")\n",
        "\n",
        "# Count total number of student interactions = number of rows\n",
        "print(f\"Toatal interactions: {len(df)}\")\n",
        "\n",
        "# Count unique students - each student has a unique user_id\n",
        "print(f\"Unique students: {df['user_id'].nunique()}\") # df['user_id] = access the user id column. nunique = count how many unique values are in that column\n",
        "\n",
        "# Count unique problems - individual questions students attempted\n",
        "print(f\"Unique problems: {df['problem_id'].nunique()}\")\n",
        "\n",
        "# Count unique skills - knowledge concepts being tested. this is crucial because I will create embeddings for each skill\n",
        "print(f\"Unique skills: {df['skill_id'].nunique()}\")\n",
        "\n",
        "# Calculate overall performance - percentage of correct answers\n",
        "print(f\"\\nCorrect rate: {df['correct'].mean():.2%}\")  # .2% means format the number as percentage with two decimal places, so for eg. 0.825641 becomes 82.56%\n",
        "\n",
        "# Check data completeness for skill_id (Critical for SAKT)\n",
        "# NB. SAKT needs skill_id to work - rows without the skill_id must be removed\n",
        "print(f\"Rows with skill_id: {df['skill_id'].notna().sum()}\")\n",
        "print(f\"Rows missing skill_id: {df['skill_id'].isna().sum()} ({df['skill_id'].isna().mean():.1%})\")\n"
      ],
      "metadata": {
        "colab": {
          "base_uri": "https://localhost:8080/"
        },
        "id": "cqUdL-mz24hc",
        "outputId": "c4ae7002-03df-4816-c27d-cb1c3b2fe770"
      },
      "execution_count": 44,
      "outputs": [
        {
          "output_type": "stream",
          "name": "stdout",
          "text": [
            "===DATASET OVERVIEW===\n",
            "Toatal interactions: 346860\n",
            "Unique students: 4217\n",
            "Unique problems: 26688\n",
            "Unique skills: 149\n",
            "\n",
            "Correct rate: 64.53%\n",
            "Rows with skill_id: 283105\n",
            "Rows missing skill_id: 63755 (18.4%)\n"
          ]
        }
      ]
    },
    {
      "cell_type": "markdown",
      "source": [
        "# CELL 4: Examine One Student's Learning Journey (Creating a case study).\n",
        "# Before SAKT learns from all students, you want to see what one student's learning path looks like\n",
        "# This helps to understand the sequential nature of the data"
      ],
      "metadata": {
        "id": "QhKU22wsrOMe"
      }
    },
    {
      "cell_type": "code",
      "source": [
        "# Cell 4: Examine One Student's (random) Learning Journey\n",
        "# This helps us understand the sequential nature of the data\n",
        "\n",
        "# Find students sorted by number of attempts (most active students)\n",
        "student_activity = df['user_id'].value_counts()\n",
        "\n",
        "# Pick the 11th most active student (avoid outliers)\n",
        "student_id = student_activity.index[20]\n",
        "\n",
        "# Get all data for this student, sorted by time\n",
        "# Order_id represents the sequence of attempsts\n",
        "\n",
        "student_data = df[df['user_id'] == student_id].sort_values('order_id')\n",
        "\n",
        "# Display student summary\n",
        "print(f\"Student {student_id} attempted {len(student_data)} problems\")\n",
        "print(f\"Skills attempted: {student_data['skill_id'].nunique()}\")\n",
        "print(f\"Correct rate: {student_data['correct'].mean():.2%}\")\n",
        "\n",
        "# Show their first 10 attempts to see the sequential Pattern\n",
        "print(\"\\nFirst 10 attempts:\")\n",
        "print(student_data[['order_id', 'skill_id', 'correct', 'ms_first_response']].head(30))"
      ],
      "metadata": {
        "colab": {
          "base_uri": "https://localhost:8080/"
        },
        "id": "8nUiiGtprW7R",
        "outputId": "d1a917e5-222a-4c26-af21-55f38b38feca"
      },
      "execution_count": 45,
      "outputs": [
        {
          "output_type": "stream",
          "name": "stdout",
          "text": [
            "Student 96235 attempted 977 problems\n",
            "Skills attempted: 87\n",
            "Correct rate: 58.03%\n",
            "\n",
            "First 10 attempts:\n",
            "        order_id skill_id  correct  ms_first_response\n",
            "96959   38171250       49        0               6228\n",
            "96960   38171251       49        1               4544\n",
            "96961   38171252       49        1               6059\n",
            "96962   38171253       49        0               6154\n",
            "96963   38171254       49        0              11896\n",
            "96964   38171255       49        1              11180\n",
            "96965   38171256       49        0               5603\n",
            "96966   38171257       49        0               5152\n",
            "96967   38171258       49        0               8184\n",
            "96968   38171259       49        0               3551\n",
            "96969   38171260       49        1               7122\n",
            "96970   38171261       49        1               4576\n",
            "96971   38171262       49        0               4139\n",
            "96972   38171263       49        0               6022\n",
            "96973   38171264       49        0              14956\n",
            "96974   38171265       49        1               9418\n",
            "96975   38171266       49        1              11435\n",
            "96976   38171267       49        0               6624\n",
            "96977   38171268       49        0               6217\n",
            "96978   38171269       49        1               9203\n",
            "259830  38171273      311        1             105282\n",
            "229704  38171275      307        1              15819\n",
            "259831  38171300      311        1              80594\n",
            "282263  38171301      368        0              64103\n",
            "282264  38171302      368        0             113526\n",
            "282265  38171303      368        1              67698\n",
            "282266  38171304      368        1              48215\n",
            "282267  38171305      368        1              92317\n",
            "60818   38171315       32        1              12908\n",
            "11447   38171316        4        0              15694\n"
          ]
        }
      ]
    },
    {
      "cell_type": "markdown",
      "source": [
        "# CELL 5: Visualize Key Patterns to Understand The Data Better"
      ],
      "metadata": {
        "id": "j4AOb7nX5wK_"
      }
    },
    {
      "cell_type": "code",
      "source": [
        "# CELL 5: Visualize Key Patterns to Understand the Data Better\n",
        "\n",
        "# Calculate sequence length for each student (how many problems each student attempted)\n",
        "seq_lengths = df.groupby('user_id').size()\n",
        "# Top 20\n",
        "print(\"Top 20 Most Active Students:\")\n",
        "print(\"user_id: sequence_length\")\n",
        "sorted_seq = seq_lengths.sort_values(ascending=False)\n",
        "for user_id, length in sorted_seq.head(20).items():\n",
        "    print(f\"{user_id}: {length}\")\n",
        "\n",
        "print(\"\\n\")\n",
        "\n",
        "# Bottom 20\n",
        "print(\"Bottom 20 Least Active Students:\")\n",
        "print(\"user_id\\tsequence_length\")\n",
        "for user_id, length in sorted_seq.tail(20).items():\n",
        "    print(f\"{user_id}: {length}\")\n",
        "\n",
        "\n",
        "# Create figure with 3 subplots side by side\n",
        "plt.figure(figsize=(12, 4))\n",
        "\n",
        "# SUBPLOT 1: Distribution of Student Sequence Lengths\n",
        "plt.subplot(1, 3, 1)\n",
        "# Create histogram with 50 bins and black edges for clarity\n",
        "plt.hist(seq_lengths, bins=50, edgecolor='black')\n",
        "plt.xlabel('Sequence Length')\n",
        "plt.ylabel('Number of Students')\n",
        "plt.title('Distribution of Student Sequence Lengths')\n",
        "# This shows us if we have enough data per student for SAKT\n",
        "\n",
        "# SUBPLOT 2: Most Attempted Skills\n",
        "plt.subplot(1, 3, 2)\n",
        "# Count attempts per skill and get top 20\n",
        "skill_attempts = df['skill_id'].value_counts().head(20)\n",
        "# Create bar plot with rank on x-axis\n",
        "plt.bar(range(len(skill_attempts)), skill_attempts.values)\n",
        "plt.xlabel('Skill Rank')\n",
        "plt.ylabel('Number of Attempts')\n",
        "plt.title('Top 20 Most Attempted Skills')\n",
        "# This shows if some skills dominate the dataset\n",
        "\n",
        "# SUBPLOT 3: Student Performance Distribution\n",
        "plt.subplot(1, 3, 3)\n",
        "# Calculate average correct rate for each student\n",
        "student_performance = df.groupby('user_id')['correct'].mean()\n",
        "# Create histogram of performance\n",
        "plt.hist(student_performance, bins=30, edgecolor='black')\n",
        "plt.xlabel('Average Correct Rate')\n",
        "plt.ylabel('Number of Students')\n",
        "plt.title('Student Performance Distribution')\n",
        "# This shows the overall difficulty level\n",
        "\n",
        "# Adjust spacing between subplots\n",
        "plt.tight_layout()\n",
        "plt.show()\n",
        "\n",
        "# Print summary statistics for sequence lengths\n",
        "print(f\"\\nSequence Length Statistics:\")\n",
        "print(f\"Min: {seq_lengths.min()}\")\n",
        "print(f\"Max: {seq_lengths.max()}\")\n",
        "print(f\"Mean: {seq_lengths.mean():.1f}\")\n",
        "print(f\"Median: {seq_lengths.median():.1f}\")"
      ],
      "metadata": {
        "colab": {
          "base_uri": "https://localhost:8080/",
          "height": 1000
        },
        "id": "WPbKjUOS5vWK",
        "outputId": "8a2113cc-6f73-4cc6-db10-4b3d79c21caa"
      },
      "execution_count": 60,
      "outputs": [
        {
          "output_type": "stream",
          "name": "stdout",
          "text": [
            "Top 20 Most Active Students:\n",
            "user_id: sequence_length\n",
            "78978: 1383\n",
            "78970: 1334\n",
            "79032: 1264\n",
            "79021: 1239\n",
            "96274: 1236\n",
            "78979: 1163\n",
            "96244: 1149\n",
            "75169: 1129\n",
            "79013: 1124\n",
            "78989: 1115\n",
            "79029: 1112\n",
            "78980: 1112\n",
            "79019: 1095\n",
            "71881: 1089\n",
            "78987: 1084\n",
            "96243: 1083\n",
            "79031: 1064\n",
            "79018: 1041\n",
            "96265: 1014\n",
            "79012: 1005\n",
            "\n",
            "\n",
            "Bottom 20 Least Active Students:\n",
            "user_id\tsequence_length\n",
            "87330: 1\n",
            "87336: 1\n",
            "87337: 1\n",
            "91464: 1\n",
            "91439: 1\n",
            "87376: 1\n",
            "92527: 1\n",
            "85549: 1\n",
            "85553: 1\n",
            "85554: 1\n",
            "85555: 1\n",
            "85556: 1\n",
            "85558: 1\n",
            "85367: 1\n",
            "77725: 1\n",
            "74701: 1\n",
            "71163: 1\n",
            "84309: 1\n",
            "51933: 1\n",
            "84305: 1\n"
          ]
        },
        {
          "output_type": "display_data",
          "data": {
            "text/plain": [
              "<Figure size 1200x400 with 3 Axes>"
            ],
            "image/png": "[encoded data removed]"
          },
          "metadata": {}
        },
        {
          "output_type": "stream",
          "name": "stdout",
          "text": [
            "\n",
            "Sequence Length Statistics:\n",
            "Min: 1\n",
            "Max: 1383\n",
            "Mean: 82.3\n",
            "Median: 23.0\n"
          ]
        }
      ]
    },
    {
      "cell_type": "markdown",
      "source": [
        "# CELL 6: Data Quality Check - Critical for Reliable Model Training"
      ],
      "metadata": {
        "id": "ATuGUM4053dg"
      }
    },
    {
      "cell_type": "code",
      "source": [
        "# CELL 6: Data Quality Check - Critical for Reliable Model Training\n",
        "\n",
        "print(\"Data Quality Report:\")\n",
        "print(\"-\" * 40)\n",
        "\n",
        "# Check 1: Duplicate rows (same data appearing multiple times)\n",
        "duplicate_count = df.duplicated().sum()\n",
        "print(f\"Duplicate rows: {duplicate_count}\")\n",
        "if duplicate_count > 0:\n",
        "    print(\"Need to remove duplicates!\")\n",
        "\n",
        "# Check 2: Students with very few attempts\n",
        "# SAKT needs sufficient history to learn patterns\n",
        "too_few = (seq_lengths < 5).sum()\n",
        "print(f\"Students with <5 attempts: {too_few} ({too_few/len(seq_lengths)*100:.1f}%)\")\n",
        "\n",
        "# Check 3: Students with too many attempts (potential outliers)\n",
        "too_many = (seq_lengths > 500).sum()\n",
        "print(f\"Students with >500 attempts: {too_many}\")\n",
        "\n",
        "# Check 4: Temporal ordering validation\n",
        "# Sort by user and order_id to check sequence integrity\n",
        "df_sorted = df.sort_values(['user_id', 'order_id'])\n",
        "# For each user, check if order_id always increases\n",
        "is_ordered = df_sorted.groupby('user_id')['order_id'].apply(\n",
        "    lambda x: (x.diff().dropna() > 0).all()  # diff() calculates difference between consecutive values\n",
        ").all()\n",
        "print(f\"All sequences properly ordered: {is_ordered}\")\n",
        "\n",
        "# Check 5: Original vs scaffolding problems\n",
        "# Original = main problem, scaffolding = hints/sub-problems\n",
        "original_count = (df['original'] == 1).sum()\n",
        "scaffold_count = (df['original'] == 0).sum()\n",
        "print(f\"\\nOriginal problems: {original_count} ({original_count/len(df)*100:.1f}%)\")\n",
        "print(f\"Scaffolding problems: {scaffold_count} ({scaffold_count/len(df)*100:.1f}%)\")\n",
        "print(\"SAKT paper uses only original problems\")\n",
        "\n",
        "# Check 6: Answer distribution\n",
        "print(f\"\\nAnswer distribution:\")\n",
        "print(f\"Correct: {(df['correct'] == 1).sum()} ({df['correct'].mean()*100:.1f}%)\")\n",
        "print(f\"Incorrect: {(df['correct'] == 0).sum()} ({(1-df['correct'].mean())*100:.1f}%)\")\n",
        "\n",
        "# Check 7: Critical missing data for SAKT\n",
        "print(f\"\\nMissing data analysis:\")\n",
        "print(f\"Missing skill_id: {df['skill_id'].isna().sum()} rows ({df['skill_id'].isna().mean()*100:.1f}%)\")\n",
        "print(f\"Missing user_id: {df['user_id'].isna().sum()} rows\")\n",
        "print(f\"Missing correct: {df['correct'].isna().sum()} rows\")\n",
        "print(\"SAKT requires skill_id, user_id, and correct to be present\")"
      ],
      "metadata": {
        "colab": {
          "base_uri": "https://localhost:8080/"
        },
        "id": "Nh6WRXAH56qi",
        "outputId": "3fde5823-d57d-4fba-c153-0f93b4ca0137"
      },
      "execution_count": null,
      "outputs": [
        {
          "output_type": "stream",
          "name": "stdout",
          "text": [
            "Data Quality Report:\n",
            "----------------------------------------\n",
            "Duplicate rows: 0\n",
            "Students with <5 attempts: 602 (16.4%)\n",
            "Students with >500 attempts: 21\n",
            "All sequences properly ordered: True\n",
            "\n",
            "Original problems: 182728 (98.1%)\n",
            "Scaffolding problems: 3472 (1.9%)\n",
            "SAKT paper uses only original problems\n",
            "\n",
            "Answer distribution:\n",
            "Correct: 123817 (66.5%)\n",
            "Incorrect: 62383 (33.5%)\n",
            "\n",
            "Missing data analysis:\n",
            "Missing skill_id: 1 rows (0.0%)\n",
            "Missing user_id: 0 rows\n",
            "Missing correct: 0 rows\n",
            "SAKT requires skill_id, user_id, and correct to be present\n"
          ]
        }
      ]
    },
    {
      "cell_type": "markdown",
      "source": [
        "# CELL 7: Data Preprocessing for SAKT"
      ],
      "metadata": {
        "id": "OKW2EPOJ7Y3Y"
      }
    },
    {
      "cell_type": "code",
      "source": [
        "# CELL 7: Data Preprocessing for SAKT\n",
        "\n",
        "print(\"Starting data preprocessing...\")\n",
        "print(f\"Original data shape: {df.shape}\")\n",
        "\n",
        "# Step 1: Keep only original problems (main problems, not hints)\n",
        "# SAKT paper specifies using only original problems\n",
        "df_clean = df[df['original'] == 1].copy()\n",
        "print(f\"\\nAfter keeping only original problems: {df_clean.shape}\")\n",
        "\n",
        "# Step 2: Remove rows with missing skill_id\n",
        "# SAKT requires skill_id to create embeddings\n",
        "df_clean = df_clean.dropna(subset=['skill_id'])\n",
        "print(f\"After removing missing skill_id: {df_clean.shape}\")\n",
        "\n",
        "# Step 3: Convert skill_id to integer (it might be float due to NaN values)\n",
        "df_clean['skill_id'] = df_clean['skill_id'].astype(int)\n",
        "\n",
        "# Step 4: Calculate sequence lengths per student\n",
        "student_seq_lengths = df_clean.groupby('user_id').size()\n",
        "\n",
        "# Step 5: Keep only students with >= 5 attempts\n",
        "# Too few attempts don't provide enough learning history\n",
        "valid_students = student_seq_lengths[student_seq_lengths >= 5].index\n",
        "df_clean = df_clean[df_clean['user_id'].isin(valid_students)]\n",
        "print(f\"After removing students with <5 attempts: {df_clean.shape}\")\n",
        "\n",
        "# Step 6: Sort by user_id and order_id (temporal order)\n",
        "df_clean = df_clean.sort_values(['user_id', 'order_id'])\n",
        "\n",
        "print(f\"\\nFinal clean dataset:\")\n",
        "print(f\"- Total interactions: {len(df_clean)}\")\n",
        "print(f\"- Unique students: {df_clean['user_id'].nunique()}\")\n",
        "print(f\"- Unique skills: {df_clean['skill_id'].nunique()}\")\n",
        "print(f\"- Average correct rate: {df_clean['correct'].mean():.2%}\")"
      ],
      "metadata": {
        "colab": {
          "base_uri": "https://localhost:8080/"
        },
        "id": "gLCecolb7fwX",
        "outputId": "70ebacd6-df98-41c9-89d3-44813e66e3b0"
      },
      "execution_count": null,
      "outputs": [
        {
          "output_type": "stream",
          "name": "stdout",
          "text": [
            "Starting data preprocessing...\n",
            "Original data shape: (186200, 31)\n",
            "\n",
            "After keeping only original problems: (182728, 31)\n",
            "After removing missing skill_id: (182727, 31)\n",
            "After removing students with <5 attempts: (181332, 31)\n",
            "\n",
            "Final clean dataset:\n",
            "- Total interactions: 181332\n",
            "- Unique students: 3059\n",
            "- Unique skills: 103\n",
            "- Average correct rate: 66.97%\n"
          ]
        }
      ]
    },
    {
      "cell_type": "markdown",
      "source": [
        "# CELL 8: Transform Data into SAKT Input Format"
      ],
      "metadata": {
        "id": "D9i4en2K7iJ2"
      }
    },
    {
      "cell_type": "code",
      "source": [
        "# CELL 8: Transform Data into SAKT Input Format\n",
        "\n",
        "# Get unique skills and create mapping\n",
        "unique_skills = sorted(df_clean['skill_id'].unique())\n",
        "num_skills = len(unique_skills)\n",
        "\n",
        "# Create skill_id to index mapping (0 to num_skills-1)\n",
        "skill_to_idx = {skill: idx for idx, skill in enumerate(unique_skills)}\n",
        "\n",
        "print(f\"Number of unique skills: {num_skills}\")\n",
        "print(f\"Skill IDs range: {min(unique_skills)} to {max(unique_skills)}\")\n",
        "\n",
        "# Function to create sequences for each student\n",
        "def create_student_sequences(df_clean, skill_to_idx, num_skills):\n",
        "    \"\"\"\n",
        "    Convert student interactions into SAKT format:\n",
        "    - interaction = skill_idx + (correct * num_skills)\n",
        "    \"\"\"\n",
        "    sequences = []\n",
        "\n",
        "    # Process each student\n",
        "    for user_id, user_data in df_clean.groupby('user_id'):\n",
        "        # Get student's attempt history\n",
        "        skills = user_data['skill_id'].values\n",
        "        corrects = user_data['correct'].values\n",
        "\n",
        "        # Convert skill_id to indices\n",
        "        skill_indices = [skill_to_idx[skill] for skill in skills]\n",
        "\n",
        "        # Create interaction sequence (SAKT encoding)\n",
        "        # interaction = skill_index + (correct * num_skills)\n",
        "        interactions = []\n",
        "        for skill_idx, correct in zip(skill_indices, corrects):\n",
        "            interaction = skill_idx + (correct * num_skills)\n",
        "            interactions.append(interaction)\n",
        "\n",
        "        sequences.append({\n",
        "            'user_id': user_id,\n",
        "            'skill_indices': skill_indices,\n",
        "            'corrects': corrects,\n",
        "            'interactions': interactions,\n",
        "            'length': len(interactions)\n",
        "        })\n",
        "\n",
        "    return sequences\n",
        "\n",
        "# Create sequences\n",
        "print(\"\\nCreating student sequences...\")\n",
        "sequences = create_student_sequences(df_clean, skill_to_idx, num_skills)\n",
        "\n",
        "# Show example sequence\n",
        "print(f\"\\nExample sequence (first student):\")\n",
        "example = sequences[0]\n",
        "print(f\"User ID: {example['user_id']}\")\n",
        "print(f\"Sequence length: {example['length']}\")\n",
        "print(f\"First 5 skills attempted: {example['skill_indices'][:5]}\")\n",
        "print(f\"First 5 responses (0=wrong, 1=correct): {example['corrects'][:5]}\")\n",
        "print(f\"First 5 interaction encodings: {example['interactions'][:5]}\")"
      ],
      "metadata": {
        "colab": {
          "base_uri": "https://localhost:8080/"
        },
        "id": "osY3ties7k2s",
        "outputId": "775e5df7-e768-4c12-9260-34b39b5eb797"
      },
      "execution_count": null,
      "outputs": [
        {
          "output_type": "stream",
          "name": "stdout",
          "text": [
            "Number of unique skills: 103\n",
            "Skill IDs range: 1 to 173190193221\n",
            "\n",
            "Creating student sequences...\n",
            "\n",
            "Example sequence (first student):\n",
            "User ID: 14\n",
            "Sequence length: 19\n",
            "First 5 skills attempted: [91, 91, 91, 91, 91]\n",
            "First 5 responses (0=wrong, 1=correct): [0 1 0 0 0]\n",
            "First 5 interaction encodings: [np.int64(91), np.int64(194), np.int64(91), np.int64(91), np.int64(91)]\n"
          ]
        }
      ]
    },
    {
      "cell_type": "markdown",
      "source": [],
      "metadata": {
        "id": "HPht-lxO7mZO"
      }
    },
    {
      "cell_type": "markdown",
      "source": [
        "# CELL 9: Split Data for Training (Student-Level Split)"
      ],
      "metadata": {
        "id": "ZW62OMAt7oKR"
      }
    },
    {
      "cell_type": "code",
      "source": [
        "# CELL 9: Split Data for Training (Student-Level Split)\n",
        "\n",
        "from sklearn.model_selection import train_test_split\n",
        "\n",
        "# Split at student level (not interaction level) to prevent data leakage\n",
        "# Each student's full sequence goes into either train, val, or test\n",
        "\n",
        "# First split: 70% train+val, 30% test\n",
        "train_val_sequences, test_sequences = train_test_split(\n",
        "    sequences,\n",
        "    test_size=0.3,\n",
        "    random_state=42\n",
        ")\n",
        "\n",
        "# Second split: From train+val, take 80% train, 20% val\n",
        "train_sequences, val_sequences = train_test_split(\n",
        "    train_val_sequences,\n",
        "    test_size=0.2,\n",
        "    random_state=42\n",
        ")\n",
        "\n",
        "print(f\"Dataset splits:\")\n",
        "print(f\"- Train: {len(train_sequences)} students\")\n",
        "print(f\"- Val: {len(val_sequences)} students\")\n",
        "print(f\"- Test: {len(test_sequences)} students\")\n",
        "\n",
        "# Calculate total interactions per split\n",
        "train_interactions = sum(seq['length'] for seq in train_sequences)\n",
        "val_interactions = sum(seq['length'] for seq in val_sequences)\n",
        "test_interactions = sum(seq['length'] for seq in test_sequences)\n",
        "\n",
        "print(f\"\\nTotal interactions per split:\")\n",
        "print(f\"- Train: {train_interactions:,}\")\n",
        "print(f\"- Val: {val_interactions:,}\")\n",
        "print(f\"- Test: {test_interactions:,}\")\n",
        "\n",
        "# Save the processed data\n",
        "import pickle\n",
        "\n",
        "save_data = {\n",
        "    'train': train_sequences,\n",
        "    'val': val_sequences,\n",
        "    'test': test_sequences,\n",
        "    'num_skills': num_skills,\n",
        "    'skill_to_idx': skill_to_idx\n",
        "}\n",
        "\n",
        "with open('sakt_preprocessed_data.pkl', 'wb') as f:\n",
        "    pickle.dump(save_data, f)\n",
        "\n",
        "print(\"\\nData preprocessing complete! Saved to 'sakt_preprocessed_data.pkl'\")"
      ],
      "metadata": {
        "colab": {
          "base_uri": "https://localhost:8080/"
        },
        "id": "eV3IUXSR7qwt",
        "outputId": "2624cb2f-6a5a-493a-d0d9-499c844c8925"
      },
      "execution_count": null,
      "outputs": [
        {
          "output_type": "stream",
          "name": "stdout",
          "text": [
            "Dataset splits:\n",
            "- Train: 1712 students\n",
            "- Val: 429 students\n",
            "- Test: 918 students\n",
            "\n",
            "Total interactions per split:\n",
            "- Train: 106,666\n",
            "- Val: 25,641\n",
            "- Test: 49,025\n",
            "\n",
            "Data preprocessing complete! Saved to 'sakt_preprocessed_data.pkl'\n"
          ]
        }
      ]
    },
    {
      "cell_type": "markdown",
      "source": [
        "# CELL 10: SAKT Model Implementation"
      ],
      "metadata": {
        "id": "JzMvcACxEkYx"
      }
    },
    {
      "cell_type": "code",
      "source": [
        "# CELL 10: SAKT Model Implementation\n",
        "\n",
        "import torch\n",
        "import torch.nn as nn\n",
        "import torch.nn.functional as F\n",
        "import math\n",
        "\n",
        "class SAKT(nn.Module):\n",
        "    def __init__(self, num_skills, embed_dim=128, num_heads=8, dropout=0.2):\n",
        "        \"\"\"\n",
        "        SAKT Model matching the paper implementation\n",
        "\n",
        "        Args:\n",
        "            num_skills: Number of unique skills (145 in this case)\n",
        "            embed_dim: Embedding dimension (paper uses 128)\n",
        "            num_heads: Number of attention heads (paper uses 8)\n",
        "            dropout: Dropout rate (paper uses 0.2)\n",
        "        \"\"\"\n",
        "        super(SAKT, self).__init__()\n",
        "\n",
        "        self.num_skills = num_skills\n",
        "        self.embed_dim = embed_dim\n",
        "\n",
        "        # Embedding layers\n",
        "        # Interaction embedding: Maps (skill + correct*num_skills) to vectors\n",
        "        self.interaction_embed = nn.Embedding(\n",
        "            num_skills * 2,  # *2 because skill + correct*num_skills\n",
        "            embed_dim\n",
        "        )\n",
        "\n",
        "        # Exercise/skill embedding: Maps skills to vectors for queries\n",
        "        self.skill_embed = nn.Embedding(num_skills, embed_dim)\n",
        "\n",
        "        # Positional embedding: Adds temporal information\n",
        "        self.pos_embed = nn.Embedding(1000, embed_dim)  # max sequence length 1000\n",
        "\n",
        "        # Multi-head attention layer\n",
        "        self.attention = nn.MultiheadAttention(\n",
        "            embed_dim,\n",
        "            num_heads,\n",
        "            dropout=dropout,\n",
        "            batch_first=True  # Important: batch dimension first\n",
        "        )\n",
        "\n",
        "        # Layer normalization\n",
        "        self.layer_norm1 = nn.LayerNorm(embed_dim)\n",
        "        self.layer_norm2 = nn.LayerNorm(embed_dim)\n",
        "\n",
        "        # Feed-forward network\n",
        "        self.ffn = nn.Sequential(\n",
        "            nn.Linear(embed_dim, embed_dim * 4),  # Paper uses 4x hidden size\n",
        "            nn.ReLU(),\n",
        "            nn.Dropout(dropout),\n",
        "            nn.Linear(embed_dim * 4, embed_dim)\n",
        "        )\n",
        "\n",
        "        # Output prediction layer\n",
        "        self.pred = nn.Linear(embed_dim, 1)\n",
        "        self.dropout = nn.Dropout(dropout)\n",
        "\n",
        "    def forward(self, interactions, skills):\n",
        "        \"\"\"\n",
        "        Forward pass of SAKT\n",
        "\n",
        "        Args:\n",
        "            interactions: [batch_size, seq_len] - past interactions (skill + correct*num_skills)\n",
        "            skills: [batch_size, seq_len] - skills to predict performance on\n",
        "\n",
        "        Returns:\n",
        "            predictions: [batch_size, seq_len] - probability of correct answer\n",
        "        \"\"\"\n",
        "        batch_size, seq_len = interactions.shape\n",
        "\n",
        "        # Create position indices\n",
        "        positions = torch.arange(seq_len, device=interactions.device).unsqueeze(0).expand(batch_size, -1)\n",
        "\n",
        "        # Embed interactions (for Keys and Values in attention)\n",
        "        interaction_embeds = self.interaction_embed(interactions)  # [batch, seq_len, embed_dim]\n",
        "\n",
        "        # Embed skills (for Queries in attention)\n",
        "        skill_embeds = self.skill_embed(skills)  # [batch, seq_len, embed_dim]\n",
        "\n",
        "        # Add positional embeddings\n",
        "        interaction_embeds = interaction_embeds + self.pos_embed(positions)\n",
        "        skill_embeds = skill_embeds + self.pos_embed(positions)\n",
        "\n",
        "        # Create attention mask (causal mask - can't see future)\n",
        "        attn_mask = torch.triu(\n",
        "            torch.ones(seq_len, seq_len, device=interactions.device) * float('-inf'),\n",
        "            diagonal=1\n",
        "        )\n",
        "\n",
        "        # Apply self-attention\n",
        "        # Query: what skill we're predicting\n",
        "        # Key & Value: past interaction history\n",
        "        attended, _ = self.attention(\n",
        "            query=skill_embeds,\n",
        "            key=interaction_embeds,\n",
        "            value=interaction_embeds,\n",
        "            attn_mask=attn_mask,\n",
        "            need_weights=False\n",
        "        )\n",
        "\n",
        "        # Residual connection and layer norm\n",
        "        attended = self.layer_norm1(skill_embeds + self.dropout(attended))\n",
        "\n",
        "        # Feed-forward network with residual\n",
        "        ffn_out = self.ffn(attended)\n",
        "        ffn_out = self.layer_norm2(attended + self.dropout(ffn_out))\n",
        "\n",
        "        # Predict probability of correct answer\n",
        "        pred = self.pred(ffn_out).squeeze(-1)  # [batch, seq_len]\n",
        "        return torch.sigmoid(pred)\n",
        "\n",
        "# Test the model\n",
        "print(\"Testing SAKT model...\")\n",
        "model = SAKT(num_skills=145)\n",
        "\n",
        "# Create dummy batch\n",
        "batch_interactions = torch.randint(0, 290, (2, 50))  # 2 sequences, length 50\n",
        "batch_skills = torch.randint(0, 145, (2, 50))\n",
        "\n",
        "# Forward pass\n",
        "output = model(batch_interactions, batch_skills)\n",
        "print(f\"Model output shape: {output.shape}\")\n",
        "print(f\"Output range: [{output.min():.3f}, {output.max():.3f}]\")\n",
        "print(f\"Model parameters: {sum(p.numel() for p in model.parameters()):,}\")"
      ],
      "metadata": {
        "colab": {
          "base_uri": "https://localhost:8080/"
        },
        "id": "YYZUAsjHEmZQ",
        "outputId": "a6a540cd-08d9-4d1b-8aed-c25b2b5efffb"
      },
      "execution_count": null,
      "outputs": [
        {
          "output_type": "stream",
          "name": "stdout",
          "text": [
            "Testing SAKT model...\n",
            "Model output shape: torch.Size([2, 50])\n",
            "Output range: [0.112, 0.760]\n",
            "Model parameters: 382,081\n"
          ]
        }
      ]
    },
    {
      "cell_type": "markdown",
      "source": [
        "# CELL 11: Create PyTorch Dataset and DataLoaders"
      ],
      "metadata": {
        "id": "0aIb8Y30EtBq"
      }
    },
    {
      "cell_type": "code",
      "source": [
        "# CELL 11: Create PyTorch Dataset and DataLoaders\n",
        "\n",
        "from torch.utils.data import Dataset, DataLoader\n",
        "import numpy as np\n",
        "\n",
        "class SAKTDataset(Dataset):\n",
        "    \"\"\"Dataset class for SAKT\"\"\"\n",
        "\n",
        "    def __init__(self, sequences, max_seq_len=100):\n",
        "        self.sequences = sequences\n",
        "        self.max_seq_len = max_seq_len\n",
        "\n",
        "    def __len__(self):\n",
        "        return len(self.sequences)\n",
        "\n",
        "    def __getitem__(self, idx):\n",
        "        seq = self.sequences[idx]\n",
        "        seq_len = seq['length']\n",
        "\n",
        "        # Prepare input sequences\n",
        "        interactions = list(seq['interactions'])\n",
        "        skills = list(seq['skill_indices'])\n",
        "        corrects = list(seq['corrects'])\n",
        "\n",
        "        # Truncate if too long\n",
        "        if seq_len > self.max_seq_len:\n",
        "            interactions = interactions[:self.max_seq_len]\n",
        "            skills = skills[:self.max_seq_len]\n",
        "            corrects = corrects[:self.max_seq_len]\n",
        "            seq_len = self.max_seq_len\n",
        "\n",
        "        # Create input (all except last) and target (all except first)\n",
        "        input_interactions = interactions[:-1]\n",
        "        input_skills = skills[:-1]\n",
        "\n",
        "        target_skills = skills[1:]\n",
        "        target_corrects = corrects[1:]\n",
        "\n",
        "        # Pad sequences to max_seq_len - 1\n",
        "        pad_len = self.max_seq_len - 1 - len(input_interactions)\n",
        "\n",
        "        if pad_len > 0:\n",
        "            input_interactions = input_interactions + [0] * pad_len\n",
        "            input_skills = input_skills + [0] * pad_len\n",
        "            target_skills = target_skills + [0] * pad_len\n",
        "            target_corrects = target_corrects + [0] * pad_len\n",
        "\n",
        "        return {\n",
        "            'interactions': torch.tensor(input_interactions, dtype=torch.long),\n",
        "            'skills': torch.tensor(target_skills, dtype=torch.long),\n",
        "            'targets': torch.tensor(target_corrects, dtype=torch.float),\n",
        "            'mask': torch.tensor([1] * (seq_len-1) + [0] * pad_len, dtype=torch.float)\n",
        "        }\n",
        "\n",
        "# Load preprocessed data\n",
        "import pickle\n",
        "with open('sakt_preprocessed_data.pkl', 'rb') as f:\n",
        "    data = pickle.load(f)\n",
        "\n",
        "# Create datasets\n",
        "train_dataset = SAKTDataset(data['train'], max_seq_len=100)\n",
        "val_dataset = SAKTDataset(data['val'], max_seq_len=100)\n",
        "test_dataset = SAKTDataset(data['test'], max_seq_len=100)\n",
        "\n",
        "# Create dataloaders\n",
        "train_loader = DataLoader(train_dataset, batch_size=64, shuffle=True)\n",
        "val_loader = DataLoader(val_dataset, batch_size=64, shuffle=False)\n",
        "test_loader = DataLoader(test_dataset, batch_size=64, shuffle=False)\n",
        "\n",
        "# Test dataloader\n",
        "batch = next(iter(train_loader))\n",
        "print(f\"Batch keys: {batch.keys()}\")\n",
        "print(f\"Interactions shape: {batch['interactions'].shape}\")\n",
        "print(f\"Skills shape: {batch['skills'].shape}\")\n",
        "print(f\"Targets shape: {batch['targets'].shape}\")\n",
        "print(f\"Mask shape: {batch['mask'].shape}\")"
      ],
      "metadata": {
        "colab": {
          "base_uri": "https://localhost:8080/"
        },
        "id": "RnIpiDMGEvyu",
        "outputId": "135ebfa3-85e4-4e86-a914-57ef5f9d2208"
      },
      "execution_count": null,
      "outputs": [
        {
          "output_type": "stream",
          "name": "stdout",
          "text": [
            "Batch keys: dict_keys(['interactions', 'skills', 'targets', 'mask'])\n",
            "Interactions shape: torch.Size([64, 99])\n",
            "Skills shape: torch.Size([64, 99])\n",
            "Targets shape: torch.Size([64, 99])\n",
            "Mask shape: torch.Size([64, 99])\n"
          ]
        }
      ]
    },
    {
      "cell_type": "markdown",
      "source": [],
      "metadata": {
        "id": "G3iDyuwvE2GR"
      }
    },
    {
      "cell_type": "markdown",
      "source": [
        "# CELL 12: Test Data Loaders and Verify Data Format"
      ],
      "metadata": {
        "id": "ZBUnkJ5uE4Ox"
      }
    },
    {
      "cell_type": "code",
      "source": [
        "# CELL 12: Test Data Loaders and Verify Data Format\n",
        "\n",
        "import pickle\n",
        "\n",
        "# Load the preprocessed data we saved in Cell 9\n",
        "# 'rb' means read in binary mode (pickle files are binary)\n",
        "with open('sakt_preprocessed_data.pkl', 'rb') as f:\n",
        "    data = pickle.load(f)  # Converts file back to Python dictionary\n",
        "\n",
        "print(f\"Loaded data with {data['num_skills']} unique skills\")\n",
        "\n",
        "# Create PyTorch datasets from the sequences\n",
        "# SAKTDataset handles padding and creating input/target pairs\n",
        "train_dataset = SAKTDataset(data['train'], max_seq_len=100)\n",
        "val_dataset = SAKTDataset(data['val'], max_seq_len=100)\n",
        "test_dataset = SAKTDataset(data['test'], max_seq_len=100)\n",
        "\n",
        "print(f\"\\nDataset sizes:\")\n",
        "print(f\"Train: {len(train_dataset)} students\")\n",
        "print(f\"Val: {len(val_dataset)} students\")\n",
        "print(f\"Test: {len(test_dataset)} students\")\n",
        "\n",
        "# Create data loaders that will feed batches to my model\n",
        "# batch_size=64 means process 64 students at once\n",
        "# shuffle=True randomizes order each epoch (important for training)\n",
        "train_loader = DataLoader(train_dataset, batch_size=64, shuffle=True)\n",
        "val_loader = DataLoader(val_dataset, batch_size=64, shuffle=False)\n",
        "test_loader = DataLoader(test_dataset, batch_size=64, shuffle=False)\n",
        "\n",
        "# Test by loading one batch to verify everything works\n",
        "print(f\"\\nTesting data loader with one batch:\")\n",
        "batch = next(iter(train_loader))  # Get first batch\n",
        "\n",
        "# Check what's in each batch\n",
        "print(f\"Batch contains: {list(batch.keys())}\")\n",
        "print(f\"Interactions shape: {batch['interactions'].shape}\")  # [64, 99]\n",
        "print(f\"Skills shape: {batch['skills'].shape}\")              # [64, 99]\n",
        "print(f\"Targets shape: {batch['targets'].shape}\")            # [64, 99]\n",
        "print(f\"Mask shape: {batch['mask'].shape}\")                  # [64, 99]\n",
        "\n",
        "# Look at one student's data to understand format\n",
        "print(f\"\\nExample from first student in batch:\")\n",
        "first_seq_len = batch['mask'][0].sum().int()  # Count non-padded positions\n",
        "print(f\"Actual sequence length: {first_seq_len}\")\n",
        "print(f\"First 5 interactions: {batch['interactions'][0][:5].tolist()}\")\n",
        "print(f\"First 5 skills to predict: {batch['skills'][0][:5].tolist()}\")\n",
        "print(f\"First 5 correct/incorrect: {batch['targets'][0][:5].tolist()}\")\n",
        "print(f\"First 5 mask values: {batch['mask'][0][:5].tolist()}\")  # 1=real, 0=padding"
      ],
      "metadata": {
        "colab": {
          "base_uri": "https://localhost:8080/"
        },
        "id": "Oho9RKT4E5QD",
        "outputId": "e854b02c-acc2-4f0a-f29b-4d73d7f0d551"
      },
      "execution_count": null,
      "outputs": [
        {
          "output_type": "stream",
          "name": "stdout",
          "text": [
            "Loaded data with 103 unique skills\n",
            "\n",
            "Dataset sizes:\n",
            "Train: 1712 students\n",
            "Val: 429 students\n",
            "Test: 918 students\n",
            "\n",
            "Testing data loader with one batch:\n",
            "Batch contains: ['interactions', 'skills', 'targets', 'mask']\n",
            "Interactions shape: torch.Size([64, 99])\n",
            "Skills shape: torch.Size([64, 99])\n",
            "Targets shape: torch.Size([64, 99])\n",
            "Mask shape: torch.Size([64, 99])\n",
            "\n",
            "Example from first student in batch:\n",
            "Actual sequence length: 8\n",
            "First 5 interactions: [170, 170, 5, 108, 4]\n",
            "First 5 skills to predict: [67, 5, 5, 4, 9]\n",
            "First 5 correct/incorrect: [1.0, 0.0, 1.0, 0.0, 0.0]\n",
            "First 5 mask values: [1.0, 1.0, 1.0, 1.0, 1.0]\n"
          ]
        }
      ]
    },
    {
      "cell_type": "markdown",
      "source": [
        "# CELL 13: Training Functions for SAKT"
      ],
      "metadata": {
        "id": "KSAwA5DuE7nl"
      }
    },
    {
      "cell_type": "code",
      "source": [
        "# CELL 13: Training Functions for SAKT\n",
        "\n",
        "import torch\n",
        "import torch.nn as nn\n",
        "import torch.optim as optim\n",
        "from sklearn.metrics import roc_auc_score\n",
        "import numpy as np\n",
        "from tqdm import tqdm\n",
        "import matplotlib.pyplot as plt\n",
        "\n",
        "def train_epoch(model, train_loader, optimizer, criterion, device):\n",
        "    \"\"\"\n",
        "    Train the model for one epoch\n",
        "\n",
        "    Args:\n",
        "        model: SAKT model\n",
        "        train_loader: DataLoader with training data\n",
        "        optimizer: Adam optimizer\n",
        "        criterion: BCELoss function\n",
        "        device: cuda or cpu\n",
        "\n",
        "    Returns:\n",
        "        epoch_loss: Average loss for this epoch\n",
        "        epoch_auc: AUC score for this epoch\n",
        "    \"\"\"\n",
        "    model.train()  # Enable dropout and batch norm training behavior\n",
        "    total_loss = 0\n",
        "    all_predictions = []\n",
        "    all_targets = []\n",
        "\n",
        "    # Progress bar to track training\n",
        "    pbar = tqdm(train_loader, desc='Training', leave=False)\n",
        "\n",
        "    for batch in pbar:\n",
        "        # Move all tensors to GPU if available\n",
        "        interactions = batch['interactions'].to(device)\n",
        "        skills = batch['skills'].to(device)\n",
        "        targets = batch['targets'].to(device)\n",
        "        mask = batch['mask'].to(device)\n",
        "\n",
        "        # Clear gradients from previous batch\n",
        "        optimizer.zero_grad()\n",
        "\n",
        "        # Forward pass: get predictions from model\n",
        "        predictions = model(interactions, skills)\n",
        "\n",
        "        # Calculate loss only on non-padded positions\n",
        "        # criterion returns loss for each position\n",
        "        loss = criterion(predictions, targets)\n",
        "        # Apply mask and average\n",
        "        masked_loss = (loss * mask).sum() / mask.sum()\n",
        "\n",
        "        # Backward pass: compute gradients\n",
        "        masked_loss.backward()\n",
        "\n",
        "        # Clip gradients to prevent explosion\n",
        "        torch.nn.utils.clip_grad_norm_(model.parameters(), max_norm=1.0)\n",
        "\n",
        "        # Update model parameters\n",
        "        optimizer.step()\n",
        "\n",
        "        # Collect predictions for metrics\n",
        "        total_loss += masked_loss.item()\n",
        "\n",
        "        # Extract only valid (non-padded) predictions\n",
        "        valid_idx = mask == 1\n",
        "        valid_predictions = predictions[valid_idx].detach().cpu().numpy()\n",
        "        valid_targets = targets[valid_idx].detach().cpu().numpy()\n",
        "\n",
        "        all_predictions.extend(valid_predictions)\n",
        "        all_targets.extend(valid_targets)\n",
        "\n",
        "        # Update progress bar with current loss\n",
        "        pbar.set_postfix({'loss': f'{masked_loss.item():.4f}'})\n",
        "\n",
        "    # Calculate epoch metrics\n",
        "    epoch_loss = total_loss / len(train_loader)\n",
        "    epoch_auc = roc_auc_score(all_targets, all_predictions)\n",
        "\n",
        "    return epoch_loss, epoch_auc\n",
        "\n",
        "def validate_epoch(model, val_loader, criterion, device):\n",
        "    \"\"\"\n",
        "    Validate the model (no gradient updates)\n",
        "\n",
        "    Args:\n",
        "        model: SAKT model\n",
        "        val_loader: DataLoader with validation data\n",
        "        criterion: BCELoss function\n",
        "        device: cuda or cpu\n",
        "\n",
        "    Returns:\n",
        "        val_loss: Average validation loss\n",
        "        val_auc: Validation AUC score\n",
        "    \"\"\"\n",
        "    model.eval()  # Disable dropout and use batch norm statistics\n",
        "    total_loss = 0\n",
        "    all_predictions = []\n",
        "    all_targets = []\n",
        "\n",
        "    # No gradient computation needed for validation\n",
        "    with torch.no_grad():\n",
        "        for batch in tqdm(val_loader, desc='Validating', leave=False):\n",
        "            # Move to device\n",
        "            interactions = batch['interactions'].to(device)\n",
        "            skills = batch['skills'].to(device)\n",
        "            targets = batch['targets'].to(device)\n",
        "            mask = batch['mask'].to(device)\n",
        "\n",
        "            # Get predictions\n",
        "            predictions = model(interactions, skills)\n",
        "\n",
        "            # Calculate loss\n",
        "            loss = criterion(predictions, targets)\n",
        "            masked_loss = (loss * mask).sum() / mask.sum()\n",
        "\n",
        "            # Collect for metrics\n",
        "            total_loss += masked_loss.item()\n",
        "\n",
        "            # Extract valid predictions\n",
        "            valid_idx = mask == 1\n",
        "            valid_predictions = predictions[valid_idx].cpu().numpy()\n",
        "            valid_targets = targets[valid_idx].cpu().numpy()\n",
        "\n",
        "            all_predictions.extend(valid_predictions)\n",
        "            all_targets.extend(valid_targets)\n",
        "\n",
        "    # Calculate validation metrics\n",
        "    val_loss = total_loss / len(val_loader)\n",
        "    val_auc = roc_auc_score(all_targets, all_predictions)\n",
        "\n",
        "    return val_loss, val_auc"
      ],
      "metadata": {
        "id": "y6BM04A2E-iF"
      },
      "execution_count": null,
      "outputs": []
    },
    {
      "cell_type": "markdown",
      "source": [
        "# CELL 14: Train SAKT Model"
      ],
      "metadata": {
        "id": "uvoiybrsFCFk"
      }
    },
    {
      "cell_type": "code",
      "source": [
        "# CELL 14: Train SAKT Model\n",
        "\n",
        "# Check if GPU is available and use it\n",
        "device = torch.device('cuda' if torch.cuda.is_available() else 'cpu')\n",
        "print(f\"Using device: {device}\")\n",
        "if device.type == 'cuda':\n",
        "    print(f\"GPU: {torch.cuda.get_device_name(0)}\")\n",
        "\n",
        "# Initialize model with paper's hyperparameters\n",
        "model = SAKT(\n",
        "    num_skills=145,  # From my dataset analysis\n",
        "    embed_dim=128,   # Paper: d=128\n",
        "    num_heads=8,     # Paper: h=5\n",
        "    dropout=0.4      # Paper: dropout=0.2\n",
        ").to(device)\n",
        "\n",
        "# Count model parameters\n",
        "total_params = sum(p.numel() for p in model.parameters())\n",
        "trainable_params = sum(p.numel() for p in model.parameters() if p.requires_grad)\n",
        "print(f\"Total parameters: {total_params:,}\")\n",
        "print(f\"Trainable parameters: {trainable_params:,}\")\n",
        "\n",
        "# Initialize optimizer (Adam with paper's learning rate)\n",
        "optimizer = optim.Adam(\n",
        "    model.parameters(),\n",
        "    lr=1e-3,           # Paper uses 0.001\n",
        "    weight_decay=1e-4  # L2 regularization\n",
        ")\n",
        "\n",
        "# Loss function for binary classification\n",
        "# reduction='none' returns loss per element (needed for masking)\n",
        "criterion = nn.BCELoss(reduction='none')\n",
        "\n",
        "# Learning rate scheduler - reduces LR when validation metric plateaus\n",
        "scheduler = optim.lr_scheduler.ReduceLROnPlateau(\n",
        "    optimizer,\n",
        "    mode='max',        # We want to maximize AUC\n",
        "    factor=0.5,        # Reduce LR by half\n",
        "    patience=3,        # Wait 3 epochs before reducing\n",
        "    verbose=True       # Print when LR is reduced\n",
        ")\n",
        "\n",
        "# Training configuration\n",
        "NUM_EPOCHS = 30\n",
        "EARLY_STOP_PATIENCE = 5\n",
        "best_val_auc = 0\n",
        "patience_counter = 0\n",
        "\n",
        "# Track metrics for visualization\n",
        "history = {\n",
        "    'train_loss': [], 'train_auc': [],\n",
        "    'val_loss': [], 'val_auc': []\n",
        "}\n",
        "\n",
        "print(f\"\\nStarting training for max {NUM_EPOCHS} epochs...\")\n",
        "print(\"=\"*60)\n",
        "\n",
        "# Main training loop\n",
        "for epoch in range(NUM_EPOCHS):\n",
        "    print(f\"\\nEpoch {epoch+1}/{NUM_EPOCHS}\")\n",
        "    print(\"-\" * 40)\n",
        "\n",
        "    # Train for one epoch\n",
        "    train_loss, train_auc = train_epoch(\n",
        "        model, train_loader, optimizer, criterion, device\n",
        "    )\n",
        "\n",
        "    # Validate\n",
        "    val_loss, val_auc = validate_epoch(\n",
        "        model, val_loader, criterion, device\n",
        "    )\n",
        "\n",
        "    # Store history\n",
        "    history['train_loss'].append(train_loss)\n",
        "    history['train_auc'].append(train_auc)\n",
        "    history['val_loss'].append(val_loss)\n",
        "    history['val_auc'].append(val_auc)\n",
        "\n",
        "    # Print metrics\n",
        "    print(f\"Train - Loss: {train_loss:.4f}, AUC: {train_auc:.4f}\")\n",
        "    print(f\"Valid - Loss: {val_loss:.4f}, AUC: {val_auc:.4f}\")\n",
        "\n",
        "    # Adjust learning rate based on validation AUC\n",
        "    scheduler.step(val_auc)\n",
        "    current_lr = optimizer.param_groups[0]['lr']\n",
        "    print(f\"Learning rate: {current_lr:.6f}\")\n",
        "\n",
        "    # Save best model\n",
        "    if val_auc > best_val_auc:\n",
        "        best_val_auc = val_auc\n",
        "        patience_counter = 0\n",
        "\n",
        "        # Save checkpoint\n",
        "        checkpoint = {\n",
        "            'epoch': epoch + 1,\n",
        "            'model_state_dict': model.state_dict(),\n",
        "            'optimizer_state_dict': optimizer.state_dict(),\n",
        "            'best_val_auc': best_val_auc,\n",
        "            'history': history\n",
        "        }\n",
        "        torch.save(checkpoint, 'best_sakt_model.pth')\n",
        "        print(f\"✓ New best model saved! (AUC: {best_val_auc:.4f})\")\n",
        "    else:\n",
        "        patience_counter += 1\n",
        "        print(f\"No improvement. Patience: {patience_counter}/{EARLY_STOP_PATIENCE}\")\n",
        "\n",
        "        # Early stopping\n",
        "        if patience_counter >= EARLY_STOP_PATIENCE:\n",
        "            print(f\"\\nEarly stopping triggered after {epoch+1} epochs\")\n",
        "            break\n",
        "\n",
        "print(f\"\\nTraining complete!\")\n",
        "print(f\"Best validation AUC: {best_val_auc:.4f}\")"
      ],
      "metadata": {
        "colab": {
          "base_uri": "https://localhost:8080/"
        },
        "id": "jqPTIgbjFC37",
        "outputId": "bc1a7701-c101-4d5f-97e4-96829e660a9f"
      },
      "execution_count": null,
      "outputs": [
        {
          "output_type": "stream",
          "name": "stdout",
          "text": [
            "Using device: cpu\n",
            "Total parameters: 382,081\n",
            "Trainable parameters: 382,081\n"
          ]
        },
        {
          "output_type": "stream",
          "name": "stderr",
          "text": [
            "/usr/local/lib/python3.11/dist-packages/torch/optim/lr_scheduler.py:62: UserWarning: The verbose parameter is deprecated. Please use get_last_lr() to access the learning rate.\n",
            "  warnings.warn(\n"
          ]
        },
        {
          "output_type": "stream",
          "name": "stdout",
          "text": [
            "\n",
            "Starting training for max 30 epochs...\n",
            "============================================================\n",
            "\n",
            "Epoch 1/30\n",
            "----------------------------------------\n"
          ]
        },
        {
          "output_type": "stream",
          "name": "stderr",
          "text": []
        },
        {
          "output_type": "stream",
          "name": "stdout",
          "text": [
            "Train - Loss: 0.6403, AUC: 0.5971\n",
            "Valid - Loss: 0.6032, AUC: 0.6732\n",
            "Learning rate: 0.001000\n",
            "✓ New best model saved! (AUC: 0.6732)\n",
            "\n",
            "Epoch 2/30\n",
            "----------------------------------------\n"
          ]
        },
        {
          "output_type": "stream",
          "name": "stderr",
          "text": []
        },
        {
          "output_type": "stream",
          "name": "stdout",
          "text": [
            "Train - Loss: 0.5961, AUC: 0.6898\n",
            "Valid - Loss: 0.5839, AUC: 0.7055\n",
            "Learning rate: 0.001000\n",
            "✓ New best model saved! (AUC: 0.7055)\n",
            "\n",
            "Epoch 3/30\n",
            "----------------------------------------\n"
          ]
        },
        {
          "output_type": "stream",
          "name": "stderr",
          "text": []
        },
        {
          "output_type": "stream",
          "name": "stdout",
          "text": [
            "Train - Loss: 0.5770, AUC: 0.7180\n",
            "Valid - Loss: 0.5794, AUC: 0.7198\n",
            "Learning rate: 0.001000\n",
            "✓ New best model saved! (AUC: 0.7198)\n",
            "\n",
            "Epoch 4/30\n",
            "----------------------------------------\n"
          ]
        },
        {
          "output_type": "stream",
          "name": "stderr",
          "text": []
        },
        {
          "output_type": "stream",
          "name": "stdout",
          "text": [
            "Train - Loss: 0.5675, AUC: 0.7333\n",
            "Valid - Loss: 0.5695, AUC: 0.7277\n",
            "Learning rate: 0.001000\n",
            "✓ New best model saved! (AUC: 0.7277)\n",
            "\n",
            "Epoch 5/30\n",
            "----------------------------------------\n"
          ]
        },
        {
          "output_type": "stream",
          "name": "stderr",
          "text": []
        },
        {
          "output_type": "stream",
          "name": "stdout",
          "text": [
            "Train - Loss: 0.5590, AUC: 0.7432\n",
            "Valid - Loss: 0.5664, AUC: 0.7319\n",
            "Learning rate: 0.001000\n",
            "✓ New best model saved! (AUC: 0.7319)\n",
            "\n",
            "Epoch 6/30\n",
            "----------------------------------------\n"
          ]
        },
        {
          "output_type": "stream",
          "name": "stderr",
          "text": []
        },
        {
          "output_type": "stream",
          "name": "stdout",
          "text": [
            "Train - Loss: 0.5523, AUC: 0.7522\n",
            "Valid - Loss: 0.5684, AUC: 0.7310\n",
            "Learning rate: 0.001000\n",
            "No improvement. Patience: 1/5\n",
            "\n",
            "Epoch 7/30\n",
            "----------------------------------------\n"
          ]
        },
        {
          "output_type": "stream",
          "name": "stderr",
          "text": []
        },
        {
          "output_type": "stream",
          "name": "stdout",
          "text": [
            "Train - Loss: 0.5455, AUC: 0.7587\n",
            "Valid - Loss: 0.5644, AUC: 0.7345\n",
            "Learning rate: 0.001000\n",
            "✓ New best model saved! (AUC: 0.7345)\n",
            "\n",
            "Epoch 8/30\n",
            "----------------------------------------\n"
          ]
        },
        {
          "output_type": "stream",
          "name": "stderr",
          "text": []
        },
        {
          "output_type": "stream",
          "name": "stdout",
          "text": [
            "Train - Loss: 0.5419, AUC: 0.7634\n",
            "Valid - Loss: 0.5717, AUC: 0.7347\n",
            "Learning rate: 0.001000\n",
            "✓ New best model saved! (AUC: 0.7347)\n",
            "\n",
            "Epoch 9/30\n",
            "----------------------------------------\n"
          ]
        },
        {
          "output_type": "stream",
          "name": "stderr",
          "text": []
        },
        {
          "output_type": "stream",
          "name": "stdout",
          "text": [
            "Train - Loss: 0.5360, AUC: 0.7698\n",
            "Valid - Loss: 0.5669, AUC: 0.7362\n",
            "Learning rate: 0.001000\n",
            "✓ New best model saved! (AUC: 0.7362)\n",
            "\n",
            "Epoch 10/30\n",
            "----------------------------------------\n"
          ]
        },
        {
          "output_type": "stream",
          "name": "stderr",
          "text": []
        },
        {
          "output_type": "stream",
          "name": "stdout",
          "text": [
            "Train - Loss: 0.5331, AUC: 0.7740\n",
            "Valid - Loss: 0.5688, AUC: 0.7359\n",
            "Learning rate: 0.001000\n",
            "No improvement. Patience: 1/5\n",
            "\n",
            "Epoch 11/30\n",
            "----------------------------------------\n"
          ]
        },
        {
          "output_type": "stream",
          "name": "stderr",
          "text": []
        },
        {
          "output_type": "stream",
          "name": "stdout",
          "text": [
            "Train - Loss: 0.5287, AUC: 0.7780\n",
            "Valid - Loss: 0.5674, AUC: 0.7349\n",
            "Learning rate: 0.001000\n",
            "No improvement. Patience: 2/5\n",
            "\n",
            "Epoch 12/30\n",
            "----------------------------------------\n"
          ]
        },
        {
          "output_type": "stream",
          "name": "stderr",
          "text": []
        },
        {
          "output_type": "stream",
          "name": "stdout",
          "text": [
            "Train - Loss: 0.5259, AUC: 0.7808\n",
            "Valid - Loss: 0.5679, AUC: 0.7340\n",
            "Learning rate: 0.001000\n",
            "No improvement. Patience: 3/5\n",
            "\n",
            "Epoch 13/30\n",
            "----------------------------------------\n"
          ]
        },
        {
          "output_type": "stream",
          "name": "stderr",
          "text": []
        },
        {
          "output_type": "stream",
          "name": "stdout",
          "text": [
            "Train - Loss: 0.5204, AUC: 0.7867\n",
            "Valid - Loss: 0.5698, AUC: 0.7370\n",
            "Learning rate: 0.001000\n",
            "✓ New best model saved! (AUC: 0.7370)\n",
            "\n",
            "Epoch 14/30\n",
            "----------------------------------------\n"
          ]
        },
        {
          "output_type": "stream",
          "name": "stderr",
          "text": []
        },
        {
          "output_type": "stream",
          "name": "stdout",
          "text": [
            "Train - Loss: 0.5185, AUC: 0.7894\n",
            "Valid - Loss: 0.5681, AUC: 0.7347\n",
            "Learning rate: 0.001000\n",
            "No improvement. Patience: 1/5\n",
            "\n",
            "Epoch 15/30\n",
            "----------------------------------------\n"
          ]
        },
        {
          "output_type": "stream",
          "name": "stderr",
          "text": []
        },
        {
          "output_type": "stream",
          "name": "stdout",
          "text": [
            "Train - Loss: 0.5145, AUC: 0.7926\n",
            "Valid - Loss: 0.5735, AUC: 0.7330\n",
            "Learning rate: 0.001000\n",
            "No improvement. Patience: 2/5\n",
            "\n",
            "Epoch 16/30\n",
            "----------------------------------------\n"
          ]
        },
        {
          "output_type": "stream",
          "name": "stderr",
          "text": []
        },
        {
          "output_type": "stream",
          "name": "stdout",
          "text": [
            "Train - Loss: 0.5122, AUC: 0.7948\n",
            "Valid - Loss: 0.5729, AUC: 0.7346\n",
            "Learning rate: 0.001000\n",
            "No improvement. Patience: 3/5\n",
            "\n",
            "Epoch 17/30\n",
            "----------------------------------------\n"
          ]
        },
        {
          "output_type": "stream",
          "name": "stderr",
          "text": []
        },
        {
          "output_type": "stream",
          "name": "stdout",
          "text": [
            "Train - Loss: 0.5081, AUC: 0.7993\n",
            "Valid - Loss: 0.5764, AUC: 0.7337\n",
            "Learning rate: 0.000500\n",
            "No improvement. Patience: 4/5\n",
            "\n",
            "Epoch 18/30\n",
            "----------------------------------------\n"
          ]
        },
        {
          "output_type": "stream",
          "name": "stderr",
          "text": [
            "                                                         "
          ]
        },
        {
          "output_type": "stream",
          "name": "stdout",
          "text": [
            "Train - Loss: 0.5043, AUC: 0.8029\n",
            "Valid - Loss: 0.5721, AUC: 0.7349\n",
            "Learning rate: 0.000500\n",
            "No improvement. Patience: 5/5\n",
            "\n",
            "Early stopping triggered after 18 epochs\n",
            "\n",
            "Training complete!\n",
            "Best validation AUC: 0.7370\n"
          ]
        },
        {
          "output_type": "stream",
          "name": "stderr",
          "text": [
            "\r"
          ]
        }
      ]
    },
    {
      "cell_type": "markdown",
      "source": [
        "# CELL 15: Plot Training History"
      ],
      "metadata": {
        "id": "Vp4XSTwZFEzB"
      }
    },
    {
      "cell_type": "code",
      "source": [
        "# CELL 15: Plot Training History\n",
        "\n",
        "# Create figure with two subplots\n",
        "plt.figure(figsize=(12, 4))\n",
        "\n",
        "# Subplot 1: Loss curves\n",
        "plt.subplot(1, 2, 1)\n",
        "epochs = range(1, len(history['train_loss']) + 1)\n",
        "plt.plot(epochs, history['train_loss'], 'b-', label='Train Loss', marker='o', markersize=4)\n",
        "plt.plot(epochs, history['val_loss'], 'r-', label='Val Loss', marker='s', markersize=4)\n",
        "plt.xlabel('Epoch')\n",
        "plt.ylabel('Loss')\n",
        "plt.title('Training and Validation Loss')\n",
        "plt.legend()\n",
        "plt.grid(True, alpha=0.3)\n",
        "\n",
        "# Subplot 2: AUC curves\n",
        "plt.subplot(1, 2, 2)\n",
        "plt.plot(epochs, history['train_auc'], 'b-', label='Train AUC', marker='o', markersize=4)\n",
        "plt.plot(epochs, history['val_auc'], 'r-', label='Val AUC', marker='s', markersize=4)\n",
        "plt.axhline(y=0.82, color='g', linestyle='--', label='Target AUC (0.82)')\n",
        "plt.xlabel('Epoch')\n",
        "plt.ylabel('AUC')\n",
        "plt.title('Training and Validation AUC')\n",
        "plt.legend()\n",
        "plt.grid(True, alpha=0.3)\n",
        "\n",
        "plt.tight_layout()\n",
        "plt.show()\n",
        "\n",
        "# Print summary statistics\n",
        "print(\"Training Summary:\")\n",
        "print(\"-\" * 40)\n",
        "print(f\"Total epochs trained: {len(history['train_loss'])}\")\n",
        "print(f\"Best validation AUC: {max(history['val_auc']):.4f}\")\n",
        "print(f\"Final train AUC: {history['train_auc'][-1]:.4f}\")\n",
        "print(f\"Final validation AUC: {history['val_auc'][-1]:.4f}\")\n",
        "\n",
        "# Check for overfitting\n",
        "final_gap = history['train_auc'][-1] - history['val_auc'][-1]\n",
        "print(f\"\\nTrain-Val gap: {final_gap:.4f}\")\n",
        "if final_gap > 0.05:\n",
        "    print(\"Model might be overfitting\")\n",
        "else:\n",
        "    print(\"✓ No significant overfitting detected\")"
      ],
      "metadata": {
        "colab": {
          "base_uri": "https://localhost:8080/",
          "height": 449
        },
        "id": "QR2gh3sLFHmN",
        "outputId": "7d07c41d-22c4-4d4b-d0dd-c2e395ca5105"
      },
      "execution_count": null,
      "outputs": [
        {
          "output_type": "display_data",
          "data": {
            "text/plain": [
              "<Figure size 1200x400 with 2 Axes>"
            ],
            "image/png": "[encoded data removed]"
          },
          "metadata": {}
        },
        {
          "output_type": "stream",
          "name": "stdout",
          "text": [
            "Training Summary:\n",
            "----------------------------------------\n",
            "Total epochs trained: 18\n",
            "Best validation AUC: 0.7370\n",
            "Final train AUC: 0.8029\n",
            "Final validation AUC: 0.7349\n",
            "\n",
            "Train-Val gap: 0.0680\n",
            "Model might be overfitting\n"
          ]
        }
      ]
    },
    {
      "cell_type": "markdown",
      "source": [
        "# CELL 16: Evaluate on Test Set"
      ],
      "metadata": {
        "id": "-qt2FatlFKDk"
      }
    },
    {
      "cell_type": "code",
      "source": [
        "# CELL 16: Evaluate on Test Set\n",
        "\n",
        "# Load best model\n",
        "checkpoint = torch.load('best_sakt_model.pth', weights_only=False)\n",
        "model.load_state_dict(checkpoint['model_state_dict'])\n",
        "print(f\"Loaded best model from epoch {checkpoint['epoch']} with val AUC {checkpoint['best_val_auc']:.4f}\")\n",
        "\n",
        "# Evaluate on test set\n",
        "print(\"\\nEvaluating on test set...\")\n",
        "test_loss, test_auc = validate_epoch(model, test_loader, criterion, device)\n",
        "\n",
        "print(f\"\\nTest Set Results:\")\n",
        "print(f\"Test Loss: {test_loss:.4f}\")\n",
        "print(f\"Test AUC: {test_auc:.4f}\")\n",
        "\n",
        "# Compare with validation performance\n",
        "print(f\"\\nGeneralization check:\")\n",
        "print(f\"Validation AUC: {checkpoint['best_val_auc']:.4f}\")\n",
        "print(f\"Test AUC: {test_auc:.4f}\")\n",
        "print(f\"Val-Test gap: {abs(checkpoint['best_val_auc'] - test_auc):.4f}\")\n",
        "\n",
        "# Additional metrics\n",
        "from sklearn.metrics import accuracy_score, precision_score, recall_score, f1_score\n",
        "\n",
        "# Get predictions for additional metrics\n",
        "model.eval()\n",
        "all_predictions = []\n",
        "all_targets = []\n",
        "\n",
        "with torch.no_grad():\n",
        "    for batch in test_loader:\n",
        "        interactions = batch['interactions'].to(device)\n",
        "        skills = batch['skills'].to(device)\n",
        "        targets = batch['targets'].to(device)\n",
        "        mask = batch['mask'].to(device)\n",
        "\n",
        "        predictions = model(interactions, skills)\n",
        "\n",
        "        valid_idx = mask == 1\n",
        "        all_predictions.extend(predictions[valid_idx].cpu().numpy())\n",
        "        all_targets.extend(targets[valid_idx].cpu().numpy())\n",
        "\n",
        "# Convert to numpy arrays\n",
        "all_predictions = np.array(all_predictions)\n",
        "all_targets = np.array(all_targets)\n",
        "\n",
        "# Calculate additional metrics using 0.5 threshold\n",
        "binary_predictions = (all_predictions > 0.5).astype(int)\n",
        "\n",
        "accuracy = accuracy_score(all_targets, binary_predictions)\n",
        "precision = precision_score(all_targets, binary_predictions)\n",
        "recall = recall_score(all_targets, binary_predictions)\n",
        "f1 = f1_score(all_targets, binary_predictions)\n",
        "\n",
        "print(f\"\\nAdditional Test Metrics:\")\n",
        "print(f\"Accuracy: {accuracy:.4f}\")\n",
        "print(f\"Precision: {precision:.4f}\")\n",
        "print(f\"Recall: {recall:.4f}\")\n",
        "print(f\"F1-Score: {f1:.4f}\")"
      ],
      "metadata": {
        "colab": {
          "base_uri": "https://localhost:8080/"
        },
        "id": "fpUEBkydFMc5",
        "outputId": "d54864f0-f63a-457d-f730-4c63b75dbc20"
      },
      "execution_count": null,
      "outputs": [
        {
          "output_type": "stream",
          "name": "stdout",
          "text": [
            "Loaded best model from epoch 13 with val AUC 0.7370\n",
            "\n",
            "Evaluating on test set...\n"
          ]
        },
        {
          "output_type": "stream",
          "name": "stderr",
          "text": []
        },
        {
          "output_type": "stream",
          "name": "stdout",
          "text": [
            "\n",
            "Test Set Results:\n",
            "Test Loss: 0.5710\n",
            "Test AUC: 0.7349\n",
            "\n",
            "Generalization check:\n",
            "Validation AUC: 0.7370\n",
            "Test AUC: 0.7349\n",
            "Val-Test gap: 0.0021\n",
            "\n",
            "Additional Test Metrics:\n",
            "Accuracy: 0.7139\n",
            "Precision: 0.7403\n",
            "Recall: 0.8636\n",
            "F1-Score: 0.7972\n"
          ]
        }
      ]
    },
    {
      "cell_type": "markdown",
      "source": [
        "# CELL 17: Save Final Model and Results"
      ],
      "metadata": {
        "id": "CohmA6OQFQKe"
      }
    },
    {
      "cell_type": "code",
      "source": [
        "# CELL 17: Save Final Model and Results\n",
        "\n",
        "import json\n",
        "from datetime import datetime\n",
        "\n",
        "# Create results summary\n",
        "results = {\n",
        "    'model_name': 'SAKT',\n",
        "    'dataset': 'ASSISTments2009',\n",
        "    'timestamp': datetime.now().strftime('%Y-%m-%d %H:%M:%S'),\n",
        "    'hyperparameters': {\n",
        "        'num_skills': 145,\n",
        "        'embed_dim': 128,\n",
        "        'num_heads': 5,\n",
        "        'dropout': 0.2,\n",
        "        'learning_rate': 0.001,\n",
        "        'batch_size': 64,\n",
        "        'max_seq_len': 100\n",
        "    },\n",
        "    'results': {\n",
        "        'best_val_auc': float(checkpoint['best_val_auc']),\n",
        "        'test_auc': float(test_auc),\n",
        "        'test_accuracy': float(accuracy),\n",
        "        'test_precision': float(precision),\n",
        "        'test_recall': float(recall),\n",
        "        'test_f1': float(f1),\n",
        "        'total_epochs': len(history['train_loss']),\n",
        "        'best_epoch': checkpoint['epoch']\n",
        "    },\n",
        "    'data_stats': {\n",
        "        'train_students': len(data['train']),\n",
        "        'val_students': len(data['val']),\n",
        "        'test_students': len(data['test']),\n",
        "        'unique_skills': data['num_skills']\n",
        "    }\n",
        "}\n",
        "\n",
        "# Save results to JSON\n",
        "with open('sakt_results.json', 'w') as f:\n",
        "    json.dump(results, f, indent=4)\n",
        "\n",
        "# Save final model with all information\n",
        "final_save = {\n",
        "    'model_state_dict': model.state_dict(),\n",
        "    'optimizer_state_dict': optimizer.state_dict(),\n",
        "    'results': results,\n",
        "    'history': history,\n",
        "    'skill_to_idx': data['skill_to_idx']\n",
        "}\n",
        "\n",
        "torch.save(final_save, 'sakt_final_model.pth')\n",
        "\n",
        "print(\"Model and results saved!\")\n",
        "print(f\"\\nSummary for thesis:\")\n",
        "print(f\"- SAKT achieved {test_auc:.4f} AUC on ASSISTments2009\")\n",
        "print(f\"- Model has {sum(p.numel() for p in model.parameters()):,} parameters\")\n",
        "print(f\"- Training took {len(history['train_loss'])} epochs\")"
      ],
      "metadata": {
        "colab": {
          "base_uri": "https://localhost:8080/"
        },
        "id": "K2aDuaUnFSN6",
        "outputId": "cec4e2a8-0f2b-4727-dc96-d8e8f7feecbd"
      },
      "execution_count": null,
      "outputs": [
        {
          "output_type": "stream",
          "name": "stdout",
          "text": [
            "Model and results saved!\n",
            "\n",
            "Summary for thesis:\n",
            "- SAKT achieved 0.7349 AUC on ASSISTments2009\n",
            "- Model has 382,081 parameters\n",
            "- Training took 18 epochs\n"
          ]
        }
      ]
    }
  ]
}