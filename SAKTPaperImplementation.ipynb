{
  "cells": [
    {
      "cell_type": "markdown",
      "metadata": {
        "id": "view-in-github",
        "colab_type": "text"
      },
      "source": [
        "<a href=\"https://colab.research.google.com/github/AmurdAmzer/SAKT-Paper_Implementation/blob/main/SAKTPaperImplementation.ipynb\" target=\"_parent\"><img src=\"https://colab.research.google.com/assets/colab-badge.svg\" alt=\"Open In Colab\"/></a>"
      ]
    },
    {
      "cell_type": "markdown",
      "metadata": {
        "id": "r3Mjf06XlwkI"
      },
      "source": [
        "# Cell 1: Uploading data via Colab's File Browser"
      ]
    },
    {
      "cell_type": "code",
      "execution_count": 1,
      "metadata": {
        "colab": {
          "base_uri": "https://localhost:8080/",
          "height": 0
        },
        "id": "LacccNggl2gy",
        "outputId": "3621b410-25b0-47b3-a7ec-e4fcef4579aa"
      },
      "outputs": [
        {
          "output_type": "stream",
          "name": "stdout",
          "text": [
            "Files in current directory:\n",
            " - skill_builder_data_corrected_collapsed.csv\n"
          ]
        }
      ],
      "source": [
        "# Cell 1: Uploading data via Colab's File Browser\n",
        "\n",
        "# os stands for \"Operating System\" - it's like a special toolkit that lets your Python code talk to your computer's file system.\n",
        "import os\n",
        "print(\"Files in current directory:\")\n",
        "for file in os.listdir():\n",
        "  if file.endswith(\".csv\"):\n",
        "    print(f\" - {file}\")"
      ]
    },
    {
      "cell_type": "markdown",
      "metadata": {
        "id": "soB_jKNd5A3M"
      },
      "source": [
        "#Cell 2: Imports and File upload"
      ]
    },
    {
      "cell_type": "code",
      "execution_count": 2,
      "metadata": {
        "colab": {
          "base_uri": "https://localhost:8080/",
          "height": 0
        },
        "id": "l7PycBC01iR8",
        "outputId": "d85344d9-0868-4443-f1c3-510d005b4a71"
      },
      "outputs": [
        {
          "output_type": "stream",
          "name": "stdout",
          "text": [
            "Dataset shape: (346860, 31)\n",
            "\n",
            "Column names: ['Unnamed: 0', 'order_id', 'assignment_id', 'user_id', 'assistment_id', 'problem_id', 'original', 'correct', 'attempt_count', 'ms_first_response', 'tutor_mode', 'answer_type', 'sequence_id', 'student_class_id', 'position', 'type', 'base_sequence_id', 'skill_id', 'skill_name', 'teacher_id', 'school_id', 'hint_count', 'hint_total', 'overlap_time', 'template_id', 'answer_id', 'answer_text', 'first_action', 'bottom_hint', 'opportunity', 'opportunity_original']\n",
            "\n",
            "First 5 rows:    Unnamed: 0  order_id  assignment_id  user_id  assistment_id  problem_id  \\\n",
            "0           1  33022537         277618    64525          33139       51424   \n",
            "1           2  33022709         277618    64525          33150       51435   \n",
            "2           3  35450204         220674    70363          33159       51444   \n",
            "3           4  35450295         220674    70363          33110       51395   \n",
            "4           5  35450311         220674    70363          33196       51481   \n",
            "\n",
            "   original  correct  attempt_count  ms_first_response  ... hint_count  \\\n",
            "0         1        1              1              32454  ...          0   \n",
            "1         1        1              1               4922  ...          0   \n",
            "2         1        0              2              25390  ...          0   \n",
            "3         1        1              1               4859  ...          0   \n",
            "4         1        0             14              19813  ...          3   \n",
            "\n",
            "  hint_total  overlap_time  template_id  answer_id answer_text  first_action  \\\n",
            "0          3         32454        30799        NaN          26             0   \n",
            "1          3          4922        30799        NaN          55             0   \n",
            "2          3         42000        30799        NaN          88             0   \n",
            "3          3          4859        30059        NaN          41             0   \n",
            "4          4        124564        30060        NaN          65             0   \n",
            "\n",
            "  bottom_hint opportunity  opportunity_original  \n",
            "0         NaN           1                   1.0  \n",
            "1         NaN           2                   2.0  \n",
            "2         NaN           1                   1.0  \n",
            "3         NaN           2                   2.0  \n",
            "4         0.0           3                   3.0  \n",
            "\n",
            "[5 rows x 31 columns]\n"
          ]
        }
      ],
      "source": [
        "# Cell 2: Imports and File upload (df = pd.read_csv(....)) opens the spreadsheet(data) and puts it into a \"DataFrame\"\n",
        "import pandas as pd\n",
        "import numpy as np\n",
        "import matplotlib.pyplot as plt\n",
        "import seaborn as sns\n",
        "\n",
        "# Load the CSV file (Remember to use the actual file name)\n",
        "# encoding='ISO-8859-1' handles special characters in the data\n",
        "# low_memory=False prevents dtype warnings for mixed types\n",
        "\n",
        "# I choose to call my loaded data df, df can mean DataFrame, df is just a variable name, I can choose to name my uploaded data anything.\n",
        "# low_memory=False tells the computer \"take your time reading this properly, don't rush\"\n",
        "# encoding='ISO-8859-1' = Like telling your computer \"hey, this file might have special characters like currency symbols ($ etc.)\".\n",
        "#  Real-Life Analogy\n",
        "\"\"\"\n",
        "It's like telling your computer:\n",
        "When you read this file, treat these bytes or symbols as Latin-style letters — not random gibberish.\"\n",
        "\n",
        "If you don't specify the correct encoding, Python might fail to read the file\n",
        "\"\"\"\n",
        "\n",
        "df = pd.read_csv('skill_builder_data_corrected_collapsed.csv', encoding='ISO-8859-1', low_memory=False)\n",
        "\n",
        "# Show basic information about the dataset\n",
        "print(f\"Dataset shape: {df.shape}\") # (rows, columns)\n",
        "print(f\"\\nColumn names: {list(df.columns)}\") # all column names\n",
        "print(f\"\\nFirst 5 rows: {df.head()}\") # preview first 5 rows. head() has a default parameter built in df.head(n=5). you could specify by df.head(5) etc.\n"
      ]
    },
    {
      "cell_type": "code",
      "source": [
        "# CELL 1.5: Random Seed Function (Add after imports)\n",
        "\n",
        "import random\n",
        "import numpy as np\n",
        "import torch\n",
        "\n",
        "def set_seeds(seed=42):\n",
        "    \"\"\"Set all random seeds for reproducibility\"\"\"\n",
        "    random.seed(seed)\n",
        "    np.random.seed(seed)\n",
        "    torch.manual_seed(seed)\n",
        "    if torch.cuda.is_available():\n",
        "        torch.cuda.manual_seed(seed)\n",
        "        torch.cuda.manual_seed_all(seed)\n",
        "        torch.backends.cudnn.deterministic = True\n",
        "        torch.backends.cudnn.benchmark = False\n",
        "    print(f\"Random seeds set to {seed}\")"
      ],
      "metadata": {
        "id": "8SyfRVMif8zD"
      },
      "execution_count": 3,
      "outputs": []
    },
    {
      "cell_type": "markdown",
      "metadata": {
        "id": "Ir9cX3Pr5Ncc"
      },
      "source": [
        "# Cell3: Key Statistics - Understanding the dataset size and scope"
      ]
    },
    {
      "cell_type": "code",
      "execution_count": 4,
      "metadata": {
        "colab": {
          "base_uri": "https://localhost:8080/",
          "height": 0
        },
        "id": "cqUdL-mz24hc",
        "outputId": "e61484b9-9fec-43a4-eda2-947b848eb9d1"
      },
      "outputs": [
        {
          "output_type": "stream",
          "name": "stdout",
          "text": [
            "===DATASET OVERVIEW===\n",
            "Toatal interactions: 346860\n",
            "Unique students: 4217\n",
            "Unique problems: 26688\n",
            "Unique skills: 149\n",
            "\n",
            "Correct rate: 64.53%\n",
            "Rows with skill_id: 283105\n",
            "Rows missing skill_id: 63755 (18.4%)\n"
          ]
        }
      ],
      "source": [
        "# Cell 3: Key Statistics - Understanding the dataset size and scope\n",
        "\n",
        "print(\"===DATASET OVERVIEW===\")\n",
        "\n",
        "# Count total number of student interactions = number of rows\n",
        "print(f\"Toatal interactions: {len(df)}\")\n",
        "\n",
        "# Count unique students - each student has a unique user_id\n",
        "print(f\"Unique students: {df['user_id'].nunique()}\") # df['user_id] = access the user id column. nunique = count how many unique values are in that column\n",
        "\n",
        "# Count unique problems - individual questions students attempted\n",
        "print(f\"Unique problems: {df['problem_id'].nunique()}\")\n",
        "\n",
        "# Count unique skills - knowledge concepts being tested. this is crucial because I will create embeddings for each skill\n",
        "print(f\"Unique skills: {df['skill_id'].nunique()}\")\n",
        "\n",
        "# Calculate overall performance - percentage of correct answers\n",
        "print(f\"\\nCorrect rate: {df['correct'].mean():.2%}\")  # .2% means format the number as percentage with two decimal places, so for eg. 0.825641 becomes 82.56%\n",
        "\n",
        "# Check data completeness for skill_id (Critical for SAKT)\n",
        "# NB. SAKT needs skill_id to work - rows without the skill_id must be removed\n",
        "print(f\"Rows with skill_id: {df['skill_id'].notna().sum()}\")\n",
        "print(f\"Rows missing skill_id: {df['skill_id'].isna().sum()} ({df['skill_id'].isna().mean():.1%})\")\n"
      ]
    },
    {
      "cell_type": "markdown",
      "metadata": {
        "id": "QhKU22wsrOMe"
      },
      "source": [
        "# CELL 4: Examine One Student's Learning Journey (Creating a case study).\n",
        "# Before SAKT learns from all students, you want to see what one student's learning path looks like\n",
        "# This helps to understand the sequential nature of the data"
      ]
    },
    {
      "cell_type": "code",
      "execution_count": 5,
      "metadata": {
        "colab": {
          "base_uri": "https://localhost:8080/",
          "height": 0
        },
        "id": "8nUiiGtprW7R",
        "outputId": "8c53b86d-f8fb-4b21-daed-ee42d083b730"
      },
      "outputs": [
        {
          "output_type": "stream",
          "name": "stdout",
          "text": [
            "Student 96235 attempted 977 problems\n",
            "Skills attempted: 87\n",
            "Correct rate: 58.03%\n",
            "\n",
            "First 30 attempts:\n",
            "        order_id skill_id  correct  ms_first_response\n",
            "96959   38171250       49        0               6228\n",
            "96960   38171251       49        1               4544\n",
            "96961   38171252       49        1               6059\n",
            "96962   38171253       49        0               6154\n",
            "96963   38171254       49        0              11896\n",
            "96964   38171255       49        1              11180\n",
            "96965   38171256       49        0               5603\n",
            "96966   38171257       49        0               5152\n",
            "96967   38171258       49        0               8184\n",
            "96968   38171259       49        0               3551\n",
            "96969   38171260       49        1               7122\n",
            "96970   38171261       49        1               4576\n",
            "96971   38171262       49        0               4139\n",
            "96972   38171263       49        0               6022\n",
            "96973   38171264       49        0              14956\n",
            "96974   38171265       49        1               9418\n",
            "96975   38171266       49        1              11435\n",
            "96976   38171267       49        0               6624\n",
            "96977   38171268       49        0               6217\n",
            "96978   38171269       49        1               9203\n",
            "259830  38171273      311        1             105282\n",
            "229704  38171275      307        1              15819\n",
            "259831  38171300      311        1              80594\n",
            "282263  38171301      368        0              64103\n",
            "282264  38171302      368        0             113526\n",
            "282265  38171303      368        1              67698\n",
            "282266  38171304      368        1              48215\n",
            "282267  38171305      368        1              92317\n",
            "60818   38171315       32        1              12908\n",
            "11447   38171316        4        0              15694\n"
          ]
        }
      ],
      "source": [
        "# Cell 4: Examine One Student's (random) Learning Journey\n",
        "# This helps us understand the sequential nature of the data\n",
        "\n",
        "# Find students sorted by number of attempts (most active students)\n",
        "student_activity = df['user_id'].value_counts()\n",
        "\n",
        "# Pick the 11th most active student (avoid outliers)\n",
        "student_id = student_activity.index[20]\n",
        "\n",
        "# Get all data for this student, sorted by time\n",
        "# Order_id represents the sequence of attempsts\n",
        "\n",
        "student_data = df[df['user_id'] == student_id].sort_values('order_id')\n",
        "\n",
        "# Display student summary\n",
        "print(f\"Student {student_id} attempted {len(student_data)} problems\")\n",
        "print(f\"Skills attempted: {student_data['skill_id'].nunique()}\")\n",
        "print(f\"Correct rate: {student_data['correct'].mean():.2%}\")\n",
        "\n",
        "# Show their first 30 attempts to see the sequential Pattern\n",
        "print(\"\\nFirst 30 attempts:\")\n",
        "print(student_data[['order_id', 'skill_id', 'correct', 'ms_first_response']].head(30))"
      ]
    },
    {
      "cell_type": "markdown",
      "metadata": {
        "id": "j4AOb7nX5wK_"
      },
      "source": [
        "# CELL 5: Visualize Key Patterns to Understand The Data Better"
      ]
    },
    {
      "cell_type": "code",
      "execution_count": 6,
      "metadata": {
        "colab": {
          "base_uri": "https://localhost:8080/",
          "height": 1454
        },
        "id": "WPbKjUOS5vWK",
        "outputId": "2e0b49a5-8aee-49d4-b1e7-5441363fed44"
      },
      "outputs": [
        {
          "output_type": "stream",
          "name": "stdout",
          "text": [
            "top 20 Most Active Students:\n",
            "user_id: sequence length\n",
            "78978:     1383\n",
            "78970:     1334\n",
            "79032:     1264\n",
            "79021:     1239\n",
            "96274:     1236\n",
            "78979:     1163\n",
            "96244:     1149\n",
            "75169:     1129\n",
            "79013:     1124\n",
            "78989:     1115\n",
            "79029:     1112\n",
            "78980:     1112\n",
            "79019:     1095\n",
            "71881:     1089\n",
            "78987:     1084\n",
            "96243:     1083\n",
            "79031:     1064\n",
            "79018:     1041\n",
            "96265:     1014\n",
            "79012:     1005\n",
            "\n",
            "\n",
            "Buttom 20 Least Active Students:\n",
            "user_id: sequence length\n",
            "87376:     1\n",
            "82017:     1\n",
            "86706:     1\n",
            "88329:     1\n",
            "88340:     1\n",
            "88358:     1\n",
            "92380:     1\n",
            "92527:     1\n",
            "77725:     1\n",
            "87434:     1\n",
            "78101:     1\n",
            "78252:     1\n",
            "78241:     1\n",
            "87448:     1\n",
            "71163:     1\n",
            "71560:     1\n",
            "71573:     1\n",
            "76986:     1\n",
            "74864:     1\n",
            "51933:     1\n",
            "\n",
            "\n",
            "20 Random students sorted by length\n",
            "user_id: sequence length\n",
            "86293:     1\n",
            "91245:     2\n",
            "87423:     2\n",
            "87114:     2\n",
            "87594:     5\n",
            "87466:     5\n",
            "91246:     7\n",
            "80093:     15\n",
            "81481:     15\n",
            "90010:     19\n",
            "91040:     20\n",
            "78999:     23\n",
            "84742:     24\n",
            "86415:     53\n",
            "79545:     74\n",
            "84333:     74\n",
            "72059:     109\n",
            "79491:     131\n",
            "79218:     172\n",
            "79583:     299\n"
          ]
        },
        {
          "output_type": "execute_result",
          "data": {
            "text/plain": [
              "Text(0.5, 1.0, 'Distribution of Student Sequence Lengths')"
            ]
          },
          "metadata": {},
          "execution_count": 6
        },
        {
          "output_type": "display_data",
          "data": {
            "text/plain": [
              "<Figure size 3000x1000 with 1 Axes>"
            ],
            "image/png": "[encoded data removed]"
          },
          "metadata": {}
        }
      ],
      "source": [
        "# CELL 5: Visualing Key Patterns to Understand the Data Better\n",
        "\n",
        "# Calculate seuence length for each student (how many problems/quenstions/skills did each student attempt)\n",
        "\n",
        "seq_lengths = df.groupby('user_id').size()\n",
        "\n",
        "# seq_len for the Top 20 students\n",
        "print(\"top 20 Most Active Students:\")\n",
        "print(\"user_id: sequence length\")\n",
        "sorted_seq = seq_lengths.sort_values(ascending=False)\n",
        "for user_id, length in sorted_seq.head(20).items():\n",
        "  print(f\"{user_id}:     {length}\")\n",
        "\n",
        "print(\"\\n\")\n",
        "\n",
        "\n",
        "# seq_len for the Buttom 20 students\n",
        "print(\"Buttom 20 Least Active Students:\")\n",
        "print(\"user_id: sequence length\")\n",
        "sorted_seq = seq_lengths.sort_values(ascending=False)\n",
        "for user_id, length in sorted_seq.tail(20).items():\n",
        "  print(f\"{user_id}:     {length}\")\n",
        "\n",
        "print(\"\\n\")\n",
        "\n",
        "# Random 20 students sorted by length\n",
        "print(\"20 Random students sorted by length\")\n",
        "print(\"user_id: sequence length\")\n",
        "random_sample = seq_lengths.sample(20).sort_values() # If you remove the ascending argument, pandas uses the default, which is: ascending=True\n",
        "for user_id, length in random_sample.items():\n",
        "  print(f\"{user_id}:     {length}\")\n",
        "\n",
        "\n",
        "plt.figure(figsize=(30,10))\n",
        "\n",
        "# Subplot 1. Distribution of Student Sequence Lengths. This shows us whether we have enough data per student for SAKT\n",
        "#plt.subplot(1,2,1)\n",
        "plt.hist(seq_lengths, bins=150, edgecolor='black')\n",
        "plt.xlabel('Sequence Length')\n",
        "plt.ylabel('Number of Students')\n",
        "plt.title('Distribution of Student Sequence Lengths')\n",
        "\n",
        "#Subplot 2. Most Attempted Skills. This shows if some skills dominate the dataset.\n",
        "#plt.subplot(1,2,2)\n",
        "\n",
        "# Count attempts per skill and get top 20.\n",
        "#skill_attempts = df.groupby('skill_id').size().sort_values(ascending=False)\n",
        "#top_skills = skill_attempts.head(20)\n",
        "\n"
      ]
    },
    {
      "cell_type": "markdown",
      "metadata": {
        "id": "ATuGUM4053dg"
      },
      "source": [
        "# CELL 6: Data Quality Check - Critical for Reliable Model Training"
      ]
    },
    {
      "cell_type": "code",
      "execution_count": 7,
      "metadata": {
        "colab": {
          "base_uri": "https://localhost:8080/",
          "height": 0
        },
        "id": "Nh6WRXAH56qi",
        "outputId": "cba5d746-97c4-45cc-ba6f-57710c4b4da6"
      },
      "outputs": [
        {
          "output_type": "stream",
          "name": "stdout",
          "text": [
            "Data Quality Report:\n",
            "----------------------------------------\n",
            "Duplicate rows: 0\n",
            "Students with <5 attempts: 473 (11.2%)\n",
            "Students with >500 attempts: 181\n",
            "All sequences properly ordered: True\n",
            "\n",
            "Original problems: 275458 (79.4%)\n",
            "Scaffolding problems: 71402 (20.6%)\n",
            "SAKT paper uses only original problems\n",
            "\n",
            "Answer distribution:\n",
            "Correct: 223818 (64.5%)\n",
            "Incorrect: 123042 (35.5%)\n",
            "\n",
            "Missing data analysis:\n",
            "Missing skill_id: 63755 rows (18.4%)\n",
            "Missing user_id: 0 rows\n",
            "Missing correct: 0 rows\n",
            "SAKT requires skill_id, user_id, and correct to be present\n"
          ]
        }
      ],
      "source": [
        "# CELL 6: Data Quality Check - Critical for Reliable Model Training\n",
        "\n",
        "print(\"Data Quality Report:\")\n",
        "print(\"-\" * 40)\n",
        "\n",
        "# Check 1: Duplicate rows (same data appearing multiple times)\n",
        "duplicate_count = df.duplicated().sum()\n",
        "print(f\"Duplicate rows: {duplicate_count}\")\n",
        "if duplicate_count > 0:\n",
        "    print(\"Need to remove duplicates!\")\n",
        "\n",
        "# Check 2: Students with very few attempts\n",
        "# SAKT needs sufficient history to learn patterns\n",
        "too_few = (seq_lengths < 5).sum()\n",
        "print(f\"Students with <5 attempts: {too_few} ({too_few/len(seq_lengths)*100:.1f}%)\")\n",
        "\n",
        "# Check 3: Students with too many attempts (potential outliers)\n",
        "too_many = (seq_lengths > 500).sum()\n",
        "print(f\"Students with >500 attempts: {too_many}\")\n",
        "\n",
        "# Check 4: Temporal ordering validation\n",
        "# Sort by user and order_id to check sequence integrity\n",
        "df_sorted = df.sort_values(['user_id', 'order_id'])\n",
        "# For each user, check if order_id always increases\n",
        "is_ordered = df_sorted.groupby('user_id')['order_id'].apply(\n",
        "    lambda x: (x.diff().dropna() > 0).all()  # diff() calculates difference between consecutive values\n",
        ").all()\n",
        "print(f\"All sequences properly ordered: {is_ordered}\")\n",
        "\n",
        "# Check 5: Original vs scaffolding problems\n",
        "# Original = main problem, scaffolding = hints/sub-problems\n",
        "original_count = (df['original'] == 1).sum()\n",
        "scaffold_count = (df['original'] == 0).sum()\n",
        "print(f\"\\nOriginal problems: {original_count} ({original_count/len(df)*100:.1f}%)\")\n",
        "print(f\"Scaffolding problems: {scaffold_count} ({scaffold_count/len(df)*100:.1f}%)\")\n",
        "print(\"SAKT paper uses only original problems\")\n",
        "\n",
        "# Check 6: Answer distribution\n",
        "print(f\"\\nAnswer distribution:\")\n",
        "print(f\"Correct: {(df['correct'] == 1).sum()} ({df['correct'].mean()*100:.1f}%)\")\n",
        "print(f\"Incorrect: {(df['correct'] == 0).sum()} ({(1-df['correct'].mean())*100:.1f}%)\")\n",
        "\n",
        "# Check 7: Critical missing data for SAKT\n",
        "print(f\"\\nMissing data analysis:\")\n",
        "print(f\"Missing skill_id: {df['skill_id'].isna().sum()} rows ({df['skill_id'].isna().mean()*100:.1f}%)\")\n",
        "print(f\"Missing user_id: {df['user_id'].isna().sum()} rows\")\n",
        "print(f\"Missing correct: {df['correct'].isna().sum()} rows\")\n",
        "print(\"SAKT requires skill_id, user_id, and correct to be present\")"
      ]
    },
    {
      "cell_type": "markdown",
      "metadata": {
        "id": "OKW2EPOJ7Y3Y"
      },
      "source": [
        "# CELL 7: Data Preprocessing for SAKT"
      ]
    },
    {
      "cell_type": "code",
      "source": [
        "# CELL 7: Data Preprocessing (Original Problems Only - Following SAKT Paper)\n",
        "\n",
        "print(\"Starting data preprocessing...\")\n",
        "print(f\"Original data shape: {df.shape}\")\n",
        "\n",
        "# Step 1: Keep only original problems (main problems, not hints)\n",
        "# SAKT paper specifies using only original problems\n",
        "df_clean = df[df['original'] == 1].copy()\n",
        "print(f\"After keeping only original problems: {df_clean.shape}\")\n",
        "\n",
        "# Step 2: Remove rows with missing skill_id\n",
        "# SAKT requires skill_id to create embeddings\n",
        "df_clean = df_clean.dropna(subset=['skill_id'])\n",
        "df_clean['skill_id'] = df_clean['skill_id'].astype(int)\n",
        "print(f\"After removing missing skill_id: {df_clean.shape}\")\n",
        "\n",
        "# Step 3: Convert skill_id to integer (it might be float due to NaN values)\n",
        "df_clean['skill_id'] = df_clean['skill_id'].astype(int)\n",
        "\n",
        "# Step 4: Minimum sequence length of 5. Keep only students with >= 0 attempts\n",
        "# Too few attempts don't provide enough learning history\n",
        "MIN_SEQUENCE_LENGTH = 5\n",
        "student_seq_lengths = df_clean.groupby('user_id').size()\n",
        "valid_students = student_seq_lengths[student_seq_lengths >= MIN_SEQUENCE_LENGTH].index\n",
        "df_clean = df_clean[df_clean['user_id'].isin(valid_students)]\n",
        "print(f\"After removing students with <{MIN_SEQUENCE_LENGTH} attempts: {df_clean.shape}\")\n",
        "\n",
        "# Step 5: Sort by user_id and order_id\n",
        "df_clean = df_clean.sort_values(['user_id', 'order_id'])\n",
        "\n",
        "print(f\"\\nFinal clean dataset:\")\n",
        "print(f\"- Total interactions: {len(df_clean)}\")\n",
        "print(f\"- Unique students: {df_clean['user_id'].nunique()}\")\n",
        "print(f\"- Unique skills: {df_clean['skill_id'].nunique()}\")\n",
        "print(f\"- Average sequence length: {df_clean.groupby('user_id').size().mean():.1f}\")\n",
        "print(f\"- Average correct rate: {df_clean['correct'].mean():.2%}\")"
      ],
      "metadata": {
        "colab": {
          "base_uri": "https://localhost:8080/",
          "height": 0
        },
        "id": "GTIeLq3WDcCk",
        "outputId": "b666f7b2-5373-498a-f0f4-28fb40a601e4"
      },
      "execution_count": 8,
      "outputs": [
        {
          "output_type": "stream",
          "name": "stdout",
          "text": [
            "Starting data preprocessing...\n",
            "Original data shape: (346860, 31)\n",
            "After keeping only original problems: (275458, 31)\n",
            "After removing missing skill_id: (259399, 31)\n",
            "After removing students with <5 attempts: (258153, 31)\n",
            "\n",
            "Final clean dataset:\n",
            "- Total interactions: 258153\n",
            "- Unique students: 3628\n",
            "- Unique skills: 145\n",
            "- Average sequence length: 71.2\n",
            "- Average correct rate: 65.83%\n"
          ]
        }
      ]
    },
    {
      "cell_type": "code",
      "source": [],
      "metadata": {
        "id": "HVP0M2sbz818"
      },
      "execution_count": 8,
      "outputs": []
    },
    {
      "cell_type": "markdown",
      "metadata": {
        "id": "D9i4en2K7iJ2"
      },
      "source": [
        "# CELL 8: Transform Data into SAKT Input Format"
      ]
    },
    {
      "cell_type": "code",
      "execution_count": 9,
      "metadata": {
        "colab": {
          "base_uri": "https://localhost:8080/",
          "height": 0
        },
        "id": "osY3ties7k2s",
        "outputId": "1e3e3033-93de-4ec7-8e69-54a1d0246672"
      },
      "outputs": [
        {
          "output_type": "stream",
          "name": "stdout",
          "text": [
            "Number of unique skills: 145\n",
            "Skill IDs range: 1 to 173190193221\n",
            "\n",
            "Creating student sequences...\n",
            "\n",
            "Example sequence (first student):\n",
            "User ID: 14\n",
            "Sequence length: 19\n",
            "First 5 skills attempted: [132, 132, 132, 132, 132]\n",
            "First 5 responses (0=wrong, 1=correct): [0 1 0 0 0]\n",
            "First 5 interaction encodings: [np.int64(132), np.int64(277), np.int64(132), np.int64(132), np.int64(132)]\n"
          ]
        }
      ],
      "source": [
        "# CELL 8: Transform Data into SAKT Input Format\n",
        "\n",
        "# Get unique skills and create mapping\n",
        "unique_skills = sorted(df_clean['skill_id'].unique())\n",
        "num_skills = len(unique_skills)\n",
        "\n",
        "# Create skill_id to index mapping (0 to num_skills-1)\n",
        "skill_to_idx = {skill: idx for idx, skill in enumerate(unique_skills)}\n",
        "\n",
        "print(f\"Number of unique skills: {num_skills}\")\n",
        "print(f\"Skill IDs range: {min(unique_skills)} to {max(unique_skills)}\")\n",
        "\n",
        "# Function to create sequences for each student\n",
        "def create_student_sequences(df_clean, skill_to_idx, num_skills):\n",
        "    \"\"\"\n",
        "    Convert student interactions into SAKT format:\n",
        "    - interaction = skill_idx + (correct * num_skills)\n",
        "    \"\"\"\n",
        "    sequences = []\n",
        "\n",
        "    # Process each student\n",
        "    for user_id, user_data in df_clean.groupby('user_id'):\n",
        "        # Get student's attempt history\n",
        "        skills = user_data['skill_id'].values\n",
        "        corrects = user_data['correct'].values\n",
        "\n",
        "        # Convert skill_id to indices\n",
        "        skill_indices = [skill_to_idx[skill] for skill in skills]\n",
        "\n",
        "        # Create interaction sequence (SAKT encoding)\n",
        "        # interaction = skill_index + (correct * num_skills)\n",
        "        interactions = []\n",
        "        for skill_idx, correct in zip(skill_indices, corrects):\n",
        "            interaction = skill_idx + (correct * num_skills)\n",
        "            interactions.append(interaction)\n",
        "\n",
        "        sequences.append({\n",
        "            'user_id': user_id,\n",
        "            'skill_indices': skill_indices,\n",
        "            'corrects': corrects,\n",
        "            'interactions': interactions,\n",
        "            'length': len(interactions)\n",
        "        })\n",
        "\n",
        "    return sequences\n",
        "\n",
        "# Create sequences\n",
        "print(\"\\nCreating student sequences...\")\n",
        "sequences = create_student_sequences(df_clean, skill_to_idx, num_skills)\n",
        "\n",
        "# Show example sequence\n",
        "print(f\"\\nExample sequence (first student):\")\n",
        "example = sequences[0]\n",
        "print(f\"User ID: {example['user_id']}\")\n",
        "print(f\"Sequence length: {example['length']}\")\n",
        "print(f\"First 5 skills attempted: {example['skill_indices'][:5]}\")\n",
        "print(f\"First 5 responses (0=wrong, 1=correct): {example['corrects'][:5]}\")\n",
        "print(f\"First 5 interaction encodings: {example['interactions'][:5]}\")"
      ]
    },
    {
      "cell_type": "markdown",
      "metadata": {
        "id": "HPht-lxO7mZO"
      },
      "source": []
    },
    {
      "cell_type": "markdown",
      "metadata": {
        "id": "ZW62OMAt7oKR"
      },
      "source": [
        "# CELL 9: Split Data for Training (Student-Level Split)"
      ]
    },
    {
      "cell_type": "code",
      "execution_count": 10,
      "metadata": {
        "colab": {
          "base_uri": "https://localhost:8080/",
          "height": 0
        },
        "id": "eV3IUXSR7qwt",
        "outputId": "ae5b3347-3499-4d2c-8434-1d51e09fb426"
      },
      "outputs": [
        {
          "output_type": "stream",
          "name": "stdout",
          "text": [
            "Random seeds set to 42\n",
            "Dataset splits (matching paper):\n",
            "- Train: 2902 students (80%)\n",
            "- Test: 726 students (20%)\n",
            "\n",
            "Total interactions per split:\n",
            "- Train: 206,543\n",
            "- Test: 51,610\n",
            "\n",
            "Data preprocessing complete! Saved to 'sakt_preprocessed_data.pkl'\n"
          ]
        }
      ],
      "source": [
        "# CELL 9: Split Data for Training (Student-Level Split)\n",
        "\n",
        "from sklearn.model_selection import train_test_split\n",
        "\n",
        "\n",
        "# SET SEED\n",
        "set_seeds(42)\n",
        "\n",
        "# Split at student level (not interaction level) to prevent data leakage\n",
        "# Each student's full sequence goes into either train, val, or test\n",
        "\n",
        "# Use 80/20 split as in the paper (no separate validation)\n",
        "train_sequences, test_sequences = train_test_split(\n",
        "    sequences,\n",
        "    test_size=0.2,\n",
        "    random_state=42\n",
        ")\n",
        "\n",
        "\n",
        "\n",
        "# For hyperparameter tuning, create a small validation set from training\n",
        "#train_sequences, val_sequences = train_test_split(\n",
        "#    train_sequences,\n",
        "#    test_size=0.1,  # 10% of training data for validation\n",
        "#    random_state=42\n",
        "#)\n",
        "\n",
        "print(f\"Dataset splits (matching paper):\")\n",
        "print(f\"- Train: {len(train_sequences)} students (80%)\")\n",
        "#print(f\"- Val: {len(val_sequences)} students\")\n",
        "print(f\"- Test: {len(test_sequences)} students (20%)\")\n",
        "\n",
        "# Calculate total interactions per split\n",
        "train_interactions = sum(seq['length'] for seq in train_sequences)\n",
        "#val_interactions = sum(seq['length'] for seq in val_sequences)\n",
        "test_interactions = sum(seq['length'] for seq in test_sequences)\n",
        "\n",
        "print(f\"\\nTotal interactions per split:\")\n",
        "print(f\"- Train: {train_interactions:,}\")\n",
        "#print(f\"- Val: {val_interactions:,}\")\n",
        "print(f\"- Test: {test_interactions:,}\")\n",
        "\n",
        "# Save the processed data\n",
        "import pickle\n",
        "# For compatibility with SAKT paper, using training data as validation\n",
        "save_data = {\n",
        "    'train': train_sequences,\n",
        "    'val': train_sequences, #change to val_sequences when you want to create a validation data. currently I am using trainin data as validation data for compatibility with the theSAKT paper\n",
        "    'test': test_sequences,\n",
        "    'num_skills': num_skills,\n",
        "    'skill_to_idx': skill_to_idx\n",
        "}\n",
        "\n",
        "with open('sakt_preprocessed_data.pkl', 'wb') as f:\n",
        "    pickle.dump(save_data, f)\n",
        "\n",
        "print(\"\\nData preprocessing complete! Saved to 'sakt_preprocessed_data.pkl'\")"
      ]
    },
    {
      "cell_type": "code",
      "execution_count": 11,
      "metadata": {
        "colab": {
          "base_uri": "https://localhost:8080/",
          "height": 0
        },
        "outputId": "bc978b60-7425-46a5-d1cb-aeb79cd85510",
        "id": "SOsfeLHG7D51"
      },
      "outputs": [
        {
          "output_type": "stream",
          "name": "stdout",
          "text": [
            "Random seeds set to 42\n",
            "Dataset splits (matching paper):\n",
            "- Train: 2902 students (80%)\n",
            "- Test: 726 students (20%)\n",
            "\n",
            "Total interactions per split:\n",
            "- Train: 206,543\n",
            "- Test: 51,610\n",
            "\n",
            "Data preprocessing complete! Saved to 'sakt_preprocessed_data.pkl'\n"
          ]
        }
      ],
      "source": [
        "# CELL 9: Split Data for Training (Student-Level Split)\n",
        "\n",
        "from sklearn.model_selection import train_test_split\n",
        "\n",
        "\n",
        "# SET SEED\n",
        "set_seeds(42)\n",
        "\n",
        "# Split at student level (not interaction level) to prevent data leakage\n",
        "# Each student's full sequence goes into either train, val, or test\n",
        "\n",
        "# Use 80/20 split as in the paper (no separate validation)\n",
        "train_sequences, test_sequences = train_test_split(\n",
        "    sequences,\n",
        "    test_size=0.2,\n",
        "    random_state=42\n",
        ")\n",
        "\n",
        "# For hyperparameter tuning, create a small validation set from training\n",
        "#train_sequences, val_sequences = train_test_split(\n",
        "#    train_sequences,\n",
        "#    test_size=0.1,  # 10% of training data for validation\n",
        "#    random_state=42\n",
        "#)\n",
        "\n",
        "print(f\"Dataset splits (matching paper):\")\n",
        "print(f\"- Train: {len(train_sequences)} students (80%)\")\n",
        "#print(f\"- Val: {len(val_sequences)} students\")\n",
        "print(f\"- Test: {len(test_sequences)} students (20%)\")\n",
        "\n",
        "# Calculate total interactions per split\n",
        "train_interactions = sum(seq['length'] for seq in train_sequences)\n",
        "#val_interactions = sum(seq['length'] for seq in val_sequences)\n",
        "test_interactions = sum(seq['length'] for seq in test_sequences)\n",
        "\n",
        "print(f\"\\nTotal interactions per split:\")\n",
        "print(f\"- Train: {train_interactions:,}\")\n",
        "#print(f\"- Val: {val_interactions:,}\")\n",
        "print(f\"- Test: {test_interactions:,}\")\n",
        "\n",
        "# Save the processed data\n",
        "import pickle\n",
        "# For compatibility with SAKT paper, using training data as validation\n",
        "save_data = {\n",
        "    'train': train_sequences,\n",
        "    'val': train_sequences, #change to val_sequences when you want to create a validation data. currently I am using trainin data as validation data for compatibility with the theSAKT paper\n",
        "    'test': test_sequences,\n",
        "    'num_skills': num_skills,\n",
        "    'skill_to_idx': skill_to_idx\n",
        "}\n",
        "\n",
        "with open('sakt_preprocessed_data.pkl', 'wb') as f:\n",
        "    pickle.dump(save_data, f)\n",
        "\n",
        "print(\"\\nData preprocessing complete! Saved to 'sakt_preprocessed_data.pkl'\")"
      ]
    },
    {
      "cell_type": "code",
      "execution_count": 12,
      "metadata": {
        "colab": {
          "base_uri": "https://localhost:8080/",
          "height": 0
        },
        "outputId": "6ced7e52-31dd-421b-cb40-d5976556168a",
        "id": "4J0JSr1c7D7W"
      },
      "outputs": [
        {
          "output_type": "stream",
          "name": "stdout",
          "text": [
            "Random seeds set to 42\n",
            "Dataset splits (matching paper):\n",
            "- Train: 2902 students (80%)\n",
            "- Test: 726 students (20%)\n",
            "\n",
            "Total interactions per split:\n",
            "- Train: 206,543\n",
            "- Test: 51,610\n",
            "\n",
            "Data preprocessing complete! Saved to 'sakt_preprocessed_data.pkl'\n"
          ]
        }
      ],
      "source": [
        "# CELL 9: Split Data for Training (Student-Level Split)\n",
        "\n",
        "from sklearn.model_selection import train_test_split\n",
        "\n",
        "\n",
        "# SET SEED\n",
        "set_seeds(42)\n",
        "\n",
        "# Split at student level (not interaction level) to prevent data leakage\n",
        "# Each student's full sequence goes into either train, val, or test\n",
        "\n",
        "# Use 80/20 split as in the paper (no separate validation)\n",
        "train_sequences, test_sequences = train_test_split(\n",
        "    sequences,\n",
        "    test_size=0.2,\n",
        "    random_state=42\n",
        ")\n",
        "\n",
        "# For hyperparameter tuning, create a small validation set from training\n",
        "#train_sequences, val_sequences = train_test_split(\n",
        "#    train_sequences,\n",
        "#    test_size=0.1,  # 10% of training data for validation\n",
        "#    random_state=42\n",
        "#)\n",
        "\n",
        "print(f\"Dataset splits (matching paper):\")\n",
        "print(f\"- Train: {len(train_sequences)} students (80%)\")\n",
        "#print(f\"- Val: {len(val_sequences)} students\")\n",
        "print(f\"- Test: {len(test_sequences)} students (20%)\")\n",
        "\n",
        "# Calculate total interactions per split\n",
        "train_interactions = sum(seq['length'] for seq in train_sequences)\n",
        "#val_interactions = sum(seq['length'] for seq in val_sequences)\n",
        "test_interactions = sum(seq['length'] for seq in test_sequences)\n",
        "\n",
        "print(f\"\\nTotal interactions per split:\")\n",
        "print(f\"- Train: {train_interactions:,}\")\n",
        "#print(f\"- Val: {val_interactions:,}\")\n",
        "print(f\"- Test: {test_interactions:,}\")\n",
        "\n",
        "# Save the processed data\n",
        "import pickle\n",
        "# For compatibility with SAKT paper, using training data as validation\n",
        "save_data = {\n",
        "    'train': train_sequences,\n",
        "    'val': train_sequences, #change to val_sequences when you want to create a validation data. currently I am using trainin data as validation data for compatibility with the theSAKT paper\n",
        "    'test': test_sequences,\n",
        "    'num_skills': num_skills,\n",
        "    'skill_to_idx': skill_to_idx\n",
        "}\n",
        "\n",
        "with open('sakt_preprocessed_data.pkl', 'wb') as f:\n",
        "    pickle.dump(save_data, f)\n",
        "\n",
        "print(\"\\nData preprocessing complete! Saved to 'sakt_preprocessed_data.pkl'\")"
      ]
    },
    {
      "cell_type": "code",
      "execution_count": 13,
      "metadata": {
        "colab": {
          "base_uri": "https://localhost:8080/",
          "height": 0
        },
        "outputId": "88f339bd-dc39-4dea-981c-5578b1287246",
        "id": "T1AYeV8X7Ktr"
      },
      "outputs": [
        {
          "output_type": "stream",
          "name": "stdout",
          "text": [
            "Random seeds set to 42\n",
            "Dataset splits (matching paper):\n",
            "- Train: 2902 students (80%)\n",
            "- Test: 726 students (20%)\n",
            "\n",
            "Total interactions per split:\n",
            "- Train: 206,543\n",
            "- Test: 51,610\n",
            "\n",
            "Data preprocessing complete! Saved to 'sakt_preprocessed_data.pkl'\n"
          ]
        }
      ],
      "source": [
        "# CELL 9: Split Data for raining (Student-Level Split)\n",
        "\n",
        "from sklearn.model_selection import train_test_split\n",
        "\n",
        "\n",
        "# SET SEED\n",
        "set_seeds(42)\n",
        "\n",
        "# Split at student level (not interaction level) to prevent data leakage\n",
        "# Each student's full sequence goes into either train, val, or test\n",
        "\n",
        "# Use 80/20 split as in the paper (no separate validation)\n",
        "train_sequences, test_sequences = train_test_split(\n",
        "    sequences,\n",
        "    test_size=0.2,\n",
        "    random_state=42\n",
        ")\n",
        "\n",
        "# For compatibility with SAKT paper, using training data as validation\n",
        "save_data = {\n",
        "    'train': train_sequences,\n",
        "    'val': train_sequences,\n",
        "    'test': test_sequences,\n",
        "    'num_skills': num_skills,\n",
        "    'skill_to_idx': skill_to_idx\n",
        "}\n",
        "\n",
        "# For hyperparameter tuning, create a small validation set from training\n",
        "#train_sequences, val_sequences = train_test_split(\n",
        "#    train_sequences,\n",
        "#    test_size=0.1,  # 10% of training data for validation\n",
        "#    random_state=42\n",
        "#)\n",
        "\n",
        "print(f\"Dataset splits (matching paper):\")\n",
        "print(f\"- Train: {len(train_sequences)} students (80%)\")\n",
        "#print(f\"- Val: {len(val_sequences)} students\")\n",
        "print(f\"- Test: {len(test_sequences)} students (20%)\")\n",
        "\n",
        "# Calculate total interactions per split\n",
        "train_interactions = sum(seq['length'] for seq in train_sequences)\n",
        "#val_interactions = sum(seq['length'] for seq in val_sequences)\n",
        "test_interactions = sum(seq['length'] for seq in test_sequences)\n",
        "\n",
        "print(f\"\\nTotal interactions per split:\")\n",
        "print(f\"- Train: {train_interactions:,}\")\n",
        "#print(f\"- Val: {val_interactions:,}\")\n",
        "print(f\"- Test: {test_interactions:,}\")\n",
        "\n",
        "# Save the processed data\n",
        "import pickle\n",
        "# For compatibility with SAKT paper, using training data as validation\n",
        "save_data = {\n",
        "    'train': train_sequences,\n",
        "    'val': train_sequences, #change to val_sequences when you want to create a validation data. currently I am using trainin data as validation data for compatibility with the theSAKT paper\n",
        "    'test': test_sequences,\n",
        "    'num_skills': num_skills,\n",
        "    'skill_to_idx': skill_to_idx\n",
        "}\n",
        "\n",
        "with open('sakt_preprocessed_data.pkl', 'wb') as f:\n",
        "    pickle.dump(save_data, f)\n",
        "\n",
        "print(\"\\nData preprocessing complete! Saved to 'sakt_preprocessed_data.pkl'\")"
      ]
    },
    {
      "cell_type": "markdown",
      "metadata": {
        "id": "JzMvcACxEkYx"
      },
      "source": [
        "# CELL 10: SAKT Model Implementation"
      ]
    },
    {
      "cell_type": "code",
      "execution_count": 14,
      "metadata": {
        "colab": {
          "base_uri": "https://localhost:8080/",
          "height": 0
        },
        "id": "YYZUAsjHEmZQ",
        "outputId": "f8f93822-2a09-4105-e549-bc35a507b406"
      },
      "outputs": [
        {
          "output_type": "stream",
          "name": "stdout",
          "text": [
            "Testing SAKT model...\n",
            "Model output shape: torch.Size([2, 50])\n",
            "Output range: [0.192, 0.826]\n",
            "Model parameters: 265,101\n"
          ]
        }
      ],
      "source": [
        "# CELL 10: SAKT Model Implementation\n",
        "\n",
        "import torch\n",
        "import torch.nn as nn\n",
        "import torch.nn.functional as F #importing the functional module from PyTorch's torch.nn package, and giving it a shorter alias: F.\n",
        "import math\n",
        "\n",
        "class SAKT(nn.Module):\n",
        "    def __init__(self, num_skills, embed_dim=100, num_heads=5, dropout=0.2):\n",
        "        \"\"\"\n",
        "        SAKT Model matching the paper implementation\n",
        "\n",
        "        Args:\n",
        "            num_skills: Number of unique skills (145 in this case)\n",
        "            embed_dim: Embedding dimension (paper uses {50, 100, 150, 200})\n",
        "            num_heads: Number of attention heads (paper uses 5)\n",
        "            dropout: Dropout rate (paper uses 0.2)\n",
        "        \"\"\"\n",
        "        super(SAKT, self).__init__()\n",
        "\n",
        "        self.num_skills = num_skills\n",
        "        self.embed_dim = embed_dim\n",
        "\n",
        "        # Embedding layers\n",
        "        # Interaction embedding: Maps (skill + correct*num_skills) to vectors\n",
        "        self.interaction_embed = nn.Embedding(\n",
        "            num_skills * 2 + 1,\n",
        "            embed_dim,\n",
        "            padding_idx=num_skills * 2\n",
        "        )\n",
        "\n",
        "        # Exercise/skill embedding: Maps skills to vectors for queries\n",
        "        self.skill_embed = nn.Embedding(\n",
        "            num_skills + 1,\n",
        "            embed_dim,\n",
        "            padding_idx=0\n",
        "            )\n",
        "\n",
        "        # Positional embedding: Adds temporal information\n",
        "        self.pos_embed = nn.Embedding(1000, embed_dim)  # max sequence length\n",
        "\n",
        "        # Multi-head attention layer\n",
        "        self.attention = nn.MultiheadAttention(\n",
        "            embed_dim,\n",
        "            num_heads,\n",
        "            dropout=dropout,\n",
        "            batch_first=True  # Important: batch dimension first\n",
        "        )\n",
        "\n",
        "        # Layer normalization\n",
        "        self.layer_norm1 = nn.LayerNorm(embed_dim)\n",
        "        self.layer_norm2 = nn.LayerNorm(embed_dim)\n",
        "\n",
        "        # Feed-forward network\n",
        "        self.ffn = nn.Sequential(\n",
        "            nn.Linear(embed_dim, embed_dim * 4),  # Paper uses 4x hidden size\n",
        "            nn.ReLU(),\n",
        "            nn.Dropout(dropout),\n",
        "            nn.Linear(embed_dim * 4, embed_dim)\n",
        "        )\n",
        "\n",
        "        # Output prediction layer\n",
        "        self.pred = nn.Linear(embed_dim, 1)\n",
        "        self.dropout = nn.Dropout(dropout)\n",
        "\n",
        "    def forward(self, interactions, skills):\n",
        "        \"\"\"\n",
        "        Forward pass of SAKT\n",
        "\n",
        "        Args:\n",
        "            interactions: [batch_size, seq_len] - past interactions (skill + correct*num_skills)\n",
        "            skills: [batch_size, seq_len] - skills to predict performance on\n",
        "\n",
        "        Returns:\n",
        "            predictions: [batch_size, seq_len] - probability of correct answer\n",
        "        \"\"\"\n",
        "        batch_size, seq_len = interactions.shape\n",
        "\n",
        "        # Create position indices\n",
        "        positions = torch.arange(seq_len, device=interactions.device).unsqueeze(0).expand(batch_size, -1)\n",
        "\n",
        "        # Embed interactions (for Keys and Values in attention)\n",
        "        interaction_embeds = self.interaction_embed(interactions)\n",
        "\n",
        "        # Embed skills (for Queries in attention)\n",
        "        skill_embeds = self.skill_embed(skills)\n",
        "\n",
        "        # Add positional embeddings\n",
        "        interaction_embeds = interaction_embeds + self.pos_embed(positions)\n",
        "        skill_embeds = skill_embeds + self.pos_embed(positions)\n",
        "\n",
        "        # Create attention mask (causal mask - can't see future)\n",
        "        attn_mask = torch.triu(\n",
        "            torch.ones(seq_len, seq_len, device=interactions.device) * float('-inf'),\n",
        "            diagonal=1\n",
        "        )\n",
        "\n",
        "        # Apply self-attention\n",
        "        # Query: what skill we're predicting\n",
        "        # Key & Value: past interaction history\n",
        "        attended, _ = self.attention(\n",
        "            query=skill_embeds,\n",
        "            key=interaction_embeds,\n",
        "            value=interaction_embeds,\n",
        "            attn_mask=attn_mask,\n",
        "            need_weights=False\n",
        "        )\n",
        "\n",
        "        # Residual connection and layer norm\n",
        "        attended = self.layer_norm1(skill_embeds + self.dropout(attended))\n",
        "\n",
        "        # Feed-forward network with residual\n",
        "        ffn_out = self.ffn(attended)\n",
        "        ffn_out = self.layer_norm2(attended + self.dropout(ffn_out))\n",
        "\n",
        "        # Predict probability of correct answer\n",
        "        pred = self.pred(ffn_out).squeeze(-1)\n",
        "        return torch.sigmoid(pred)\n",
        "\n",
        "# Test the model\n",
        "print(\"Testing SAKT model...\")\n",
        "model = SAKT(num_skills=145)\n",
        "\n",
        "# Create dummy batch\n",
        "batch_interactions = torch.randint(0, 290, (2, 50))  # 2 sequences, length 50\n",
        "batch_skills = torch.randint(0, 145, (2, 50))\n",
        "\n",
        "# Forward pass\n",
        "output = model(batch_interactions, batch_skills)\n",
        "print(f\"Model output shape: {output.shape}\")\n",
        "print(f\"Output range: [{output.min():.3f}, {output.max():.3f}]\")\n",
        "print(f\"Model parameters: {sum(p.numel() for p in model.parameters()):,}\")"
      ]
    },
    {
      "cell_type": "markdown",
      "metadata": {
        "id": "0aIb8Y30EtBq"
      },
      "source": [
        "# CELL 11: Create PyTorch Dataset and DataLoaders"
      ]
    },
    {
      "cell_type": "code",
      "execution_count": 15,
      "metadata": {
        "colab": {
          "base_uri": "https://localhost:8080/",
          "height": 0
        },
        "id": "RnIpiDMGEvyu",
        "outputId": "7853756b-b48b-48c1-b426-6e39ab29b34f"
      },
      "outputs": [
        {
          "output_type": "stream",
          "name": "stdout",
          "text": [
            "Batch keys: dict_keys(['interactions', 'skills', 'targets', 'mask'])\n",
            "Interactions shape: torch.Size([128, 100])\n",
            "Skills shape: torch.Size([128, 100])\n",
            "Targets shape: torch.Size([128, 100])\n",
            "Mask shape: torch.Size([128, 100])\n"
          ]
        }
      ],
      "source": [
        "# CELL 11: Create PyTorch Dataset and DataLoaders\n",
        "\n",
        "from torch.utils.data import Dataset, DataLoader\n",
        "import numpy as np\n",
        "\n",
        "class SAKTDataset(Dataset):\n",
        "    \"\"\"Dataset class for SAKT - Corrected version\"\"\"\n",
        "\n",
        "    def __init__(self, sequences, max_seq_len=100, num_skills=145):\n",
        "        self.max_seq_len = max_seq_len\n",
        "        self.num_skills = num_skills\n",
        "        self.padding_interaction = num_skills * 2  # Padding token\n",
        "\n",
        "        # Process sequences: split long ones\n",
        "        self.data = []\n",
        "        for seq in sequences:\n",
        "            interactions = seq['interactions']\n",
        "            skills = seq['skill_indices']\n",
        "            corrects = seq['corrects']\n",
        "\n",
        "            # If sequence is longer than max_seq_len, split it\n",
        "            if len(interactions) > max_seq_len:\n",
        "                for i in range(0, len(interactions), max_seq_len):\n",
        "                    end_idx = min(i + max_seq_len, len(interactions))\n",
        "                    self.data.append({\n",
        "                        'interactions': interactions[i:end_idx],\n",
        "                        'skills': skills[i:end_idx],\n",
        "                        'corrects': corrects[i:end_idx]\n",
        "                    })\n",
        "            else:\n",
        "                self.data.append({\n",
        "                    'interactions': interactions,\n",
        "                    'skills': skills,\n",
        "                    'corrects': corrects\n",
        "                })\n",
        "\n",
        "    def __len__(self):\n",
        "        return len(self.data)\n",
        "\n",
        "    def __getitem__(self, idx):\n",
        "        seq = self.data[idx]\n",
        "        seq_len = len(seq['interactions'])\n",
        "\n",
        "        interactions = list(seq['interactions'])\n",
        "        skills = list(seq['skills'])\n",
        "        corrects = list(seq['corrects'])\n",
        "\n",
        "        shifted_interactions = []\n",
        "        for i in range(seq_len):\n",
        "            if i == 0:\n",
        "                # First position: use a special START token (same as padding)\n",
        "                shifted_interactions.append(self.padding_interaction)\n",
        "            else:\n",
        "                # Use the PREVIOUS interaction\n",
        "                shifted_interactions.append(interactions[i-1])\n",
        "\n",
        "        # Use shifted_interactions instead of interactions\n",
        "        interactions = shifted_interactions\n",
        "\n",
        "        # Pad to the LEFT if sequence is shorter than max_seq_len\n",
        "        if seq_len < self.max_seq_len:\n",
        "            pad_len = self.max_seq_len - seq_len\n",
        "\n",
        "            # Pad to the LEFT\n",
        "            interactions = [self.padding_interaction] * pad_len + interactions\n",
        "            skills = [0] * pad_len + skills  # 0 for padding\n",
        "            corrects = [0] * pad_len + corrects\n",
        "\n",
        "            # Create mask (0 for padding, 1 for real data)\n",
        "            mask = [0] * pad_len + [1] * seq_len\n",
        "        else:\n",
        "            mask = [1] * self.max_seq_len\n",
        "\n",
        "        return {\n",
        "            'interactions': torch.tensor(interactions, dtype=torch.long),\n",
        "            'skills': torch.tensor(skills, dtype=torch.long),\n",
        "            'targets': torch.tensor(corrects, dtype=torch.float),\n",
        "            'mask': torch.tensor(mask, dtype=torch.float)\n",
        "        }\n",
        "\n",
        "# Load preprocessed data\n",
        "import pickle\n",
        "with open('sakt_preprocessed_data.pkl', 'rb') as f:\n",
        "    data = pickle.load(f)\n",
        "\n",
        "# Create datasets\n",
        "train_dataset = SAKTDataset(data['train'], max_seq_len=100, num_skills=data['num_skills']) # paper uses max_seq_length = 100 and 50\n",
        "val_dataset = SAKTDataset(data['val'], max_seq_len=100, num_skills=data['num_skills'])     # paper uses max_seq_length = 100 and 50\n",
        "test_dataset = SAKTDataset(data['test'], max_seq_len=100, num_skills=data['num_skills'])   # paper uses max_seq_length = 100 and 50\n",
        "\n",
        "# Create dataloaders\n",
        "train_loader = DataLoader(train_dataset, batch_size=128, shuffle=True)  # paper uses batch_size = 128\n",
        "val_loader = DataLoader(val_dataset, batch_size=128, shuffle=False)     # paper uses batch_size = 128\n",
        "test_loader = DataLoader(test_dataset, batch_size=128, shuffle=False)   # paper uses batch_size = 128\n",
        "\n",
        "# Test dataloader\n",
        "batch = next(iter(train_loader))\n",
        "print(f\"Batch keys: {batch.keys()}\")\n",
        "print(f\"Interactions shape: {batch['interactions'].shape}\")\n",
        "print(f\"Skills shape: {batch['skills'].shape}\")\n",
        "print(f\"Targets shape: {batch['targets'].shape}\")\n",
        "print(f\"Mask shape: {batch['mask'].shape}\")"
      ]
    },
    {
      "cell_type": "markdown",
      "metadata": {
        "id": "G3iDyuwvE2GR"
      },
      "source": []
    },
    {
      "cell_type": "markdown",
      "metadata": {
        "id": "ZBUnkJ5uE4Ox"
      },
      "source": [
        "# CELL 12: Test Data Loaders and Verify Data Format"
      ]
    },
    {
      "cell_type": "code",
      "execution_count": 16,
      "metadata": {
        "colab": {
          "base_uri": "https://localhost:8080/",
          "height": 0
        },
        "id": "Oho9RKT4E5QD",
        "outputId": "b6db3700-d34f-432f-df33-3a0224fe8b7a"
      },
      "outputs": [
        {
          "output_type": "stream",
          "name": "stdout",
          "text": [
            "Loaded data with 145 unique skills\n",
            "\n",
            "Dataset sizes:\n",
            "Train: 4104 students\n",
            "Val: 4104 students\n",
            "Test: 1029 students\n",
            "\n",
            "Testing data loader with one batch:\n",
            "Batch contains: ['interactions', 'skills', 'targets', 'mask']\n",
            "Interactions shape: torch.Size([128, 100])\n",
            "Skills shape: torch.Size([128, 100])\n",
            "Targets shape: torch.Size([128, 100])\n",
            "Mask shape: torch.Size([128, 100])\n",
            "\n",
            "Example from first student in batch:\n",
            "Actual sequence length: 24\n",
            "First 5 interactions: [290, 290, 290, 290, 290]\n",
            "First 5 skills to predict: [0, 0, 0, 0, 0]\n",
            "First 5 correct/incorrect: [0.0, 0.0, 0.0, 0.0, 0.0]\n",
            "First 5 mask values: [0.0, 0.0, 0.0, 0.0, 0.0]\n"
          ]
        }
      ],
      "source": [
        "# CELL 12: Test Data Loaders and Verify Data Format\n",
        "\n",
        "import pickle\n",
        "\n",
        "# Load the preprocessed data we saved in Cell 9\n",
        "# 'rb' means read in binary mode (pickle files are binary)\n",
        "with open('sakt_preprocessed_data.pkl', 'rb') as f:\n",
        "    data = pickle.load(f)  # Converts file back to Python dictionary\n",
        "\n",
        "print(f\"Loaded data with {data['num_skills']} unique skills\")\n",
        "\n",
        "# Create PyTorch datasets from the sequences\n",
        "# SAKTDataset handles padding and creating input/target pairs\n",
        "train_dataset = SAKTDataset(data['train'], max_seq_len=100)\n",
        "val_dataset = SAKTDataset(data['val'], max_seq_len=100)\n",
        "test_dataset = SAKTDataset(data['test'], max_seq_len=100)\n",
        "\n",
        "print(f\"\\nDataset sizes:\")\n",
        "print(f\"Train: {len(train_dataset)} students\")\n",
        "print(f\"Val: {len(val_dataset)} students\")\n",
        "print(f\"Test: {len(test_dataset)} students\")\n",
        "\n",
        "# Create data loaders that will feed batches to my model\n",
        "# batch_size=128 means process 128 students at once\n",
        "# shuffle=True randomizes order each epoch (important for training)\n",
        "train_loader = DataLoader(train_dataset, batch_size=128, shuffle=True)\n",
        "val_loader = DataLoader(val_dataset, batch_size=128, shuffle=False)\n",
        "test_loader = DataLoader(test_dataset, batch_size=128, shuffle=False)\n",
        "\n",
        "# Test by loading one batch to verify everything works\n",
        "print(f\"\\nTesting data loader with one batch:\")\n",
        "batch = next(iter(train_loader))  # Get first batch\n",
        "\n",
        "# Check what's in each batch\n",
        "print(f\"Batch contains: {list(batch.keys())}\")\n",
        "print(f\"Interactions shape: {batch['interactions'].shape}\")\n",
        "print(f\"Skills shape: {batch['skills'].shape}\")\n",
        "print(f\"Targets shape: {batch['targets'].shape}\")\n",
        "print(f\"Mask shape: {batch['mask'].shape}\")\n",
        "\n",
        "# Look at one student's data to understand format\n",
        "print(f\"\\nExample from first student in batch:\")\n",
        "first_seq_len = batch['mask'][0].sum().int()  # Count non-padded positions\n",
        "print(f\"Actual sequence length: {first_seq_len}\")\n",
        "print(f\"First 5 interactions: {batch['interactions'][0][:5].tolist()}\")\n",
        "print(f\"First 5 skills to predict: {batch['skills'][0][:5].tolist()}\")\n",
        "print(f\"First 5 correct/incorrect: {batch['targets'][0][:5].tolist()}\")\n",
        "print(f\"First 5 mask values: {batch['mask'][0][:5].tolist()}\")  # 1=real, 0=padding"
      ]
    },
    {
      "cell_type": "markdown",
      "metadata": {
        "id": "KSAwA5DuE7nl"
      },
      "source": [
        "# CELL 13: Training Functions for SAKT"
      ]
    },
    {
      "cell_type": "code",
      "execution_count": 17,
      "metadata": {
        "id": "y6BM04A2E-iF"
      },
      "outputs": [],
      "source": [
        "# CELL 13: Training Functions for SAKT\n",
        "\n",
        "import torch\n",
        "import torch.nn as nn\n",
        "import torch.optim as optim\n",
        "from sklearn.metrics import roc_auc_score\n",
        "import numpy as np\n",
        "from tqdm import tqdm\n",
        "import matplotlib.pyplot as plt\n",
        "\n",
        "def train_epoch(model, train_loader, optimizer, criterion, device):\n",
        "    \"\"\"\n",
        "    Train the model for one epoch\n",
        "\n",
        "    Args:\n",
        "        model: SAKT model\n",
        "        train_loader: DataLoader with training data\n",
        "        optimizer: Adam optimizer\n",
        "        criterion: BCELoss function\n",
        "        device: cuda or cpu\n",
        "\n",
        "    Returns:\n",
        "        epoch_loss: Average loss for this epoch\n",
        "        epoch_auc: AUC score for this epoch\n",
        "    \"\"\"\n",
        "    model.train()\n",
        "    total_loss = 0\n",
        "    all_predictions = []\n",
        "    all_targets = []\n",
        "\n",
        "    # Progress bar to track training\n",
        "    pbar = tqdm(train_loader, desc='Training', leave=False)\n",
        "\n",
        "    for batch in pbar:\n",
        "        # Move all tensors to GPU if available\n",
        "        interactions = batch['interactions'].to(device)\n",
        "        skills = batch['skills'].to(device)\n",
        "        targets = batch['targets'].to(device)\n",
        "        mask = batch['mask'].to(device)\n",
        "\n",
        "        # Clear gradients from previous batch\n",
        "        optimizer.zero_grad()\n",
        "\n",
        "        # Forward pass: get predictions from model\n",
        "        predictions = model(interactions, skills)\n",
        "\n",
        "        # Calculate loss only on non-padded positions\n",
        "        # criterion returns loss for each position\n",
        "        # Compute loss with masking\n",
        "        loss = criterion(predictions, targets)  # This gives loss per element\n",
        "        masked_loss = (loss * mask).sum() / mask.sum()  # Apply mask\n",
        "\n",
        "\n",
        "        # Backward pass: compute gradients (backpropagation)\n",
        "        masked_loss.backward()\n",
        "\n",
        "        # Clip gradients to prevent explosion\n",
        "        torch.nn.utils.clip_grad_norm_(model.parameters(), max_norm=1.0)\n",
        "\n",
        "        # Update model parameters\n",
        "        optimizer.step()\n",
        "\n",
        "        # Collect predictions for metrics\n",
        "        total_loss += masked_loss.item()\n",
        "\n",
        "        # Calculate AUC only on valid (non-padded) predictions\n",
        "        valid_idx = mask == 1\n",
        "        valid_predictions = predictions[valid_idx].detach().cpu().numpy()\n",
        "        valid_targets = targets[valid_idx].detach().cpu().numpy()\n",
        "\n",
        "        all_predictions.extend(valid_predictions)\n",
        "        all_targets.extend(valid_targets)\n",
        "\n",
        "        # Update progress bar with current loss\n",
        "        pbar.set_postfix({'loss': f'{masked_loss.item():.4f}'})\n",
        "\n",
        "    # Calculate epoch metrics\n",
        "    epoch_loss = total_loss / len(train_loader)\n",
        "    epoch_auc = roc_auc_score(all_targets, all_predictions)\n",
        "\n",
        "    return epoch_loss, epoch_auc\n",
        "\n",
        "def validate_epoch(model, val_loader, criterion, device):\n",
        "    \"\"\"\n",
        "    Validate the model (no gradient updates)\n",
        "\n",
        "    Args:\n",
        "        model: SAKT model\n",
        "        val_loader: DataLoader with validation data\n",
        "        criterion: BCELoss function\n",
        "        device: cuda or cpu\n",
        "\n",
        "    Returns:\n",
        "        val_loss: Average validation loss\n",
        "        val_auc: Validation AUC score\n",
        "    \"\"\"\n",
        "    model.eval()  # Disable dropout and use batch norm statistics\n",
        "    total_loss = 0\n",
        "    all_predictions = []\n",
        "    all_targets = []\n",
        "\n",
        "    # No gradient computation needed for validation\n",
        "    with torch.no_grad():\n",
        "        for batch in tqdm(val_loader, desc='Validating', leave=False):\n",
        "            # Move to device\n",
        "            interactions = batch['interactions'].to(device)\n",
        "            skills = batch['skills'].to(device)\n",
        "            targets = batch['targets'].to(device)\n",
        "            mask = batch['mask'].to(device)\n",
        "\n",
        "            # Get predictions\n",
        "            predictions = model(interactions, skills)\n",
        "\n",
        "            # Calculate loss\n",
        "            # Compute loss with masking\n",
        "            loss = criterion(predictions, targets)  # This gives loss per element\n",
        "            masked_loss = (loss * mask).sum() / mask.sum()  # Apply mask and average\n",
        "\n",
        "            # Collect for metrics\n",
        "            total_loss += masked_loss.item()\n",
        "\n",
        "            # Extract valid predictions\n",
        "            valid_idx = mask == 1\n",
        "            valid_predictions = predictions[valid_idx].cpu().numpy()\n",
        "            valid_targets = targets[valid_idx].cpu().numpy()\n",
        "\n",
        "            all_predictions.extend(valid_predictions)\n",
        "            all_targets.extend(valid_targets)\n",
        "\n",
        "    # Calculate validation metrics\n",
        "    val_loss = total_loss / len(val_loader)\n",
        "    val_auc = roc_auc_score(all_targets, all_predictions)\n",
        "\n",
        "    return val_loss, val_auc"
      ]
    },
    {
      "cell_type": "code",
      "source": [
        "# CELL 13.5: Set Random Seeds for Reproducibility\n",
        "\n",
        "import random\n",
        "import numpy as np\n",
        "import torch\n",
        "\n",
        "def set_seeds(seed=42):\n",
        "    \"\"\"Set seeds for reproducibility\"\"\"\n",
        "    random.seed(seed)\n",
        "    np.random.seed(seed)\n",
        "    torch.manual_seed(seed)\n",
        "    if torch.cuda.is_available():\n",
        "        torch.cuda.manual_seed(seed)\n",
        "        torch.cuda.manual_seed_all(seed)\n",
        "        torch.backends.cudnn.deterministic = True\n",
        "        torch.backends.cudnn.benchmark = False\n",
        "    print(f\"Random seeds set to {seed}\")\n",
        "\n",
        "# Set seeds before any model training\n",
        "set_seeds(42)"
      ],
      "metadata": {
        "colab": {
          "base_uri": "https://localhost:8080/",
          "height": 0
        },
        "id": "f1j7BeHljOfZ",
        "outputId": "c6a1030a-9355-4c19-d8af-1d322d194787"
      },
      "execution_count": 18,
      "outputs": [
        {
          "output_type": "stream",
          "name": "stdout",
          "text": [
            "Random seeds set to 42\n"
          ]
        }
      ]
    },
    {
      "cell_type": "markdown",
      "metadata": {
        "id": "uvoiybrsFCFk"
      },
      "source": [
        "# CELL 14: Train SAKT Model"
      ]
    },
    {
      "cell_type": "code",
      "execution_count": 19,
      "metadata": {
        "colab": {
          "base_uri": "https://localhost:8080/",
          "height": 0
        },
        "id": "jqPTIgbjFC37",
        "outputId": "d1294c97-dfb4-4057-da76-e95c56629f83"
      },
      "outputs": [
        {
          "output_type": "stream",
          "name": "stdout",
          "text": [
            "Using device: cuda\n",
            "GPU: NVIDIA L4\n",
            "Random seeds set to 42\n",
            "Total parameters: 265,101\n",
            "Trainable parameters: 265,101\n",
            "\n",
            "Starting training for max 30 epochs...\n",
            "============================================================\n",
            "\n",
            "Epoch 1/30\n",
            "----------------------------------------\n"
          ]
        },
        {
          "output_type": "stream",
          "name": "stderr",
          "text": []
        },
        {
          "output_type": "stream",
          "name": "stdout",
          "text": [
            "Train - Loss: 0.6364, AUC: 0.5772\n",
            "\n",
            "Epoch 2/30\n",
            "----------------------------------------\n"
          ]
        },
        {
          "output_type": "stream",
          "name": "stderr",
          "text": []
        },
        {
          "output_type": "stream",
          "name": "stdout",
          "text": [
            "Train - Loss: 0.6010, AUC: 0.6701\n",
            "\n",
            "Epoch 3/30\n",
            "----------------------------------------\n"
          ]
        },
        {
          "output_type": "stream",
          "name": "stderr",
          "text": []
        },
        {
          "output_type": "stream",
          "name": "stdout",
          "text": [
            "Train - Loss: 0.5860, AUC: 0.6966\n",
            "\n",
            "Epoch 4/30\n",
            "----------------------------------------\n"
          ]
        },
        {
          "output_type": "stream",
          "name": "stderr",
          "text": []
        },
        {
          "output_type": "stream",
          "name": "stdout",
          "text": [
            "Train - Loss: 0.5781, AUC: 0.7098\n",
            "\n",
            "Epoch 5/30\n",
            "----------------------------------------\n"
          ]
        },
        {
          "output_type": "stream",
          "name": "stderr",
          "text": []
        },
        {
          "output_type": "stream",
          "name": "stdout",
          "text": [
            "Train - Loss: 0.5723, AUC: 0.7185\n",
            "\n",
            "Epoch 6/30\n",
            "----------------------------------------\n"
          ]
        },
        {
          "output_type": "stream",
          "name": "stderr",
          "text": []
        },
        {
          "output_type": "stream",
          "name": "stdout",
          "text": [
            "Train - Loss: 0.5668, AUC: 0.7246\n",
            "\n",
            "Epoch 7/30\n",
            "----------------------------------------\n"
          ]
        },
        {
          "output_type": "stream",
          "name": "stderr",
          "text": []
        },
        {
          "output_type": "stream",
          "name": "stdout",
          "text": [
            "Train - Loss: 0.5638, AUC: 0.7308\n",
            "\n",
            "Epoch 8/30\n",
            "----------------------------------------\n"
          ]
        },
        {
          "output_type": "stream",
          "name": "stderr",
          "text": []
        },
        {
          "output_type": "stream",
          "name": "stdout",
          "text": [
            "Train - Loss: 0.5602, AUC: 0.7337\n",
            "\n",
            "Epoch 9/30\n",
            "----------------------------------------\n"
          ]
        },
        {
          "output_type": "stream",
          "name": "stderr",
          "text": []
        },
        {
          "output_type": "stream",
          "name": "stdout",
          "text": [
            "Train - Loss: 0.5577, AUC: 0.7381\n",
            "\n",
            "Epoch 10/30\n",
            "----------------------------------------\n"
          ]
        },
        {
          "output_type": "stream",
          "name": "stderr",
          "text": []
        },
        {
          "output_type": "stream",
          "name": "stdout",
          "text": [
            "Train - Loss: 0.5537, AUC: 0.7421\n",
            "\n",
            "Epoch 11/30\n",
            "----------------------------------------\n"
          ]
        },
        {
          "output_type": "stream",
          "name": "stderr",
          "text": []
        },
        {
          "output_type": "stream",
          "name": "stdout",
          "text": [
            "Train - Loss: 0.5537, AUC: 0.7433\n",
            "\n",
            "Epoch 12/30\n",
            "----------------------------------------\n"
          ]
        },
        {
          "output_type": "stream",
          "name": "stderr",
          "text": []
        },
        {
          "output_type": "stream",
          "name": "stdout",
          "text": [
            "Train - Loss: 0.5494, AUC: 0.7451\n",
            "\n",
            "Epoch 13/30\n",
            "----------------------------------------\n"
          ]
        },
        {
          "output_type": "stream",
          "name": "stderr",
          "text": []
        },
        {
          "output_type": "stream",
          "name": "stdout",
          "text": [
            "Train - Loss: 0.5479, AUC: 0.7475\n",
            "\n",
            "Epoch 14/30\n",
            "----------------------------------------\n"
          ]
        },
        {
          "output_type": "stream",
          "name": "stderr",
          "text": []
        },
        {
          "output_type": "stream",
          "name": "stdout",
          "text": [
            "Train - Loss: 0.5476, AUC: 0.7500\n",
            "\n",
            "Epoch 15/30\n",
            "----------------------------------------\n"
          ]
        },
        {
          "output_type": "stream",
          "name": "stderr",
          "text": []
        },
        {
          "output_type": "stream",
          "name": "stdout",
          "text": [
            "Train - Loss: 0.5449, AUC: 0.7518\n",
            "\n",
            "Epoch 16/30\n",
            "----------------------------------------\n"
          ]
        },
        {
          "output_type": "stream",
          "name": "stderr",
          "text": []
        },
        {
          "output_type": "stream",
          "name": "stdout",
          "text": [
            "Train - Loss: 0.5461, AUC: 0.7530\n",
            "\n",
            "Epoch 17/30\n",
            "----------------------------------------\n"
          ]
        },
        {
          "output_type": "stream",
          "name": "stderr",
          "text": []
        },
        {
          "output_type": "stream",
          "name": "stdout",
          "text": [
            "Train - Loss: 0.5437, AUC: 0.7546\n",
            "\n",
            "Epoch 18/30\n",
            "----------------------------------------\n"
          ]
        },
        {
          "output_type": "stream",
          "name": "stderr",
          "text": []
        },
        {
          "output_type": "stream",
          "name": "stdout",
          "text": [
            "Train - Loss: 0.5438, AUC: 0.7559\n",
            "\n",
            "Epoch 19/30\n",
            "----------------------------------------\n"
          ]
        },
        {
          "output_type": "stream",
          "name": "stderr",
          "text": []
        },
        {
          "output_type": "stream",
          "name": "stdout",
          "text": [
            "Train - Loss: 0.5420, AUC: 0.7565\n",
            "\n",
            "Epoch 20/30\n",
            "----------------------------------------\n"
          ]
        },
        {
          "output_type": "stream",
          "name": "stderr",
          "text": []
        },
        {
          "output_type": "stream",
          "name": "stdout",
          "text": [
            "Train - Loss: 0.5399, AUC: 0.7585\n",
            "\n",
            "Epoch 21/30\n",
            "----------------------------------------\n"
          ]
        },
        {
          "output_type": "stream",
          "name": "stderr",
          "text": []
        },
        {
          "output_type": "stream",
          "name": "stdout",
          "text": [
            "Train - Loss: 0.5401, AUC: 0.7597\n",
            "\n",
            "Epoch 22/30\n",
            "----------------------------------------\n"
          ]
        },
        {
          "output_type": "stream",
          "name": "stderr",
          "text": []
        },
        {
          "output_type": "stream",
          "name": "stdout",
          "text": [
            "Train - Loss: 0.5400, AUC: 0.7586\n",
            "\n",
            "Epoch 23/30\n",
            "----------------------------------------\n"
          ]
        },
        {
          "output_type": "stream",
          "name": "stderr",
          "text": []
        },
        {
          "output_type": "stream",
          "name": "stdout",
          "text": [
            "Train - Loss: 0.5390, AUC: 0.7614\n",
            "\n",
            "Epoch 24/30\n",
            "----------------------------------------\n"
          ]
        },
        {
          "output_type": "stream",
          "name": "stderr",
          "text": []
        },
        {
          "output_type": "stream",
          "name": "stdout",
          "text": [
            "Train - Loss: 0.5358, AUC: 0.7623\n",
            "\n",
            "Epoch 25/30\n",
            "----------------------------------------\n"
          ]
        },
        {
          "output_type": "stream",
          "name": "stderr",
          "text": []
        },
        {
          "output_type": "stream",
          "name": "stdout",
          "text": [
            "Train - Loss: 0.5386, AUC: 0.7607\n",
            "\n",
            "Epoch 26/30\n",
            "----------------------------------------\n"
          ]
        },
        {
          "output_type": "stream",
          "name": "stderr",
          "text": []
        },
        {
          "output_type": "stream",
          "name": "stdout",
          "text": [
            "Train - Loss: 0.5347, AUC: 0.7636\n",
            "\n",
            "Epoch 27/30\n",
            "----------------------------------------\n"
          ]
        },
        {
          "output_type": "stream",
          "name": "stderr",
          "text": []
        },
        {
          "output_type": "stream",
          "name": "stdout",
          "text": [
            "Train - Loss: 0.5371, AUC: 0.7637\n",
            "\n",
            "Epoch 28/30\n",
            "----------------------------------------\n"
          ]
        },
        {
          "output_type": "stream",
          "name": "stderr",
          "text": []
        },
        {
          "output_type": "stream",
          "name": "stdout",
          "text": [
            "Train - Loss: 0.5376, AUC: 0.7616\n",
            "\n",
            "Epoch 29/30\n",
            "----------------------------------------\n"
          ]
        },
        {
          "output_type": "stream",
          "name": "stderr",
          "text": []
        },
        {
          "output_type": "stream",
          "name": "stdout",
          "text": [
            "Train - Loss: 0.5353, AUC: 0.7649\n",
            "\n",
            "Epoch 30/30\n",
            "----------------------------------------\n"
          ]
        },
        {
          "output_type": "stream",
          "name": "stderr",
          "text": []
        },
        {
          "output_type": "stream",
          "name": "stdout",
          "text": [
            "Train - Loss: 0.5348, AUC: 0.7651\n",
            "✓ Final model saved! (Train AUC: 0.7651)\n",
            "\n",
            "Training complete!\n",
            "Final training AUC: 0.7651\n"
          ]
        }
      ],
      "source": [
        "# CELL 14: Train SAKT Model\n",
        "\n",
        "# Check if GPU is available and use it\n",
        "device = torch.device('cuda' if torch.cuda.is_available() else 'cpu')\n",
        "print(f\"Using device: {device}\")\n",
        "if device.type == 'cuda':\n",
        "    print(f\"GPU: {torch.cuda.get_device_name(0)}\")\n",
        "\n",
        "# SET SEED\n",
        "set_seeds(42)\n",
        "\n",
        "# Initialize model with paper's hyperparameters\n",
        "model = SAKT(\n",
        "    num_skills=num_skills,  # From my dataset analysis\n",
        "    embed_dim=100,   # Paper: d=[50, 100, 150, 200]\n",
        "    num_heads=5,     # Paper: h=5\n",
        "    dropout=0.2      # Paper: dropout=0.2 or 0.3\n",
        ").to(device)\n",
        "\n",
        "# Count model parameters\n",
        "total_params = sum(p.numel() for p in model.parameters())\n",
        "trainable_params = sum(p.numel() for p in model.parameters() if p.requires_grad)\n",
        "print(f\"Total parameters: {total_params:,}\")\n",
        "print(f\"Trainable parameters: {trainable_params:,}\")\n",
        "\n",
        "# Initialize optimizer (Adam with paper's learning rate)\n",
        "optimizer = optim.Adam(\n",
        "    model.parameters(),\n",
        "    lr=0.001,           # Paper uses 0.001\n",
        "    weight_decay=0.0001  # L2 regularization\n",
        ")\n",
        "\n",
        "# Loss function for binary classification\n",
        "# reduction='none' returns loss per element (needed for masking)\n",
        "criterion = nn.BCELoss(reduction='none')\n",
        "\n",
        "\n",
        "# Training configuration\n",
        "NUM_EPOCHS = 30\n",
        "\n",
        "# Track metrics for visualization\n",
        "history = {\n",
        "    'train_loss': [], 'train_auc': [],\n",
        "}\n",
        "\n",
        "print(f\"\\nStarting training for max {NUM_EPOCHS} epochs...\")\n",
        "print(\"=\"*60)\n",
        "\n",
        "# Main training loop\n",
        "for epoch in range(NUM_EPOCHS):\n",
        "    print(f\"\\nEpoch {epoch+1}/{NUM_EPOCHS}\")\n",
        "    print(\"-\" * 40)\n",
        "\n",
        "    # Train for one epoch\n",
        "    train_loss, train_auc = train_epoch(\n",
        "        model, train_loader, optimizer, criterion, device\n",
        "    )\n",
        "\n",
        "\n",
        "    # Store history\n",
        "    history['train_loss'].append(train_loss)\n",
        "    history['train_auc'].append(train_auc)\n",
        "\n",
        "    # Print metrics\n",
        "    print(f\"Train - Loss: {train_loss:.4f}, AUC: {train_auc:.4f}\")\n",
        "\n",
        "\n",
        "    if epoch + 1 == NUM_EPOCHS:\n",
        "        # Save checkpoint\n",
        "        checkpoint = {\n",
        "            'epoch': epoch + 1,\n",
        "            'model_state_dict': model.state_dict(),\n",
        "            'optimizer_state_dict': optimizer.state_dict(),\n",
        "            'train_auc': train_auc,\n",
        "            'history': history\n",
        "        }\n",
        "        torch.save(checkpoint, 'best_sakt_model.pth')\n",
        "        print(f\"✓ Final model saved! (Train AUC: {train_auc:.4f})\")\n",
        "\n",
        "print(f\"\\nTraining complete!\")\n",
        "print(f\"Final training AUC: {train_auc:.4f}\")"
      ]
    },
    {
      "cell_type": "markdown",
      "metadata": {
        "id": "-qt2FatlFKDk"
      },
      "source": [
        "# CELL 16: Evaluate on Test Set"
      ]
    },
    {
      "cell_type": "code",
      "execution_count": 20,
      "metadata": {
        "id": "fpUEBkydFMc5",
        "colab": {
          "base_uri": "https://localhost:8080/",
          "height": 0
        },
        "outputId": "c3abda0f-1d2b-4127-ecab-b18c162d5823"
      },
      "outputs": [
        {
          "output_type": "stream",
          "name": "stdout",
          "text": [
            "\n",
            "Evaluating on test set...\n"
          ]
        },
        {
          "output_type": "stream",
          "name": "stderr",
          "text": [
            "                                                         "
          ]
        },
        {
          "output_type": "stream",
          "name": "stdout",
          "text": [
            "\n",
            "Test Set Results:\n",
            "Test Loss: 0.5447\n",
            "Test AUC: 0.7320\n",
            "\n",
            "Generalization check:\n",
            "Test AUC: 0.7320\n"
          ]
        },
        {
          "output_type": "stream",
          "name": "stderr",
          "text": [
            "\r"
          ]
        },
        {
          "output_type": "stream",
          "name": "stdout",
          "text": [
            "\n",
            "Additional Test Metrics:\n",
            "Accuracy: 0.7230\n",
            "Precision: 0.7439\n",
            "Recall: 0.8922\n"
          ]
        }
      ],
      "source": [
        "# CELL 16: Evaluate on Test Set\n",
        "\n",
        "# Load best model\n",
        "checkpoint = torch.load('best_sakt_model.pth', weights_only=False)\n",
        "model.load_state_dict(checkpoint['model_state_dict'])\n",
        "\n",
        "# Evaluate on test set\n",
        "print(\"\\nEvaluating on test set...\")\n",
        "test_loss, test_auc = validate_epoch(model, test_loader, criterion, device)\n",
        "\n",
        "print(f\"\\nTest Set Results:\")\n",
        "print(f\"Test Loss: {test_loss:.4f}\")\n",
        "print(f\"Test AUC: {test_auc:.4f}\")\n",
        "\n",
        "# Compare with validation performance\n",
        "print(f\"\\nGeneralization check:\")\n",
        "print(f\"Test AUC: {test_auc:.4f}\")\n",
        "\n",
        "# Additional metrics\n",
        "from sklearn.metrics import accuracy_score, precision_score, recall_score, f1_score\n",
        "\n",
        "# Get predictions for additional metrics\n",
        "model.eval()\n",
        "all_predictions = []\n",
        "all_targets = []\n",
        "\n",
        "with torch.no_grad():\n",
        "    for batch in test_loader:\n",
        "        interactions = batch['interactions'].to(device)\n",
        "        skills = batch['skills'].to(device)\n",
        "        targets = batch['targets'].to(device)\n",
        "        mask = batch['mask'].to(device)\n",
        "\n",
        "        predictions = model(interactions, skills)\n",
        "\n",
        "        # Get actual batch size (last batch might be smaller)\n",
        "        current_batch_size = interactions.shape[0]\n",
        "\n",
        "        # Extract valid predictions for each sequence in batch\n",
        "        for i in range(current_batch_size):\n",
        "            mask_i = mask[i].cpu().numpy()\n",
        "            pred_i = predictions[i].cpu().numpy()\n",
        "            target_i = targets[i].cpu().numpy()\n",
        "\n",
        "            # Only add non-padded values\n",
        "            valid_idx = mask_i == 1\n",
        "            all_predictions.extend(pred_i[valid_idx].tolist())\n",
        "            all_targets.extend(target_i[valid_idx].tolist())\n",
        "\n",
        "# Convert to numpy arrays\n",
        "all_predictions = np.array(all_predictions)\n",
        "all_targets = np.array(all_targets)\n",
        "\n",
        "# Calculate additional metrics using 0.5 threshold\n",
        "binary_predictions = (all_predictions > 0.5).astype(int)\n",
        "\n",
        "accuracy = accuracy_score(all_targets, binary_predictions)\n",
        "precision = precision_score(all_targets, binary_predictions)\n",
        "recall = recall_score(all_targets, binary_predictions)\n",
        "#f1 = f1_score(all_targets, binary_predictions)\n",
        "\n",
        "print(f\"\\nAdditional Test Metrics:\")\n",
        "print(f\"Accuracy: {accuracy:.4f}\")\n",
        "print(f\"Precision: {precision:.4f}\")\n",
        "print(f\"Recall: {recall:.4f}\")"
      ]
    },
    {
      "cell_type": "code",
      "execution_count": 21,
      "metadata": {
        "id": "tG8IQBhjCUfS",
        "colab": {
          "base_uri": "https://localhost:8080/",
          "height": 0
        },
        "outputId": "ef98e344-474f-4f83-a08f-1e4a58b7d10c"
      },
      "outputs": [
        {
          "output_type": "stream",
          "name": "stdout",
          "text": [
            "Available columns in ASSIST2009:\n",
            "['Unnamed: 0', 'order_id', 'assignment_id', 'user_id', 'assistment_id', 'problem_id', 'original', 'correct', 'attempt_count', 'ms_first_response', 'tutor_mode', 'answer_type', 'sequence_id', 'student_class_id', 'position', 'type', 'base_sequence_id', 'skill_id', 'skill_name', 'teacher_id', 'school_id', 'hint_count', 'hint_total', 'overlap_time', 'template_id', 'answer_id', 'answer_text', 'first_action', 'bottom_hint', 'opportunity', 'opportunity_original']\n",
            "\n",
            "Available enhancement features: ['ms_first_response', 'hint_count', 'attempt_count', 'overlap_time']\n",
            "ms_first_response: 0.0% missing\n",
            "hint_count: 0.0% missing\n",
            "attempt_count: 0.0% missing\n",
            "overlap_time: 0.0% missing\n"
          ]
        }
      ],
      "source": [
        "# CELL 17: Examine Available Features for Enhancement\n",
        "\n",
        "# Load your data and check columns\n",
        "print(\"Available columns in ASSIST2009:\")\n",
        "print(df.columns.tolist())\n",
        "\n",
        "# Check for key features we want to use\n",
        "key_features = ['ms_first_response', 'hint_count', 'attempt_count', 'overlap_time']\n",
        "available_features = [f for f in key_features if f in df.columns]\n",
        "print(f\"\\nAvailable enhancement features: {available_features}\")\n",
        "\n",
        "# Check data completeness for these features\n",
        "for feature in available_features:\n",
        "    if feature in df.columns:\n",
        "        missing_pct = df[feature].isna().sum() / len(df) * 100\n",
        "        print(f\"{feature}: {missing_pct:.1f}% missing\")"
      ]
    },
    {
      "cell_type": "code",
      "source": [
        "# CELL 18: Enhanced Data Preprocessing (3 Features Only)\n",
        "\n",
        "def create_enhanced_sequences(df_clean, skill_to_idx, num_skills):\n",
        "    \"\"\"Create sequences with 3 Behavioral features (no scaffold)\"\"\"\n",
        "    sequences = []\n",
        "\n",
        "    for user_id, user_data in df_clean.groupby('user_id'):\n",
        "        # Basic features\n",
        "        skills = user_data['skill_id'].values\n",
        "        corrects = user_data['correct'].values\n",
        "        skill_indices = [skill_to_idx[skill] for skill in skills]\n",
        "\n",
        "        # Enhanced features (3 only)\n",
        "        # 1. Response time (normalize to 0-1 range)\n",
        "        if 'ms_first_response' in user_data.columns:\n",
        "            response_times = user_data['ms_first_response'].fillna(user_data['ms_first_response'].median()).values\n",
        "            response_times = np.clip(response_times, 0, 300000) / 300000.0\n",
        "        else:\n",
        "            response_times = np.ones(len(skills)) * 0.5\n",
        "\n",
        "        # 2. Hint usage (normalize by max hints)\n",
        "        if 'hint_count' in user_data.columns:\n",
        "            hint_counts = user_data['hint_count'].fillna(0).values\n",
        "            hint_counts = np.clip(hint_counts, 0, 5) / 5.0\n",
        "        else:\n",
        "            hint_counts = np.zeros(len(skills))\n",
        "\n",
        "        # 3. Attempt count\n",
        "        if 'attempt_count' in user_data.columns:\n",
        "            attempt_counts = user_data['attempt_count'].fillna(1).values\n",
        "            attempt_counts = np.clip(attempt_counts, 1, 5) / 5.0\n",
        "        else:\n",
        "            attempt_counts = np.ones(len(skills)) * 0.2\n",
        "\n",
        "        # Create interactions\n",
        "        interactions = []\n",
        "        for skill_idx, correct in zip(skill_indices, corrects):\n",
        "            interaction = skill_idx + (correct * num_skills)\n",
        "            interactions.append(interaction)\n",
        "\n",
        "        sequences.append({\n",
        "            'user_id': user_id,\n",
        "            'skill_indices': skill_indices,\n",
        "            'corrects': corrects,\n",
        "            'interactions': interactions,\n",
        "            'response_times': response_times,\n",
        "            'hint_counts': hint_counts,\n",
        "            'attempt_counts': attempt_counts,\n",
        "            'length': len(interactions)\n",
        "        })\n",
        "\n",
        "    return sequences\n",
        "\n",
        "# Create enhanced sequences\n",
        "print(\"Creating enhanced sequences...\")\n",
        "enhanced_sequences = create_enhanced_sequences(df_clean, skill_to_idx, num_skills)\n",
        "\n",
        "# Split data\n",
        "from sklearn.model_selection import train_test_split\n",
        "\n",
        "# SET SEED\n",
        "set_seeds(42)\n",
        "\n",
        "train_sequences_enh, test_sequences_enh = train_test_split(\n",
        "    enhanced_sequences,\n",
        "    test_size=0.2,\n",
        "    random_state=42\n",
        ")\n",
        "\n",
        "print(f\"Enhanced sequences created:\")\n",
        "print(f\"- Train: {len(train_sequences_enh)} students\")\n",
        "print(f\"- Test: {len(test_sequences_enh)} students\")"
      ],
      "metadata": {
        "colab": {
          "base_uri": "https://localhost:8080/",
          "height": 0
        },
        "id": "-ZY2wNNOj4Bf",
        "outputId": "874d82cf-f7a3-4058-95f8-0b7462cd12ec"
      },
      "execution_count": 22,
      "outputs": [
        {
          "output_type": "stream",
          "name": "stdout",
          "text": [
            "Creating enhanced sequences...\n",
            "Random seeds set to 42\n",
            "Enhanced sequences created:\n",
            "- Train: 2902 students\n",
            "- Test: 726 students\n"
          ]
        }
      ]
    },
    {
      "cell_type": "code",
      "execution_count": 23,
      "metadata": {
        "id": "14ir5gkkCjyb",
        "colab": {
          "base_uri": "https://localhost:8080/",
          "height": 0
        },
        "outputId": "d41e925d-bc1e-4f2b-bf8f-c05a4d0d0f64"
      },
      "outputs": [
        {
          "output_type": "stream",
          "name": "stdout",
          "text": [
            "Testing Behavioral-Aware SAKT...\n",
            "Enhanced model parameters: 298,002\n"
          ]
        }
      ],
      "source": [
        "# CELL 19: Behavioral-Aware SAKT Model\n",
        "\n",
        "import torch\n",
        "import torch.nn as nn\n",
        "import torch.nn.functional as F\n",
        "\n",
        "class BehavioralAwareSAKT(nn.Module):\n",
        "    def __init__(self, num_skills, embed_dim=100, num_heads=5, dropout=0.2, num_features=3):\n",
        "        \"\"\"\n",
        "        Enhanced SAKT with Behavioral awareness and multi-feature integration\n",
        "\n",
        "        Args:\n",
        "            num_features: Number of additional features (response_time, hints, attempts)\n",
        "        \"\"\"\n",
        "        super(BehavioralAwareSAKT, self).__init__()\n",
        "\n",
        "        self.num_skills = num_skills\n",
        "        self.embed_dim = embed_dim\n",
        "\n",
        "        # Original SAKT embeddings\n",
        "        self.interaction_embed = nn.Embedding(\n",
        "            num_skills * 2 + 1,\n",
        "            embed_dim,\n",
        "            padding_idx=num_skills * 2\n",
        "        )\n",
        "        self.skill_embed = nn.Embedding(\n",
        "            num_skills + 1,\n",
        "            embed_dim,\n",
        "            padding_idx=0\n",
        "        )\n",
        "        self.pos_embed = nn.Embedding(1000, embed_dim)\n",
        "\n",
        "        # Feature embeddings (New)\n",
        "        self.feature_proj = nn.Linear(num_features, embed_dim // 4)\n",
        "\n",
        "        # Behavioral-aware projection (New)\n",
        "        self.Behavioral_proj = nn.Linear(embed_dim + embed_dim // 4, embed_dim)\n",
        "\n",
        "        # Enhanced attention with Behavioral awareness\n",
        "        self.attention = nn.MultiheadAttention(\n",
        "            embed_dim,\n",
        "            num_heads,\n",
        "            dropout=dropout,\n",
        "            batch_first=True\n",
        "        )\n",
        "\n",
        "        # Sparse attention gate (learns which interactions to focus on) (New)\n",
        "        self.attention_gate = nn.Sequential(\n",
        "            nn.Linear(embed_dim * 2, embed_dim),\n",
        "            nn.ReLU(),\n",
        "            nn.Linear(embed_dim, 1),\n",
        "            nn.Sigmoid()\n",
        "        )\n",
        "\n",
        "        # Layer normalization\n",
        "        self.layer_norm1 = nn.LayerNorm(embed_dim)\n",
        "        self.layer_norm2 = nn.LayerNorm(embed_dim)\n",
        "\n",
        "        # Feed-forward network\n",
        "        self.ffn = nn.Sequential(\n",
        "            nn.Linear(embed_dim, embed_dim * 4),\n",
        "            nn.ReLU(),\n",
        "            nn.Dropout(dropout),\n",
        "            nn.Linear(embed_dim * 4, embed_dim)\n",
        "        )\n",
        "\n",
        "        # Output prediction with Behavioral awareness\n",
        "        self.pred = nn.Linear(embed_dim, 1)\n",
        "        self.dropout = nn.Dropout(dropout)\n",
        "\n",
        "    def forward(self, interactions, skills, features):\n",
        "        \"\"\"\n",
        "        Args:\n",
        "            interactions: [batch_size, seq_len]\n",
        "            skills: [batch_size, seq_len]\n",
        "            features: [batch_size, seq_len, num_features] - response_time, hints, attempts\n",
        "        \"\"\"\n",
        "        batch_size, seq_len = interactions.shape\n",
        "\n",
        "        # Position indices\n",
        "        positions = torch.arange(seq_len, device=interactions.device).unsqueeze(0).expand(batch_size, -1)\n",
        "\n",
        "        # Embed interactions and skills\n",
        "        interaction_embeds = self.interaction_embed(interactions)\n",
        "        skill_embeds = self.skill_embed(skills)\n",
        "\n",
        "        # NEW: Project features and combine with embeddings\n",
        "        feature_embeds = self.feature_proj(features)  # [batch, seq_len, embed_dim//4]\n",
        "\n",
        "        # Enhance interaction embeddings with features (Behavioral-aware)\n",
        "        enhanced_interactions = torch.cat([interaction_embeds, feature_embeds], dim=-1)\n",
        "        enhanced_interactions = self.Behavioral_proj(enhanced_interactions)\n",
        "\n",
        "        # Add positional embeddings\n",
        "        enhanced_interactions = enhanced_interactions + self.pos_embed(positions)\n",
        "        skill_embeds = skill_embeds + self.pos_embed(positions)\n",
        "\n",
        "        # Causal mask\n",
        "        attn_mask = torch.triu(\n",
        "            torch.ones(seq_len, seq_len, device=interactions.device) * float('-inf'),\n",
        "            diagonal=1\n",
        "        )\n",
        "\n",
        "        # Apply attention\n",
        "        attended, attn_weights = self.attention(\n",
        "            query=skill_embeds,\n",
        "            key=enhanced_interactions,\n",
        "            value=enhanced_interactions,\n",
        "            attn_mask=attn_mask,\n",
        "            need_weights=True\n",
        "        )\n",
        "\n",
        "        # NEW: Apply sparse attention gate\n",
        "        gate_input = torch.cat([skill_embeds, attended], dim=-1)\n",
        "        gate_weights = self.attention_gate(gate_input)\n",
        "        attended = attended * gate_weights\n",
        "\n",
        "        # Residual connection and layer norm\n",
        "        attended = self.layer_norm1(skill_embeds + self.dropout(attended))\n",
        "\n",
        "        # Feed-forward network\n",
        "        ffn_out = self.ffn(attended)\n",
        "        ffn_out = self.layer_norm2(attended + self.dropout(ffn_out))\n",
        "\n",
        "        # Predict\n",
        "        pred = self.pred(ffn_out).squeeze(-1)\n",
        "        return torch.sigmoid(pred)\n",
        "\n",
        "# Test the enhanced model\n",
        "print(\"Testing Behavioral-Aware SAKT...\")\n",
        "model_enhanced = BehavioralAwareSAKT(num_skills=145)\n",
        "print(f\"Enhanced model parameters: {sum(p.numel() for p in model_enhanced.parameters()):,}\")"
      ]
    },
    {
      "cell_type": "code",
      "execution_count": 24,
      "metadata": {
        "id": "t96ORb09Cq2f",
        "colab": {
          "base_uri": "https://localhost:8080/",
          "height": 0
        },
        "outputId": "75b1dd6a-3418-4929-c68b-b99242ed4179"
      },
      "outputs": [
        {
          "output_type": "stream",
          "name": "stdout",
          "text": [
            "Enhanced datasets created:\n",
            "Train batches: 33\n",
            "Test batches: 9\n"
          ]
        }
      ],
      "source": [
        "# CELL 20: Enhanced Dataset for BA-SAKT\n",
        "\n",
        "class EnhancedSAKTDataset(Dataset):\n",
        "    def __init__(self, sequences, max_seq_len=100, num_skills=145):\n",
        "        self.max_seq_len = max_seq_len\n",
        "        self.num_skills = num_skills\n",
        "        self.padding_interaction = num_skills * 2\n",
        "\n",
        "        # Process sequences\n",
        "        self.data = []\n",
        "        for seq in sequences:\n",
        "            if len(seq['interactions']) > max_seq_len:\n",
        "                # Split long sequences\n",
        "                for i in range(0, len(seq['interactions']), max_seq_len):\n",
        "                    end_idx = min(i + max_seq_len, len(seq['interactions']))\n",
        "                    self.data.append({\n",
        "                        'interactions': seq['interactions'][i:end_idx],\n",
        "                        'skills': seq['skill_indices'][i:end_idx],\n",
        "                        'corrects': seq['corrects'][i:end_idx],\n",
        "                        'response_times': seq['response_times'][i:end_idx],\n",
        "                        'hint_counts': seq['hint_counts'][i:end_idx],\n",
        "                        'attempt_counts': seq['attempt_counts'][i:end_idx]\n",
        "\n",
        "                    })\n",
        "            else:\n",
        "                self.data.append({\n",
        "                    'interactions': seq['interactions'],\n",
        "                    'skills': seq['skill_indices'],\n",
        "                    'corrects': seq['corrects'],\n",
        "                    'response_times': seq['response_times'],\n",
        "                    'hint_counts': seq['hint_counts'],\n",
        "                    'attempt_counts': seq['attempt_counts']\n",
        "                })\n",
        "\n",
        "    def __len__(self):\n",
        "        return len(self.data)\n",
        "\n",
        "    def __getitem__(self, idx):\n",
        "        seq = self.data[idx]\n",
        "        seq_len = len(seq['interactions'])\n",
        "\n",
        "        # Convert to lists and apply shifting\n",
        "        interactions = list(seq['interactions'])\n",
        "        skills = list(seq['skills'])\n",
        "        corrects = list(seq['corrects'])\n",
        "        response_times = list(seq['response_times'])\n",
        "        hint_counts = list(seq['hint_counts'])\n",
        "        attempt_counts = list(seq['attempt_counts'])\n",
        "\n",
        "        # Shift interactions\n",
        "        shifted_interactions = []\n",
        "        shifted_features = []\n",
        "        for i in range(seq_len):\n",
        "            if i == 0:\n",
        "                shifted_interactions.append(self.padding_interaction)\n",
        "                shifted_features.append([0.5, 0.0, 0.2])  # Default features\n",
        "            else:\n",
        "                shifted_interactions.append(interactions[i-1])\n",
        "                shifted_features.append([\n",
        "                    response_times[i-1],\n",
        "                    hint_counts[i-1],\n",
        "                    attempt_counts[i-1]\n",
        "                ])\n",
        "\n",
        "        interactions = shifted_interactions\n",
        "        features = shifted_features\n",
        "\n",
        "        # Pad to the LEFT\n",
        "        if seq_len < self.max_seq_len:\n",
        "            pad_len = self.max_seq_len - seq_len\n",
        "\n",
        "            interactions = [self.padding_interaction] * pad_len + interactions\n",
        "            skills = [0] * pad_len + skills\n",
        "            corrects = [0] * pad_len + corrects\n",
        "            features = [[0.5, 0.0, 0.2]] * pad_len + features\n",
        "            mask = [0] * pad_len + [1] * seq_len\n",
        "        else:\n",
        "            mask = [1] * self.max_seq_len\n",
        "\n",
        "        return {\n",
        "            'interactions': torch.tensor(interactions, dtype=torch.long),\n",
        "            'skills': torch.tensor(skills, dtype=torch.long),\n",
        "            'targets': torch.tensor(corrects, dtype=torch.float),\n",
        "            'features': torch.tensor(features, dtype=torch.float),\n",
        "            'mask': torch.tensor(mask, dtype=torch.float)\n",
        "        }\n",
        "\n",
        "# Create enhanced datasets\n",
        "train_dataset_enh = EnhancedSAKTDataset(train_sequences_enh, max_seq_len=100, num_skills=num_skills)\n",
        "test_dataset_enh = EnhancedSAKTDataset(test_sequences_enh, max_seq_len=100, num_skills=num_skills)\n",
        "\n",
        "# Create dataloaders\n",
        "train_loader_enh = DataLoader(train_dataset_enh, batch_size=128, shuffle=True)\n",
        "test_loader_enh = DataLoader(test_dataset_enh, batch_size=128, shuffle=False)\n",
        "\n",
        "print(f\"Enhanced datasets created:\")\n",
        "print(f\"Train batches: {len(train_loader_enh)}\")\n",
        "print(f\"Test batches: {len(test_loader_enh)}\")"
      ]
    },
    {
      "cell_type": "code",
      "execution_count": 25,
      "metadata": {
        "id": "v1UKWO09CvuQ",
        "colab": {
          "base_uri": "https://localhost:8080/",
          "height": 0
        },
        "outputId": "a58c9b6f-fb84-440a-f939-13b6be53c1b2"
      },
      "outputs": [
        {
          "output_type": "stream",
          "name": "stdout",
          "text": [
            "Random seeds set to 42\n",
            "Training Behavioral-Aware SAKT...\n"
          ]
        },
        {
          "output_type": "stream",
          "name": "stderr",
          "text": []
        },
        {
          "output_type": "stream",
          "name": "stdout",
          "text": [
            "Epoch 10: Train Loss=0.5479, Train AUC=0.7454\n"
          ]
        },
        {
          "output_type": "stream",
          "name": "stderr",
          "text": []
        },
        {
          "output_type": "stream",
          "name": "stdout",
          "text": [
            "Epoch 20: Train Loss=0.5412, Train AUC=0.7589\n"
          ]
        },
        {
          "output_type": "stream",
          "name": "stderr",
          "text": []
        },
        {
          "output_type": "stream",
          "name": "stdout",
          "text": [
            "Epoch 30: Train Loss=0.5294, Train AUC=0.7674\n",
            "\n",
            "============================================================\n",
            "MODEL COMPARISON\n",
            "============================================================\n",
            "\n",
            "Baseline SAKT:\n"
          ]
        },
        {
          "output_type": "stream",
          "name": "stderr",
          "text": [
            "                                                 "
          ]
        },
        {
          "output_type": "stream",
          "name": "stdout",
          "text": [
            "Test AUC: 0.7320\n",
            "\n",
            "Behavioral-Aware SAKT:\n"
          ]
        },
        {
          "output_type": "stream",
          "name": "stderr",
          "text": [
            "\r"
          ]
        },
        {
          "output_type": "stream",
          "name": "stdout",
          "text": [
            "Test AUC: 0.7393\n",
            "\n",
            "Improvement: +1.00%\n",
            "Absolute gain: +0.0073\n"
          ]
        }
      ],
      "source": [
        "# CELL 21: Train and Compare Models\n",
        "\n",
        "# Set seeds for reproducibility\n",
        "set_seeds(42)\n",
        "\n",
        "# Modified training functions for enhanced model\n",
        "def train_epoch_enhanced(model, train_loader, optimizer, criterion, device):\n",
        "    model.train()\n",
        "    total_loss = 0\n",
        "    all_predictions = []\n",
        "    all_targets = []\n",
        "\n",
        "    for batch in tqdm(train_loader, desc='Training', leave=False):\n",
        "        interactions = batch['interactions'].to(device)\n",
        "        skills = batch['skills'].to(device)\n",
        "        targets = batch['targets'].to(device)\n",
        "        features = batch['features'].to(device)\n",
        "        mask = batch['mask'].to(device)\n",
        "\n",
        "        optimizer.zero_grad()\n",
        "\n",
        "        # Forward pass with features\n",
        "        predictions = model(interactions, skills, features)\n",
        "\n",
        "        # Masked loss\n",
        "        loss = criterion(predictions, targets)\n",
        "        masked_loss = (loss * mask).sum() / mask.sum()\n",
        "\n",
        "        masked_loss.backward()\n",
        "        torch.nn.utils.clip_grad_norm_(model.parameters(), max_norm=1.0)\n",
        "        optimizer.step()\n",
        "\n",
        "        total_loss += masked_loss.item()\n",
        "\n",
        "        # Collect predictions\n",
        "        valid_idx = mask == 1\n",
        "        valid_predictions = predictions[valid_idx].detach().cpu().numpy()\n",
        "        valid_targets = targets[valid_idx].detach().cpu().numpy()\n",
        "\n",
        "        all_predictions.extend(valid_predictions)\n",
        "        all_targets.extend(valid_targets)\n",
        "\n",
        "    epoch_loss = total_loss / len(train_loader)\n",
        "    epoch_auc = roc_auc_score(all_targets, all_predictions)\n",
        "\n",
        "    return epoch_loss, epoch_auc\n",
        "\n",
        "# Train enhanced model\n",
        "print(\"Training Behavioral-Aware SAKT...\")\n",
        "model_enhanced = BehavioralAwareSAKT(\n",
        "    num_skills=145,\n",
        "    embed_dim=100,\n",
        "    num_heads=5,\n",
        "    dropout=0.2,\n",
        "    num_features=3\n",
        ").to(device)\n",
        "\n",
        "optimizer_enh = optim.Adam(model_enhanced.parameters(), lr=1e-3, weight_decay=1e-4)\n",
        "criterion = nn.BCELoss(reduction='none')\n",
        "\n",
        "# Training loop\n",
        "NUM_EPOCHS = 30\n",
        "best_test_auc = 0\n",
        "\n",
        "for epoch in range(NUM_EPOCHS):\n",
        "    train_loss, train_auc = train_epoch_enhanced(\n",
        "        model_enhanced, train_loader_enh, optimizer_enh, criterion, device\n",
        "    )\n",
        "\n",
        "    if (epoch + 1) % 10 == 0:\n",
        "        print(f\"Epoch {epoch+1}: Train Loss={train_loss:.4f}, Train AUC={train_auc:.4f}\")\n",
        "\n",
        "    # Save final model\n",
        "    if epoch + 1 == NUM_EPOCHS:\n",
        "        torch.save({\n",
        "            'model_state_dict': model_enhanced.state_dict(),\n",
        "            'train_auc': train_auc\n",
        "        }, 'enhanced_sakt_model.pth')\n",
        "\n",
        "# Evaluate both models\n",
        "print(\"\\n\" + \"=\"*60)\n",
        "print(\"MODEL COMPARISON\")\n",
        "print(\"=\"*60)\n",
        "\n",
        "# Load baseline model\n",
        "baseline_checkpoint = torch.load('best_sakt_model.pth', weights_only=False)\n",
        "model_baseline = SAKT(num_skills=145, embed_dim=100, num_heads=5, dropout=0.2).to(device)\n",
        "model_baseline.load_state_dict(baseline_checkpoint['model_state_dict'])\n",
        "\n",
        "# Evaluate baseline\n",
        "print(\"\\nBaseline SAKT:\")\n",
        "baseline_test_loss, baseline_test_auc = validate_epoch(\n",
        "    model_baseline, test_loader, criterion, device\n",
        ")\n",
        "print(f\"Test AUC: {baseline_test_auc:.4f}\")\n",
        "\n",
        "# Evaluate enhanced model\n",
        "print(\"\\nBehavioral-Aware SAKT:\")\n",
        "# Create a validation function for enhanced model\n",
        "def validate_enhanced(model, test_loader, criterion, device):\n",
        "    model.eval()\n",
        "    total_loss = 0\n",
        "    all_predictions = []\n",
        "    all_targets = []\n",
        "\n",
        "    with torch.no_grad():\n",
        "        for batch in test_loader:\n",
        "            interactions = batch['interactions'].to(device)\n",
        "            skills = batch['skills'].to(device)\n",
        "            targets = batch['targets'].to(device)\n",
        "            features = batch['features'].to(device)\n",
        "            mask = batch['mask'].to(device)\n",
        "\n",
        "            predictions = model(interactions, skills, features)\n",
        "\n",
        "            loss = criterion(predictions, targets)\n",
        "            masked_loss = (loss * mask).sum() / mask.sum()\n",
        "            total_loss += masked_loss.item()\n",
        "\n",
        "            valid_idx = mask == 1\n",
        "            valid_predictions = predictions[valid_idx].cpu().numpy()\n",
        "            valid_targets = targets[valid_idx].cpu().numpy()\n",
        "\n",
        "            all_predictions.extend(valid_predictions)\n",
        "            all_targets.extend(valid_targets)\n",
        "\n",
        "    test_loss = total_loss / len(test_loader)\n",
        "    test_auc = roc_auc_score(all_targets, all_predictions)\n",
        "\n",
        "    return test_loss, test_auc\n",
        "\n",
        "enhanced_test_loss, enhanced_test_auc = validate_enhanced(\n",
        "    model_enhanced, test_loader_enh, criterion, device\n",
        ")\n",
        "print(f\"Test AUC: {enhanced_test_auc:.4f}\")\n",
        "\n",
        "# Calculate improvement\n",
        "improvement = (enhanced_test_auc - baseline_test_auc) / baseline_test_auc * 100\n",
        "print(f\"\\nImprovement: {improvement:+.2f}%\")\n",
        "print(f\"Absolute gain: {enhanced_test_auc - baseline_test_auc:+.4f}\")"
      ]
    },
    {
      "cell_type": "markdown",
      "source": [
        "# CELL 22: Feature Ablation Study. Essential ablations to understand the 1.0% improvement"
      ],
      "metadata": {
        "id": "WSY5PNCK1Wcs"
      }
    },
    {
      "cell_type": "code",
      "source": [
        "# CELL 22: Feature Ablation Study\n",
        "\n",
        "print(\"Starting Feature Ablation Study\")\n",
        "print(\"=\"*60)\n",
        "\n",
        "# Ablation configurations\n",
        "ablation_configs = [\n",
        "    {'name': 'response_time_only', 'features_to_use': [0], 'description': 'Response Time Only'},\n",
        "    {'name': 'hints_only', 'features_to_use': [1], 'description': 'Hints Only'},\n",
        "    {'name': 'attempts_only', 'features_to_use': [2], 'description': 'Attempts Only'},\n",
        "    {'name': 'no_response_time', 'features_to_use': [1, 2], 'description': 'Hints + Attempts (No RT)'},\n",
        "    {'name': 'no_hints', 'features_to_use': [0, 2], 'description': 'RT + Attempts (No Hints)'},\n",
        "    {'name': 'no_attempts', 'features_to_use': [0, 1], 'description': 'RT + Hints (No Attempts)'},\n",
        "]\n",
        "\n",
        "# Store results\n",
        "ablation_results = {}\n",
        "\n",
        "# Run each ablation\n",
        "for config in ablation_configs:\n",
        "    print(f\"\\nTesting: {config['description']}\")\n",
        "\n",
        "    # Create modified dataset that uses only selected features\n",
        "    class AblationDataset(Dataset):\n",
        "        def __init__(self, original_dataset, features_to_use):\n",
        "            self.original_dataset = original_dataset\n",
        "            self.features_to_use = features_to_use\n",
        "            self.num_features = len(features_to_use)\n",
        "\n",
        "        def __len__(self):\n",
        "            return len(self.original_dataset)\n",
        "\n",
        "        def __getitem__(self, idx):\n",
        "            item = self.original_dataset[idx]\n",
        "            # Select only specified features\n",
        "            features = item['features']\n",
        "            selected_features = features[:, self.features_to_use]\n",
        "\n",
        "            return {\n",
        "                'interactions': item['interactions'],\n",
        "                'skills': item['skills'],\n",
        "                'targets': item['targets'],\n",
        "                'features': selected_features,\n",
        "                'mask': item['mask']\n",
        "            }\n",
        "\n",
        "    # Create ablation datasets\n",
        "    train_dataset_ablation = AblationDataset(train_dataset_enh, config['features_to_use'])\n",
        "    test_dataset_ablation = AblationDataset(test_dataset_enh, config['features_to_use'])\n",
        "\n",
        "    train_loader_ablation = DataLoader(train_dataset_ablation, batch_size=128, shuffle=True)\n",
        "    test_loader_ablation = DataLoader(test_dataset_ablation, batch_size=128, shuffle=False)\n",
        "\n",
        "    # Train model with fewer features\n",
        "    set_seeds(42)  # Same seed for fair comparison\n",
        "\n",
        "    model_ablation = BehavioralAwareSAKT(\n",
        "        num_skills=num_skills,\n",
        "        embed_dim=100,\n",
        "        num_heads=5,\n",
        "        dropout=0.2,\n",
        "        num_features=len(config['features_to_use'])\n",
        "    ).to(device)\n",
        "\n",
        "    optimizer = optim.Adam(model_ablation.parameters(), lr=1e-3, weight_decay=1e-4)\n",
        "\n",
        "    # Quick training (30 epochs for ablation)\n",
        "    for epoch in range(30):\n",
        "        train_loss, train_auc = train_epoch_enhanced(\n",
        "            model_ablation, train_loader_ablation, optimizer, criterion, device\n",
        "        )\n",
        "\n",
        "    # Evaluate\n",
        "    test_loss, test_auc = validate_enhanced(\n",
        "        model_ablation, test_loader_ablation, criterion, device\n",
        "    )\n",
        "\n",
        "    ablation_results[config['name']] = {\n",
        "        'test_auc': test_auc,\n",
        "        'description': config['description'],\n",
        "        'improvement': (test_auc - 0.7320) / 0.7320 * 100  # vs baseline\n",
        "    }\n",
        "\n",
        "    print(f\"Test AUC: {test_auc:.4f} (vs baseline: {ablation_results[config['name']]['improvement']:+.2f}%)\")\n",
        "\n",
        "# Summary\n",
        "print(\"\\n\" + \"=\"*60)\n",
        "print(\"ABLATION STUDY SUMMARY\")\n",
        "print(\"=\"*60)\n",
        "print(f\"{'Configuration':<30} {'AUC':<8} {'vs Baseline':<12}\")\n",
        "print(\"-\"*50)\n",
        "for name, results in ablation_results.items():\n",
        "    print(f\"{results['description']:<30} {results['test_auc']:<8.4f} {results['improvement']:+.2f}%\")\n",
        "\n",
        "print(f\"\\n{'Full Model (All 3 features)':<30} {0.7393:<8.4f} {1.00:+.2f}%\")"
      ],
      "metadata": {
        "colab": {
          "base_uri": "https://localhost:8080/",
          "height": 0
        },
        "id": "4PmM1dFw1XPV",
        "outputId": "1b7eebf8-f6a1-4dc3-d37b-b9eae895cb3f"
      },
      "execution_count": 26,
      "outputs": [
        {
          "output_type": "stream",
          "name": "stdout",
          "text": [
            "Starting Feature Ablation Study\n",
            "============================================================\n",
            "\n",
            "Testing: Response Time Only\n",
            "Random seeds set to 42\n"
          ]
        },
        {
          "output_type": "stream",
          "name": "stderr",
          "text": []
        },
        {
          "output_type": "stream",
          "name": "stdout",
          "text": [
            "Test AUC: 0.7347 (vs baseline: +0.37%)\n",
            "\n",
            "Testing: Hints Only\n",
            "Random seeds set to 42\n"
          ]
        },
        {
          "output_type": "stream",
          "name": "stderr",
          "text": []
        },
        {
          "output_type": "stream",
          "name": "stdout",
          "text": [
            "Test AUC: 0.7386 (vs baseline: +0.91%)\n",
            "\n",
            "Testing: Attempts Only\n",
            "Random seeds set to 42\n"
          ]
        },
        {
          "output_type": "stream",
          "name": "stderr",
          "text": []
        },
        {
          "output_type": "stream",
          "name": "stdout",
          "text": [
            "Test AUC: 0.7351 (vs baseline: +0.42%)\n",
            "\n",
            "Testing: Hints + Attempts (No RT)\n",
            "Random seeds set to 42\n"
          ]
        },
        {
          "output_type": "stream",
          "name": "stderr",
          "text": []
        },
        {
          "output_type": "stream",
          "name": "stdout",
          "text": [
            "Test AUC: 0.7373 (vs baseline: +0.73%)\n",
            "\n",
            "Testing: RT + Attempts (No Hints)\n",
            "Random seeds set to 42\n"
          ]
        },
        {
          "output_type": "stream",
          "name": "stderr",
          "text": []
        },
        {
          "output_type": "stream",
          "name": "stdout",
          "text": [
            "Test AUC: 0.7338 (vs baseline: +0.25%)\n",
            "\n",
            "Testing: RT + Hints (No Attempts)\n",
            "Random seeds set to 42\n"
          ]
        },
        {
          "output_type": "stream",
          "name": "stderr",
          "text": []
        },
        {
          "output_type": "stream",
          "name": "stdout",
          "text": [
            "Test AUC: 0.7374 (vs baseline: +0.73%)\n",
            "\n",
            "============================================================\n",
            "ABLATION STUDY SUMMARY\n",
            "============================================================\n",
            "Configuration                  AUC      vs Baseline \n",
            "--------------------------------------------------\n",
            "Response Time Only             0.7347   +0.37%\n",
            "Hints Only                     0.7386   +0.91%\n",
            "Attempts Only                  0.7351   +0.42%\n",
            "Hints + Attempts (No RT)       0.7373   +0.73%\n",
            "RT + Attempts (No Hints)       0.7338   +0.25%\n",
            "RT + Hints (No Attempts)       0.7374   +0.73%\n",
            "\n",
            "Full Model (All 3 features)    0.7393   +1.00%\n"
          ]
        }
      ]
    },
    {
      "cell_type": "markdown",
      "source": [
        "# CELL 23: Statistical Significance Test. Statistical Validation."
      ],
      "metadata": {
        "id": "H7AsYvWF1wiM"
      }
    },
    {
      "cell_type": "code",
      "source": [
        "# CELL 23: Statistical Significance Test - COMPLETE IMPLEMENTATION\n",
        "from scipy import stats\n",
        "import numpy as np\n",
        "\n",
        "def quick_train_baseline(seed, num_epochs=30):\n",
        "    \"\"\"Quick training for statistical test - fewer epochs for speed\"\"\"\n",
        "    set_seeds(seed)\n",
        "\n",
        "    # Initialize baseline model\n",
        "    model_baseline = SAKT(\n",
        "        num_skills=num_skills,\n",
        "        embed_dim=100,\n",
        "        num_heads=5,\n",
        "        dropout=0.2\n",
        "    ).to(device)\n",
        "\n",
        "    optimizer = optim.Adam(model_baseline.parameters(), lr=1e-3, weight_decay=1e-4)\n",
        "    criterion = nn.BCELoss(reduction='none')\n",
        "\n",
        "    # Training loop\n",
        "    for epoch in range(num_epochs):\n",
        "        train_loss, train_auc = train_epoch(\n",
        "            model_baseline, train_loader, optimizer, criterion, device\n",
        "        )\n",
        "\n",
        "    # Evaluate\n",
        "    test_loss, test_auc = validate_epoch(model_baseline, test_loader, criterion, device)\n",
        "    return test_auc\n",
        "\n",
        "def quick_train_enhanced(seed, num_epochs=20):\n",
        "    \"\"\"Quick training for enhanced model - fewer epochs for speed\"\"\"\n",
        "    set_seeds(seed)\n",
        "\n",
        "    # Initialize enhanced model\n",
        "    model_enhanced = BehavioralAwareSAKT(\n",
        "        num_skills=num_skills,\n",
        "        embed_dim=100,\n",
        "        num_heads=5,\n",
        "        dropout=0.2,\n",
        "        num_features=3\n",
        "    ).to(device)\n",
        "\n",
        "    optimizer = optim.Adam(model_enhanced.parameters(), lr=1e-3, weight_decay=1e-4)\n",
        "    criterion = nn.BCELoss(reduction='none')\n",
        "\n",
        "    # Quick training loop\n",
        "    for epoch in range(num_epochs):\n",
        "        train_loss, train_auc = train_epoch_enhanced(\n",
        "            model_enhanced, train_loader_enh, optimizer, criterion, device\n",
        "        )\n",
        "\n",
        "    # Evaluate\n",
        "    test_loss, test_auc = validate_enhanced(model_enhanced, test_loader_enh, criterion, device)\n",
        "    return test_auc\n",
        "\n",
        "# Main statistical significance test\n",
        "print(\"Statistical Significance Testing\")\n",
        "print(\"=\"*60)\n",
        "print(\"Note: Using 20 epochs per run for speed (instead of 30)\")\n",
        "print()\n",
        "\n",
        "# Store results\n",
        "baseline_aucs = []\n",
        "enhanced_aucs = []\n",
        "seeds = [42, 123, 456, 789, 101]\n",
        "\n",
        "print(\"Running 5 random seeds for statistical test...\")\n",
        "\n",
        "for i, seed in enumerate(seeds):\n",
        "    print(f\"\\nRun {i+1}/5 with seed {seed}\")\n",
        "\n",
        "    # Train baseline model\n",
        "    print(\"  Training baseline model...\")\n",
        "    baseline_auc = quick_train_baseline(seed, num_epochs=20)\n",
        "    baseline_aucs.append(baseline_auc)\n",
        "    print(f\"  Baseline AUC: {baseline_auc:.4f}\")\n",
        "\n",
        "    # Train enhanced model\n",
        "    print(\"  Training enhanced model...\")\n",
        "    enhanced_auc = quick_train_enhanced(seed, num_epochs=20)\n",
        "    enhanced_aucs.append(enhanced_auc)\n",
        "    print(f\"  Enhanced AUC: {enhanced_auc:.4f}\")\n",
        "    print(f\"  Improvement: {enhanced_auc - baseline_auc:+.4f}\")\n",
        "\n",
        "# Convert to numpy arrays\n",
        "baseline_aucs = np.array(baseline_aucs)\n",
        "enhanced_aucs = np.array(enhanced_aucs)\n",
        "\n",
        "# Statistical analysis\n",
        "print(\"\\n\" + \"=\"*60)\n",
        "print(\"STATISTICAL ANALYSIS RESULTS\")\n",
        "print(\"=\"*60)\n",
        "\n",
        "# Basic statistics\n",
        "print(f\"Baseline AUC - Mean: {baseline_aucs.mean():.4f}, Std: {baseline_aucs.std():.4f}\")\n",
        "print(f\"Enhanced AUC - Mean: {enhanced_aucs.mean():.4f}, Std: {enhanced_aucs.std():.4f}\")\n",
        "\n",
        "# Improvements for each run\n",
        "improvements = enhanced_aucs - baseline_aucs\n",
        "print(f\"Improvements - Mean: {improvements.mean():.4f}, Std: {improvements.std():.4f}\")\n",
        "print(f\"Individual improvements: {[f'{imp:.4f}' for imp in improvements]}\")\n",
        "\n",
        "# Paired t-test\n",
        "t_stat, p_value = stats.ttest_rel(enhanced_aucs, baseline_aucs)\n",
        "print(f\"\\nPaired t-test results:\")\n",
        "print(f\"t-statistic: {t_stat:.4f}\")\n",
        "print(f\"p-value: {p_value:.4f}\")\n",
        "print(f\"Significant at α=0.05: {'Yes' if p_value < 0.05 else 'No'}\")\n",
        "print(f\"Significant at α=0.01: {'Yes' if p_value < 0.01 else 'No'}\")\n",
        "\n",
        "# Effect size (Cohen's d for paired samples)\n",
        "effect_size = improvements.mean() / improvements.std()\n",
        "print(f\"\\nEffect size (Cohen's d): {effect_size:.4f}\")\n",
        "\n",
        "# Interpretation\n",
        "if effect_size > 0.8:\n",
        "    effect_interpretation = \"Large effect\"\n",
        "elif effect_size > 0.5:\n",
        "    effect_interpretation = \"Medium effect\"\n",
        "elif effect_size > 0.2:\n",
        "    effect_interpretation = \"Small effect\"\n",
        "else:\n",
        "    effect_interpretation = \"Negligible effect\"\n",
        "\n",
        "print(f\"Effect interpretation: {effect_interpretation}\")\n",
        "\n",
        "# 95% Confidence interval for the mean improvement\n",
        "from scipy.stats import t\n",
        "n = len(improvements)\n",
        "confidence_level = 0.95\n",
        "alpha = 1 - confidence_level\n",
        "dof = n - 1\n",
        "t_critical = t.ppf(1 - alpha/2, dof)\n",
        "margin_error = t_critical * (improvements.std() / np.sqrt(n))\n",
        "ci_lower = improvements.mean() - margin_error\n",
        "ci_upper = improvements.mean() + margin_error\n",
        "\n",
        "print(f\"\\n95% Confidence Interval for improvement:\")\n",
        "print(f\"[{ci_lower:.4f}, {ci_upper:.4f}]\")\n",
        "\n",
        "# Summary for thesis\n",
        "print(\"\\n\" + \"=\"*60)\n",
        "print(\"SUMMARY FOR THESIS\")\n",
        "print(\"=\"*60)\n",
        "print(f\"• BA-SAKT shows consistent improvement over baseline SAKT\")\n",
        "print(f\"• Mean improvement: {improvements.mean():.4f} AUC points\")\n",
        "print(f\"• Statistical significance: p = {p_value:.4f}\")\n",
        "print(f\"• Effect size: {effect_size:.4f} ({effect_interpretation.lower()})\")\n",
        "print(f\"• 95% CI: [{ci_lower:.4f}, {ci_upper:.4f}]\")\n",
        "\n",
        "if p_value < 0.05:\n",
        "    print(f\"• Result: Statistically significant improvement (p < 0.05)\")\n",
        "else:\n",
        "    print(f\"• Result: Improvement not statistically significant (p ≥ 0.05)\")"
      ],
      "metadata": {
        "colab": {
          "base_uri": "https://localhost:8080/",
          "height": 0
        },
        "id": "7m7htPxN1tbu",
        "outputId": "59cae1ab-f6d3-4da5-9e61-6a48b21449c2"
      },
      "execution_count": 27,
      "outputs": [
        {
          "output_type": "stream",
          "name": "stdout",
          "text": [
            "Statistical Significance Testing\n",
            "============================================================\n",
            "Note: Using 20 epochs per run for speed (instead of 30)\n",
            "\n",
            "Running 5 random seeds for statistical test...\n",
            "\n",
            "Run 1/5 with seed 42\n",
            "  Training baseline model...\n",
            "Random seeds set to 42\n"
          ]
        },
        {
          "output_type": "stream",
          "name": "stderr",
          "text": []
        },
        {
          "output_type": "stream",
          "name": "stdout",
          "text": [
            "  Baseline AUC: 0.7318\n",
            "  Training enhanced model...\n",
            "Random seeds set to 42\n"
          ]
        },
        {
          "output_type": "stream",
          "name": "stderr",
          "text": []
        },
        {
          "output_type": "stream",
          "name": "stdout",
          "text": [
            "  Enhanced AUC: 0.7378\n",
            "  Improvement: +0.0060\n",
            "\n",
            "Run 2/5 with seed 123\n",
            "  Training baseline model...\n",
            "Random seeds set to 123\n"
          ]
        },
        {
          "output_type": "stream",
          "name": "stderr",
          "text": []
        },
        {
          "output_type": "stream",
          "name": "stdout",
          "text": [
            "  Baseline AUC: 0.7321\n",
            "  Training enhanced model...\n",
            "Random seeds set to 123\n"
          ]
        },
        {
          "output_type": "stream",
          "name": "stderr",
          "text": []
        },
        {
          "output_type": "stream",
          "name": "stdout",
          "text": [
            "  Enhanced AUC: 0.7380\n",
            "  Improvement: +0.0059\n",
            "\n",
            "Run 3/5 with seed 456\n",
            "  Training baseline model...\n",
            "Random seeds set to 456\n"
          ]
        },
        {
          "output_type": "stream",
          "name": "stderr",
          "text": []
        },
        {
          "output_type": "stream",
          "name": "stdout",
          "text": [
            "  Baseline AUC: 0.7321\n",
            "  Training enhanced model...\n",
            "Random seeds set to 456\n"
          ]
        },
        {
          "output_type": "stream",
          "name": "stderr",
          "text": []
        },
        {
          "output_type": "stream",
          "name": "stdout",
          "text": [
            "  Enhanced AUC: 0.7385\n",
            "  Improvement: +0.0064\n",
            "\n",
            "Run 4/5 with seed 789\n",
            "  Training baseline model...\n",
            "Random seeds set to 789\n"
          ]
        },
        {
          "output_type": "stream",
          "name": "stderr",
          "text": []
        },
        {
          "output_type": "stream",
          "name": "stdout",
          "text": [
            "  Baseline AUC: 0.7325\n",
            "  Training enhanced model...\n",
            "Random seeds set to 789\n"
          ]
        },
        {
          "output_type": "stream",
          "name": "stderr",
          "text": []
        },
        {
          "output_type": "stream",
          "name": "stdout",
          "text": [
            "  Enhanced AUC: 0.7381\n",
            "  Improvement: +0.0056\n",
            "\n",
            "Run 5/5 with seed 101\n",
            "  Training baseline model...\n",
            "Random seeds set to 101\n"
          ]
        },
        {
          "output_type": "stream",
          "name": "stderr",
          "text": []
        },
        {
          "output_type": "stream",
          "name": "stdout",
          "text": [
            "  Baseline AUC: 0.7300\n",
            "  Training enhanced model...\n",
            "Random seeds set to 101\n"
          ]
        },
        {
          "output_type": "stream",
          "name": "stderr",
          "text": []
        },
        {
          "output_type": "stream",
          "name": "stdout",
          "text": [
            "  Enhanced AUC: 0.7376\n",
            "  Improvement: +0.0076\n",
            "\n",
            "============================================================\n",
            "STATISTICAL ANALYSIS RESULTS\n",
            "============================================================\n",
            "Baseline AUC - Mean: 0.7317, Std: 0.0009\n",
            "Enhanced AUC - Mean: 0.7380, Std: 0.0003\n",
            "Improvements - Mean: 0.0063, Std: 0.0007\n",
            "Individual improvements: ['0.0060', '0.0059', '0.0064', '0.0056', '0.0076']\n",
            "\n",
            "Paired t-test results:\n",
            "t-statistic: 17.9763\n",
            "p-value: 0.0001\n",
            "Significant at α=0.05: Yes\n",
            "Significant at α=0.01: Yes\n",
            "\n",
            "Effect size (Cohen's d): 8.9882\n",
            "Effect interpretation: Large effect\n",
            "\n",
            "95% Confidence Interval for improvement:\n",
            "[0.0054, 0.0072]\n",
            "\n",
            "============================================================\n",
            "SUMMARY FOR THESIS\n",
            "============================================================\n",
            "• BA-SAKT shows consistent improvement over baseline SAKT\n",
            "• Mean improvement: 0.0063 AUC points\n",
            "• Statistical significance: p = 0.0001\n",
            "• Effect size: 8.9882 (large effect)\n",
            "• 95% CI: [0.0054, 0.0072]\n",
            "• Result: Statistically significant improvement (p < 0.05)\n"
          ]
        }
      ]
    },
    {
      "cell_type": "markdown",
      "source": [
        "# CELL 24: Final Results Visualization"
      ],
      "metadata": {
        "id": "O2VNLKhb2KEH"
      }
    },
    {
      "cell_type": "code",
      "source": [
        "# CELL 24: Final Results Visualization\n",
        "\n",
        "import matplotlib.pyplot as plt\n",
        "\n",
        "# Create summary plot\n",
        "fig, (ax1, ax2) = plt.subplots(1, 2, figsize=(12, 5))\n",
        "\n",
        "# Model comparison\n",
        "models = ['Baseline SAKT', 'BA-SAKT']\n",
        "aucs = [0.7320, 0.7393]\n",
        "ax1.bar(models, aucs, color=['blue', 'green'])\n",
        "ax1.set_ylabel('Test AUC')\n",
        "ax1.set_title('Model Performance Comparison')\n",
        "ax1.set_ylim(0.73, 0.74)\n",
        "\n",
        "# Add value labels\n",
        "for i, v in enumerate(aucs):\n",
        "    ax1.text(i, v + 0.0005, f'{v:.4f}', ha='center')\n",
        "\n",
        "# Feature importance (from ablation)\n",
        "# Plot feature contributions\n",
        "features = ['Response Time', 'Hints', 'Attempts']\n",
        "contributions = [\n",
        "    ablation_results['response_time_only']['improvement'],\n",
        "    ablation_results['hints_only']['improvement'],\n",
        "    ablation_results['attempts_only']['improvement']\n",
        "]\n",
        "\n",
        "ax2.bar(features, contributions, color=['orange', 'purple', 'brown'])\n",
        "ax2.set_ylabel('Improvement over Baseline (%)')\n",
        "ax2.set_title('Individual Feature Contributions')\n",
        "ax2.axhline(y=0, color='black', linestyle='-', linewidth=0.5)\n",
        "\n",
        "plt.tight_layout()\n",
        "plt.savefig('da_sakt_results.png', dpi=300, bbox_inches='tight')\n",
        "plt.show()\n",
        "\n",
        "print(\"Results saved to da_sakt_results.png\")"
      ],
      "metadata": {
        "colab": {
          "base_uri": "https://localhost:8080/",
          "height": 293
        },
        "id": "e0wHOrgP2Gei",
        "outputId": "d7fc38ce-1b7f-499f-88b2-94df91bc7936"
      },
      "execution_count": 28,
      "outputs": [
        {
          "output_type": "display_data",
          "data": {
            "text/plain": [
              "<Figure size 1200x500 with 2 Axes>"
            ],
            "image/png": "[encoded data removed]"
          },
          "metadata": {}
        },
        {
          "output_type": "stream",
          "name": "stdout",
          "text": [
            "Results saved to da_sakt_results.png\n"
          ]
        }
      ]
    }
  ],
  "metadata": {
    "colab": {
      "provenance": [],
      "machine_shape": "hm",
      "gpuType": "L4",
      "authorship_tag": "ABX9TyP5BMFuNHi28OOc+OzUn7lt",
      "include_colab_link": true
    },
    "kernelspec": {
      "display_name": "Python 3",
      "name": "python3"
    },
    "language_info": {
      "name": "python"
    },
    "accelerator": "GPU"
  },
  "nbformat": 4,
  "nbformat_minor": 0
}